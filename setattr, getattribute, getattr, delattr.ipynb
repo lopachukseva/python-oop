{
 "cells": [
  {
   "cell_type": "markdown",
   "id": "5cae5a81",
   "metadata": {},
   "source": [
    "Класс можно воспринимать как некое пространство имен, в котором записаны свойства и методы - атрибуты класса. В данном приимере 4 аргумента: 2 свойства и 2 метода:"
   ]
  },
  {
   "cell_type": "code",
   "execution_count": 1,
   "id": "83d7257b",
   "metadata": {},
   "outputs": [],
   "source": [
    "class Point:\n",
    "    MAX_COORD = 100\n",
    "    MIN_COORD = 0\n",
    "    \n",
    "    def __init__(self, x, y):\n",
    "        self.x = x\n",
    "        self.y = y\n",
    "    \n",
    "    def set_coords(self, x, y):\n",
    "        self.x = x\n",
    "        self.y = y"
   ]
  },
  {
   "cell_type": "markdown",
   "id": "690d65c5",
   "metadata": {},
   "source": [
    "Далее, при создании экземпляров класса, атрибуты остаются в класса и не копируются в отдельные экземпляры. Т.е. атрибуты класса являются общими для всех его экземпляров:"
   ]
  },
  {
   "cell_type": "code",
   "execution_count": 2,
   "id": "e849351a",
   "metadata": {},
   "outputs": [
    {
     "name": "stdout",
     "output_type": "stream",
     "text": [
      "{'x': 1, 'y': 2} {'x': 8, 'y': 3}\n"
     ]
    }
   ],
   "source": [
    "pt1 = Point(1, 2)\n",
    "pt2 = Point(8, 3)\n",
    "\n",
    "print(pt1.__dict__, pt2.__dict__)"
   ]
  },
  {
   "cell_type": "markdown",
   "id": "4d80ebe2",
   "metadata": {},
   "source": [
    "Но при этом из экземпляров класса можно спокойно обращаться к атрибутам класса:"
   ]
  },
  {
   "cell_type": "code",
   "execution_count": 3,
   "id": "015d2c78",
   "metadata": {},
   "outputs": [
    {
     "data": {
      "text/plain": [
       "100"
      ]
     },
     "execution_count": 3,
     "metadata": {},
     "output_type": "execute_result"
    }
   ],
   "source": [
    "pt1.MAX_COORD"
   ]
  },
  {
   "cell_type": "code",
   "execution_count": 4,
   "id": "317ee2aa",
   "metadata": {},
   "outputs": [
    {
     "name": "stdout",
     "output_type": "stream",
     "text": [
      "{'x': 3, 'y': 3}\n"
     ]
    }
   ],
   "source": [
    "pt1.set_coords(3, 3)\n",
    "print(pt1.__dict__)"
   ]
  },
  {
   "cell_type": "markdown",
   "id": "856e6e65",
   "metadata": {},
   "source": [
    "При обращении к атрибутам класса внутри методов необходимо дать ссылку либо на класс, либо на экземпляр класса (второй вариант предпочтительнее, так как является более универсальным):"
   ]
  },
  {
   "cell_type": "code",
   "execution_count": 5,
   "id": "36f06980",
   "metadata": {},
   "outputs": [],
   "source": [
    "class Point:\n",
    "    MAX_COORD = 100\n",
    "    MIN_COORD = 0\n",
    "    \n",
    "    def __init__(self, x=0, y=0):\n",
    "        self.x = x\n",
    "        self.y = y\n",
    "    \n",
    "    def set_coords(self, x, y):\n",
    "        if (self.MIN_COORD <= x <= self.MAX_COORD) and (self.MIN_COORD <= y <= self.MAX_COORD):\n",
    "            self.x = x\n",
    "            self.y = y\n",
    "        else: raise ValueError('Неверные координаты')"
   ]
  },
  {
   "cell_type": "code",
   "execution_count": 6,
   "id": "11599e26",
   "metadata": {},
   "outputs": [],
   "source": [
    "pt1 = Point()"
   ]
  },
  {
   "cell_type": "code",
   "execution_count": 7,
   "id": "2211c144",
   "metadata": {
    "scrolled": true
   },
   "outputs": [],
   "source": [
    "pt1.set_coords(1, 2)"
   ]
  },
  {
   "cell_type": "markdown",
   "id": "bd3477ce",
   "metadata": {},
   "source": [
    "Но если мы захотим поменять через экземпляр класса какой либо параметр класса таким образом, определив метод set_bound:"
   ]
  },
  {
   "cell_type": "code",
   "execution_count": 8,
   "id": "57be3c01",
   "metadata": {},
   "outputs": [],
   "source": [
    "class Point:\n",
    "    MAX_COORD = 100\n",
    "    MIN_COORD = 0\n",
    "    \n",
    "    def __init__(self, x=0, y=0):\n",
    "        self.x = x\n",
    "        self.y = y\n",
    "    \n",
    "    def set_coords(self, x, y):\n",
    "        if (self.MIN_COORD <= x <= self.MAX_COORD) and (self.MIN_COORD <= y <= self.MAX_COORD):\n",
    "            self.x = x\n",
    "            self.y = y\n",
    "        else: raise ValueError('Неверные координаты')\n",
    "            \n",
    "    def set_bound(self, left, right):\n",
    "        self.MAX_COORD = left\n",
    "        self.MIN_COORD = right"
   ]
  },
  {
   "cell_type": "code",
   "execution_count": 9,
   "id": "29b518db",
   "metadata": {},
   "outputs": [],
   "source": [
    "pt = Point()"
   ]
  },
  {
   "cell_type": "markdown",
   "id": "3900a1c4",
   "metadata": {},
   "source": [
    "То при попытке совершить следующее действие:"
   ]
  },
  {
   "cell_type": "code",
   "execution_count": 10,
   "id": "84bece3d",
   "metadata": {},
   "outputs": [],
   "source": [
    "pt.set_bound(200, -100)"
   ]
  },
  {
   "cell_type": "markdown",
   "id": "fafa153b",
   "metadata": {},
   "source": [
    "Атрибут класса непоменяется, а в локальной области видимости экземпляра класса будет созданы такие же свойства с новым значением:"
   ]
  },
  {
   "cell_type": "code",
   "execution_count": 11,
   "id": "2e42c7c6",
   "metadata": {},
   "outputs": [
    {
     "data": {
      "text/plain": [
       "mappingproxy({'__module__': '__main__',\n",
       "              'MAX_COORD': 100,\n",
       "              'MIN_COORD': 0,\n",
       "              '__init__': <function __main__.Point.__init__(self, x=0, y=0)>,\n",
       "              'set_coords': <function __main__.Point.set_coords(self, x, y)>,\n",
       "              'set_bound': <function __main__.Point.set_bound(self, left, right)>,\n",
       "              '__dict__': <attribute '__dict__' of 'Point' objects>,\n",
       "              '__weakref__': <attribute '__weakref__' of 'Point' objects>,\n",
       "              '__doc__': None})"
      ]
     },
     "execution_count": 11,
     "metadata": {},
     "output_type": "execute_result"
    }
   ],
   "source": [
    "Point.__dict__"
   ]
  },
  {
   "cell_type": "code",
   "execution_count": 12,
   "id": "5de3d03e",
   "metadata": {},
   "outputs": [
    {
     "data": {
      "text/plain": [
       "{'x': 0, 'y': 0, 'MAX_COORD': 200, 'MIN_COORD': -100}"
      ]
     },
     "execution_count": 12,
     "metadata": {},
     "output_type": "execute_result"
    }
   ],
   "source": [
    "pt.__dict__"
   ]
  },
  {
   "cell_type": "markdown",
   "id": "6570f96a",
   "metadata": {},
   "source": [
    "Так работает оператор присваивания: если он не видит свойства в текущей области видимости, то они в ней создаются. "
   ]
  },
  {
   "cell_type": "markdown",
   "id": "55180991",
   "metadata": {},
   "source": [
    "Правильно это сделать следущим образом: сделать метод set_bound методом класса, и передавать ему не экземпляр класса, а ссылку на класс:"
   ]
  },
  {
   "cell_type": "code",
   "execution_count": 13,
   "id": "5832d1b1",
   "metadata": {},
   "outputs": [],
   "source": [
    "    class Point:\n",
    "        MAX_COORD = 100\n",
    "        MIN_COORD = 0\n",
    "\n",
    "        def __init__(self, x=0, y=0):\n",
    "            self.x = x\n",
    "            self.y = y\n",
    "\n",
    "        def set_coords(self, x, y):\n",
    "            if (self.MIN_COORD <= x <= self.MAX_COORD) and (self.MIN_COORD <= y <= self.MAX_COORD):\n",
    "                self.x = x\n",
    "                self.y = y\n",
    "            else: raise ValueError('Неверные координаты')\n",
    "\n",
    "        @classmethod        \n",
    "        def set_bound(cls, left, right):\n",
    "            cls.MAX_COORD = left\n",
    "            cls.MIN_COORD = right"
   ]
  },
  {
   "cell_type": "markdown",
   "id": "b088e6fa",
   "metadata": {},
   "source": [
    "И затем поменять параметры, вызвав этот метод от класса:"
   ]
  },
  {
   "cell_type": "code",
   "execution_count": 14,
   "id": "2a965d85",
   "metadata": {},
   "outputs": [],
   "source": [
    "pt = Point()"
   ]
  },
  {
   "cell_type": "code",
   "execution_count": 15,
   "id": "1df23e3b",
   "metadata": {},
   "outputs": [],
   "source": [
    "pt.set_bound(200, -100)"
   ]
  },
  {
   "cell_type": "code",
   "execution_count": 16,
   "id": "242f5d89",
   "metadata": {},
   "outputs": [
    {
     "data": {
      "text/plain": [
       "mappingproxy({'__module__': '__main__',\n",
       "              'MAX_COORD': 200,\n",
       "              'MIN_COORD': -100,\n",
       "              '__init__': <function __main__.Point.__init__(self, x=0, y=0)>,\n",
       "              'set_coords': <function __main__.Point.set_coords(self, x, y)>,\n",
       "              'set_bound': <classmethod at 0x1c07e339160>,\n",
       "              '__dict__': <attribute '__dict__' of 'Point' objects>,\n",
       "              '__weakref__': <attribute '__weakref__' of 'Point' objects>,\n",
       "              '__doc__': None})"
      ]
     },
     "execution_count": 16,
     "metadata": {},
     "output_type": "execute_result"
    }
   ],
   "source": [
    "Point.__dict__"
   ]
  },
  {
   "cell_type": "code",
   "execution_count": 17,
   "id": "bf929d10",
   "metadata": {},
   "outputs": [
    {
     "data": {
      "text/plain": [
       "{'x': 0, 'y': 0}"
      ]
     },
     "execution_count": 17,
     "metadata": {},
     "output_type": "execute_result"
    }
   ],
   "source": [
    "pt.__dict__"
   ]
  },
  {
   "cell_type": "markdown",
   "id": "82a14362",
   "metadata": {},
   "source": [
    "## Магические методы для атрибутов"
   ]
  },
  {
   "cell_type": "markdown",
   "id": "d7f0c351",
   "metadata": {},
   "source": [
    "setattr(self, key, value) - автоматически вызывается при изменении свойства key класса<br>\n",
    "\n",
    "getattribute(self, item) - автоматически вызывается при получении свойства класса с именем item<br>\n",
    "\n",
    "getattr(self, item) - автоматически вызывается при получении несуществующего свойства item класса<br>\n",
    "\n",
    "delattr(self, item) - автоматически вызывается при удалении свойства item (при этом неважно, существует оно или нет)<br>"
   ]
  },
  {
   "cell_type": "markdown",
   "id": "0eee43e3",
   "metadata": {},
   "source": [
    "### getattribute"
   ]
  },
  {
   "cell_type": "code",
   "execution_count": 18,
   "id": "bb7f77b2",
   "metadata": {},
   "outputs": [],
   "source": [
    "class Point:\n",
    "    MAX_COORD = 100\n",
    "    MIN_COORD = 0\n",
    "    \n",
    "    def __init__(self, x=0, y=0):\n",
    "        self.x = x\n",
    "        self.y = y\n",
    "    \n",
    "    def set_coords(self, x, y):\n",
    "        if (self.MIN_COORD <= x <= self.MAX_COORD) and (self.MIN_COORD <= y <= self.MAX_COORD):\n",
    "            self.x = x\n",
    "            self.y = y\n",
    "        else: raise ValueError('Неверные координаты')\n",
    "            \n",
    "    def __getattribute__(self, item):\n",
    "        print('__getattribute__')\n",
    "        return object.__getattribute__(self, item)"
   ]
  },
  {
   "cell_type": "code",
   "execution_count": 19,
   "id": "773a5b6b",
   "metadata": {},
   "outputs": [],
   "source": [
    "pt = Point(2, 3)"
   ]
  },
  {
   "cell_type": "code",
   "execution_count": 20,
   "id": "2cc97f46",
   "metadata": {},
   "outputs": [
    {
     "name": "stdout",
     "output_type": "stream",
     "text": [
      "__getattribute__\n"
     ]
    }
   ],
   "source": [
    "a = pt.x"
   ]
  },
  {
   "cell_type": "code",
   "execution_count": 21,
   "id": "417992b1",
   "metadata": {},
   "outputs": [
    {
     "data": {
      "text/plain": [
       "2"
      ]
     },
     "execution_count": 21,
     "metadata": {},
     "output_type": "execute_result"
    }
   ],
   "source": [
    "a"
   ]
  },
  {
   "cell_type": "code",
   "execution_count": 22,
   "id": "9cf74c9d",
   "metadata": {},
   "outputs": [
    {
     "name": "stdout",
     "output_type": "stream",
     "text": [
      "__getattribute__\n",
      "__getattribute__\n",
      "__getattribute__\n",
      "__getattribute__\n"
     ]
    }
   ],
   "source": [
    "pt = None"
   ]
  },
  {
   "cell_type": "markdown",
   "id": "68012484",
   "metadata": {},
   "source": [
    "Как только идет обращение к какому либо атрибуту через экземпляр класса, то срабатывает магический метод getattribute."
   ]
  },
  {
   "cell_type": "markdown",
   "id": "54314127",
   "metadata": {},
   "source": [
    "Предположим, что мы хотим запретить доступ к какому либо свойству:"
   ]
  },
  {
   "cell_type": "code",
   "execution_count": 23,
   "id": "76459a17",
   "metadata": {},
   "outputs": [],
   "source": [
    "class Point:\n",
    "    MAX_COORD = 100\n",
    "    MIN_COORD = 0\n",
    "    \n",
    "    def __init__(self, x=0, y=0):\n",
    "        self.x = x\n",
    "        self.y = y\n",
    "    \n",
    "    def set_coords(self, x, y):\n",
    "        if (self.MIN_COORD <= x <= self.MAX_COORD) and (self.MIN_COORD <= y <= self.MAX_COORD):\n",
    "            self.x = x\n",
    "            self.y = y\n",
    "        else: raise ValueError('Неверные координаты')\n",
    "            \n",
    "    def __getattribute__(self, item):\n",
    "        if item == 'x':\n",
    "            raise ValueError('Доступ запрещен')\n",
    "        else:\n",
    "            return object.__getattribute__(self, item)"
   ]
  },
  {
   "cell_type": "code",
   "execution_count": 24,
   "id": "c4505e4c",
   "metadata": {},
   "outputs": [],
   "source": [
    "pt = Point(1, 2)"
   ]
  },
  {
   "cell_type": "markdown",
   "id": "3d0caf08",
   "metadata": {},
   "source": [
    "И тогда при попытке обращения к переменной x от экземпляра класса будет генерироваться исключение:"
   ]
  },
  {
   "cell_type": "code",
   "execution_count": 25,
   "id": "a6d45c09",
   "metadata": {},
   "outputs": [],
   "source": [
    "# pt.x"
   ]
  },
  {
   "cell_type": "markdown",
   "id": "314c25d9",
   "metadata": {},
   "source": [
    "А при обращении к другому свойству вс будет, как прежде:"
   ]
  },
  {
   "cell_type": "code",
   "execution_count": 26,
   "id": "6a954c2f",
   "metadata": {},
   "outputs": [
    {
     "data": {
      "text/plain": [
       "2"
      ]
     },
     "execution_count": 26,
     "metadata": {},
     "output_type": "execute_result"
    }
   ],
   "source": [
    "pt.y"
   ]
  },
  {
   "cell_type": "markdown",
   "id": "7086e3fc",
   "metadata": {},
   "source": [
    "### setattr"
   ]
  },
  {
   "cell_type": "markdown",
   "id": "524fb25e",
   "metadata": {},
   "source": [
    "Метод setattr вызывается всегда, когда происходит присвоение какому либо атрибуту какого либо значения:"
   ]
  },
  {
   "cell_type": "code",
   "execution_count": 27,
   "id": "00c34778",
   "metadata": {},
   "outputs": [],
   "source": [
    "class Point:\n",
    "    MAX_COORD = 100\n",
    "    MIN_COORD = 0\n",
    "    \n",
    "    def __init__(self, x=0, y=0):\n",
    "        self.x = x\n",
    "        self.y = y\n",
    "    \n",
    "    def set_coords(self, x, y):\n",
    "        if (self.MIN_COORD <= x <= self.MAX_COORD) and (self.MIN_COORD <= y <= self.MAX_COORD):\n",
    "            self.x = x\n",
    "            self.y = y\n",
    "        else: raise ValueError('Неверные координаты')\n",
    "            \n",
    "    def __getattribute__(self, item):\n",
    "        return object.__getattribute__(self, item)\n",
    "        \n",
    "    def __setattr__(self, key, value):\n",
    "        print('__setattr__')\n",
    "        object.__setattr__(self, key, value)"
   ]
  },
  {
   "cell_type": "code",
   "execution_count": 28,
   "id": "632c0897",
   "metadata": {},
   "outputs": [
    {
     "name": "stdout",
     "output_type": "stream",
     "text": [
      "__setattr__\n",
      "__setattr__\n"
     ]
    }
   ],
   "source": [
    "pt = Point(1, 2)"
   ]
  },
  {
   "cell_type": "code",
   "execution_count": 29,
   "id": "ba0c77e8",
   "metadata": {},
   "outputs": [
    {
     "data": {
      "text/plain": [
       "{'x': 1, 'y': 2}"
      ]
     },
     "execution_count": 29,
     "metadata": {},
     "output_type": "execute_result"
    }
   ],
   "source": [
    "pt.__dict__"
   ]
  },
  {
   "cell_type": "code",
   "execution_count": 30,
   "id": "d201deab",
   "metadata": {},
   "outputs": [],
   "source": [
    "pt = None"
   ]
  },
  {
   "cell_type": "markdown",
   "id": "a4b77c4e",
   "metadata": {},
   "source": [
    "### getattr"
   ]
  },
  {
   "cell_type": "markdown",
   "id": "eb1e7379",
   "metadata": {},
   "source": [
    "Метод getattr вызывается автоматически каждый раз, когда идет обращение к несуществующему атрибуту экземпляра класса:"
   ]
  },
  {
   "cell_type": "code",
   "execution_count": 31,
   "id": "e45db110",
   "metadata": {},
   "outputs": [],
   "source": [
    "class Point:\n",
    "    MAX_COORD = 100\n",
    "    MIN_COORD = 0\n",
    "    \n",
    "    def __init__(self, x=0, y=0):\n",
    "        self.x = x\n",
    "        self.y = y\n",
    "    \n",
    "    def set_coords(self, x, y):\n",
    "        if (self.MIN_COORD <= x <= self.MAX_COORD) and (self.MIN_COORD <= y <= self.MAX_COORD):\n",
    "            self.x = x\n",
    "            self.y = y\n",
    "        else: raise ValueError('Неверные координаты')\n",
    "            \n",
    "    def __getattribute__(self, item):\n",
    "        return object.__getattribute__(self, item)\n",
    "        \n",
    "    def __setattr__(self, key, value):\n",
    "        object.__setattr__(self, key, value)\n",
    "        \n",
    "    def __getattr__(self, item):\n",
    "        print('__getattr__')"
   ]
  },
  {
   "cell_type": "code",
   "execution_count": 32,
   "id": "9b900b83",
   "metadata": {},
   "outputs": [],
   "source": [
    "pt = Point(1, 4)"
   ]
  },
  {
   "cell_type": "code",
   "execution_count": 33,
   "id": "efb9d6a1",
   "metadata": {},
   "outputs": [
    {
     "data": {
      "text/plain": [
       "1"
      ]
     },
     "execution_count": 33,
     "metadata": {},
     "output_type": "execute_result"
    }
   ],
   "source": [
    "pt.x"
   ]
  },
  {
   "cell_type": "code",
   "execution_count": 34,
   "id": "5503e916",
   "metadata": {},
   "outputs": [
    {
     "name": "stdout",
     "output_type": "stream",
     "text": [
      "__getattr__\n",
      "None\n"
     ]
    }
   ],
   "source": [
    "print(pt.e)"
   ]
  },
  {
   "cell_type": "markdown",
   "id": "f0593ce7",
   "metadata": {},
   "source": [
    "Если обратиться к атрибуту класса, этот метод задействован не будет:"
   ]
  },
  {
   "cell_type": "code",
   "execution_count": 35,
   "id": "e88077ef",
   "metadata": {},
   "outputs": [
    {
     "name": "stdout",
     "output_type": "stream",
     "text": [
      "100\n"
     ]
    }
   ],
   "source": [
    "print(pt.MAX_COORD)"
   ]
  },
  {
   "cell_type": "markdown",
   "id": "2655b7c9",
   "metadata": {},
   "source": [
    "Даже не смотря на то, что это элемент класса."
   ]
  },
  {
   "cell_type": "markdown",
   "id": "63c0d184",
   "metadata": {},
   "source": [
    "С помощью этого метода можно определить какую либо конструкцию для этого случая. Например, чтобы метод возвращал False:"
   ]
  },
  {
   "cell_type": "code",
   "execution_count": 36,
   "id": "c4a43d6e",
   "metadata": {},
   "outputs": [],
   "source": [
    "class Point:\n",
    "    MAX_COORD = 100\n",
    "    MIN_COORD = 0\n",
    "    \n",
    "    def __init__(self, x=0, y=0):\n",
    "        self.x = x\n",
    "        self.y = y\n",
    "    \n",
    "    def set_coords(self, x, y):\n",
    "        if (self.MIN_COORD <= x <= self.MAX_COORD) and (self.MIN_COORD <= y <= self.MAX_COORD):\n",
    "            self.x = x\n",
    "            self.y = y\n",
    "        else: raise ValueError('Неверные координаты')\n",
    "            \n",
    "    def __getattribute__(self, item):\n",
    "        return object.__getattribute__(self, item)\n",
    "        \n",
    "    def __setattr__(self, key, value):\n",
    "        object.__setattr__(self, key, value)\n",
    "        \n",
    "    def __getattr__(self, item):\n",
    "        return False"
   ]
  },
  {
   "cell_type": "code",
   "execution_count": 37,
   "id": "46a47609",
   "metadata": {},
   "outputs": [],
   "source": [
    "pt = Point()"
   ]
  },
  {
   "cell_type": "code",
   "execution_count": 38,
   "id": "f17442b1",
   "metadata": {},
   "outputs": [
    {
     "data": {
      "text/plain": [
       "0"
      ]
     },
     "execution_count": 38,
     "metadata": {},
     "output_type": "execute_result"
    }
   ],
   "source": [
    "pt.x"
   ]
  },
  {
   "cell_type": "markdown",
   "id": "e831ce4a",
   "metadata": {},
   "source": [
    "Теперь при обращении к несуществующему атрибуту на выходе будет False:"
   ]
  },
  {
   "cell_type": "code",
   "execution_count": 39,
   "id": "25650efa",
   "metadata": {
    "scrolled": true
   },
   "outputs": [
    {
     "data": {
      "text/plain": [
       "False"
      ]
     },
     "execution_count": 39,
     "metadata": {},
     "output_type": "execute_result"
    }
   ],
   "source": [
    "pt.xx"
   ]
  },
  {
   "cell_type": "markdown",
   "id": "1e8ec3ab",
   "metadata": {},
   "source": [
    "Без этого метода генерировалось бы исключение AttributeError"
   ]
  },
  {
   "cell_type": "markdown",
   "id": "c742bc0f",
   "metadata": {},
   "source": [
    "### delattr"
   ]
  },
  {
   "cell_type": "markdown",
   "id": "fd33e11e",
   "metadata": {},
   "source": [
    "Метод delattr вызывается, когда удаляется определенный атрибут из экземпляра класса:"
   ]
  },
  {
   "cell_type": "code",
   "execution_count": 40,
   "id": "acd2535d",
   "metadata": {},
   "outputs": [],
   "source": [
    "class Point:\n",
    "    MAX_COORD = 100\n",
    "    MIN_COORD = 0\n",
    "    \n",
    "    def __init__(self, x=0, y=0):\n",
    "        self.x = x\n",
    "        self.y = y\n",
    "    \n",
    "    def set_coords(self, x, y):\n",
    "        if (self.MIN_COORD <= x <= self.MAX_COORD) and (self.MIN_COORD <= y <= self.MAX_COORD):\n",
    "            self.x = x\n",
    "            self.y = y\n",
    "        else: raise ValueError('Неверные координаты')\n",
    "            \n",
    "    def __getattribute__(self, item):\n",
    "        return object.__getattribute__(self, item)\n",
    "        \n",
    "    def __setattr__(self, key, value):\n",
    "        object.__setattr__(self, key, value)\n",
    "        \n",
    "    def __getattr__(self, item):\n",
    "        return False\n",
    "    \n",
    "    def __delattr__(self, item):\n",
    "        print (f'__delattr__: {item}')\n",
    "        object.__delattr__(self, item)"
   ]
  },
  {
   "cell_type": "code",
   "execution_count": 41,
   "id": "4b9491a9",
   "metadata": {},
   "outputs": [],
   "source": [
    "pt = Point(1, 2)"
   ]
  },
  {
   "cell_type": "code",
   "execution_count": 42,
   "id": "6e68cc86",
   "metadata": {},
   "outputs": [
    {
     "name": "stdout",
     "output_type": "stream",
     "text": [
      "__delattr__: x\n"
     ]
    }
   ],
   "source": [
    "del pt.x"
   ]
  },
  {
   "cell_type": "code",
   "execution_count": 43,
   "id": "bae1a812",
   "metadata": {},
   "outputs": [
    {
     "data": {
      "text/plain": [
       "{'y': 2}"
      ]
     },
     "execution_count": 43,
     "metadata": {},
     "output_type": "execute_result"
    }
   ],
   "source": [
    "pt.__dict__"
   ]
  }
 ],
 "metadata": {
  "kernelspec": {
   "display_name": "Python 3 (ipykernel)",
   "language": "python",
   "name": "python3"
  },
  "language_info": {
   "codemirror_mode": {
    "name": "ipython",
    "version": 3
   },
   "file_extension": ".py",
   "mimetype": "text/x-python",
   "name": "python",
   "nbconvert_exporter": "python",
   "pygments_lexer": "ipython3",
   "version": "3.9.13"
  }
 },
 "nbformat": 4,
 "nbformat_minor": 5
}
