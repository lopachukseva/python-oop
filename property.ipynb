{
 "cells": [
  {
   "cell_type": "markdown",
   "id": "18f698f6",
   "metadata": {},
   "source": [
    "get, set:"
   ]
  },
  {
   "cell_type": "code",
   "execution_count": 1,
   "id": "fc5059b4",
   "metadata": {},
   "outputs": [],
   "source": [
    "class Person:\n",
    "    def __init__(self, name, age):\n",
    "        self._name = name\n",
    "        self._age = age\n",
    "        \n",
    "    def get_age(self):\n",
    "        return self._age\n",
    "    \n",
    "    def set_age(self, age):\n",
    "        self._age = age"
   ]
  },
  {
   "cell_type": "code",
   "execution_count": 2,
   "id": "5d3d7609",
   "metadata": {},
   "outputs": [],
   "source": [
    "p1 = Person('Mike', 27)"
   ]
  },
  {
   "cell_type": "code",
   "execution_count": 3,
   "id": "094fdd9c",
   "metadata": {
    "scrolled": true
   },
   "outputs": [
    {
     "data": {
      "text/plain": [
       "29"
      ]
     },
     "execution_count": 3,
     "metadata": {},
     "output_type": "execute_result"
    }
   ],
   "source": [
    "p1.set_age(29)\n",
    "p1.get_age()"
   ]
  },
  {
   "cell_type": "markdown",
   "id": "4dcd7325",
   "metadata": {},
   "source": [
    "property object:"
   ]
  },
  {
   "cell_type": "code",
   "execution_count": 4,
   "id": "6785934a",
   "metadata": {},
   "outputs": [],
   "source": [
    "class Person:\n",
    "    def __init__(self, name, age):\n",
    "        self.name = name\n",
    "        self.age = age\n",
    "        \n",
    "    def get_age(self):\n",
    "        print('get method')\n",
    "        return self._age\n",
    "    \n",
    "    def set_age(self, age):\n",
    "        print('set method')\n",
    "        self._age = age\n",
    "        \n",
    "    age = property(get_age, set_age)"
   ]
  },
  {
   "cell_type": "code",
   "execution_count": 5,
   "id": "7836633e",
   "metadata": {},
   "outputs": [
    {
     "name": "stdout",
     "output_type": "stream",
     "text": [
      "set method\n"
     ]
    }
   ],
   "source": [
    "p1 = Person('Mike', 32)"
   ]
  },
  {
   "cell_type": "code",
   "execution_count": 6,
   "id": "acf20bc5",
   "metadata": {
    "scrolled": false
   },
   "outputs": [
    {
     "name": "stdout",
     "output_type": "stream",
     "text": [
      "set method\n",
      "get method\n"
     ]
    },
    {
     "data": {
      "text/plain": [
       "37"
      ]
     },
     "execution_count": 6,
     "metadata": {},
     "output_type": "execute_result"
    }
   ],
   "source": [
    "p1.age = 37\n",
    "p1.age"
   ]
  },
  {
   "cell_type": "markdown",
   "id": "1542813d",
   "metadata": {},
   "source": [
    "property decorator:"
   ]
  },
  {
   "cell_type": "code",
   "execution_count": 7,
   "id": "85f62cd5",
   "metadata": {},
   "outputs": [],
   "source": [
    "class Person:\n",
    "    def __init__(self, name, age):\n",
    "        self.name = name\n",
    "        self.age = age\n",
    "      \n",
    "    @property\n",
    "    def age(self):\n",
    "        print('get method')\n",
    "        return self._age\n",
    "    \n",
    "    @age.setter\n",
    "    def age(self, age):\n",
    "        print('set method')\n",
    "        self._age = age\n",
    "        \n",
    "    @age.deleter\n",
    "    def age(self):\n",
    "        print('delete method')\n",
    "        del self._age"
   ]
  },
  {
   "cell_type": "code",
   "execution_count": 8,
   "id": "fb743138",
   "metadata": {},
   "outputs": [
    {
     "name": "stdout",
     "output_type": "stream",
     "text": [
      "set method\n"
     ]
    }
   ],
   "source": [
    "p1 = Person('Mike', 39)"
   ]
  },
  {
   "cell_type": "code",
   "execution_count": 9,
   "id": "18d2277f",
   "metadata": {},
   "outputs": [
    {
     "name": "stdout",
     "output_type": "stream",
     "text": [
      "set method\n",
      "get method\n"
     ]
    },
    {
     "data": {
      "text/plain": [
       "40"
      ]
     },
     "execution_count": 9,
     "metadata": {},
     "output_type": "execute_result"
    }
   ],
   "source": [
    "p1.age = 40\n",
    "p1.age"
   ]
  },
  {
   "cell_type": "code",
   "execution_count": 10,
   "id": "4ca89b76",
   "metadata": {},
   "outputs": [
    {
     "name": "stdout",
     "output_type": "stream",
     "text": [
      "delete method\n"
     ]
    }
   ],
   "source": [
    "del p1.age"
   ]
  },
  {
   "cell_type": "code",
   "execution_count": 11,
   "id": "46d30c80",
   "metadata": {},
   "outputs": [
    {
     "data": {
      "text/plain": [
       "{'name': 'Mike'}"
      ]
     },
     "execution_count": 11,
     "metadata": {},
     "output_type": "execute_result"
    }
   ],
   "source": [
    "p1.__dict__"
   ]
  }
 ],
 "metadata": {
  "kernelspec": {
   "display_name": "Python 3 (ipykernel)",
   "language": "python",
   "name": "python3"
  },
  "language_info": {
   "codemirror_mode": {
    "name": "ipython",
    "version": 3
   },
   "file_extension": ".py",
   "mimetype": "text/x-python",
   "name": "python",
   "nbconvert_exporter": "python",
   "pygments_lexer": "ipython3",
   "version": "3.9.13"
  }
 },
 "nbformat": 4,
 "nbformat_minor": 5
}
