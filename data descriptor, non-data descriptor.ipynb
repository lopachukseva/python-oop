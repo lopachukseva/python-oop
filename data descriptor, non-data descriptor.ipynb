{
 "cells": [
  {
   "cell_type": "code",
   "execution_count": 1,
   "id": "284494a8",
   "metadata": {},
   "outputs": [],
   "source": [
    "class Point3D:\n",
    "    def __init__(self, x, y, z):\n",
    "        self.x = x\n",
    "        self.y = y\n",
    "        self.z = z\n",
    "    \n",
    "    @classmethod\n",
    "    def verify_coord(cls, coord):\n",
    "        if type(coord) != int:\n",
    "            raise TypeError('Неверный тип')\n",
    "            \n",
    "    @property\n",
    "    def x(self):\n",
    "        return self._x\n",
    "    \n",
    "    @x.setter\n",
    "    def x(self, coord):\n",
    "        self.verify_coord(coord)\n",
    "        self._x = coord\n",
    "        \n",
    "    @property\n",
    "    def y(self):\n",
    "        return self._y\n",
    "    \n",
    "    @y.setter\n",
    "    def y(self, coord):\n",
    "        self.verify_coord(coord)\n",
    "        self._y = coord\n",
    "        \n",
    "    @property\n",
    "    def z(self):\n",
    "        return self._z\n",
    "    \n",
    "    @z.setter\n",
    "    def z(self, coord):\n",
    "        self.verify_coord(coord)\n",
    "        self._z = coord"
   ]
  },
  {
   "cell_type": "code",
   "execution_count": 2,
   "id": "fe356725",
   "metadata": {},
   "outputs": [],
   "source": [
    "p = Point3D(1, 4, 9)"
   ]
  },
  {
   "cell_type": "code",
   "execution_count": 3,
   "id": "dfe317f9",
   "metadata": {},
   "outputs": [
    {
     "data": {
      "text/plain": [
       "{'_x': 1, '_y': 4, '_z': 9}"
      ]
     },
     "execution_count": 3,
     "metadata": {},
     "output_type": "execute_result"
    }
   ],
   "source": [
    "p.__dict__"
   ]
  },
  {
   "cell_type": "markdown",
   "id": "3a0afce1",
   "metadata": {},
   "source": [
    "## Дескриптор"
   ]
  },
  {
   "cell_type": "markdown",
   "id": "7ab4a8e4",
   "metadata": {},
   "source": [
    "Дескриптор - класс, который содержит в себе методы get, set, del. Существует два вида дескрипторов:"
   ]
  },
  {
   "cell_type": "markdown",
   "id": "b35ae2a0",
   "metadata": {},
   "source": [
    "1) Дескриптор не данных (содержит магический метод get) <br>\n",
    "2) Дескриптор данных (содержит магические методы get, set, del)"
   ]
  },
  {
   "cell_type": "code",
   "execution_count": 4,
   "id": "bf1dbca3",
   "metadata": {},
   "outputs": [],
   "source": [
    "class Integer:\n",
    "    def __set_name__(self, owner, name):\n",
    "        print('Set name for Integer object')\n",
    "        self.name = '_' + name\n",
    "\n",
    "    def __get__(self, instance, owner):\n",
    "        print('Get attribute for Integer object')\n",
    "        return instance.__dict__[self.name]\n",
    "\n",
    "    def __set__(self, instance, value):\n",
    "        print('Set attribute for Integer object')\n",
    "        instance.__dict__[self.name] = value"
   ]
  },
  {
   "cell_type": "code",
   "execution_count": 5,
   "id": "70df6a5c",
   "metadata": {
    "scrolled": true
   },
   "outputs": [
    {
     "name": "stdout",
     "output_type": "stream",
     "text": [
      "Set name for Integer object\n",
      "Set name for Integer object\n",
      "Set name for Integer object\n"
     ]
    }
   ],
   "source": [
    "class Point3D:\n",
    "    x = Integer()\n",
    "    y = Integer()\n",
    "    z = Integer()\n",
    "    \n",
    "    def __init__(self, x, y, z):\n",
    "        self.x = x\n",
    "        self.y = y\n",
    "        self.z = z"
   ]
  },
  {
   "cell_type": "code",
   "execution_count": 6,
   "id": "71e2d658",
   "metadata": {},
   "outputs": [
    {
     "name": "stdout",
     "output_type": "stream",
     "text": [
      "Set attribute for Integer object\n",
      "Set attribute for Integer object\n",
      "Set attribute for Integer object\n"
     ]
    }
   ],
   "source": [
    "p = Point3D(4, 3, 9)"
   ]
  },
  {
   "cell_type": "code",
   "execution_count": 7,
   "id": "91177a08",
   "metadata": {},
   "outputs": [
    {
     "name": "stdout",
     "output_type": "stream",
     "text": [
      "Get attribute for Integer object\n",
      "Get attribute for Integer object\n",
      "Get attribute for Integer object\n"
     ]
    },
    {
     "data": {
      "text/plain": [
       "(4, 3, 9)"
      ]
     },
     "execution_count": 7,
     "metadata": {},
     "output_type": "execute_result"
    }
   ],
   "source": [
    "p.x, p.y, p.z"
   ]
  },
  {
   "cell_type": "markdown",
   "id": "754a4bb4",
   "metadata": {},
   "source": [
    "self - ссылка на экземпляр класса Integer<br>\n",
    "owner - ссылка на класс Point3D<br>\n",
    "instance - ссылка на экземпляр класса Point3D<br>"
   ]
  },
  {
   "cell_type": "markdown",
   "id": "38ac142e",
   "metadata": {},
   "source": [
    "  \n"
   ]
  },
  {
   "cell_type": "code",
   "execution_count": 8,
   "id": "ac81ad67",
   "metadata": {},
   "outputs": [],
   "source": [
    "class Integer:\n",
    "    @classmethod\n",
    "    def verify_value(cls, value):\n",
    "        if type(value) != int:\n",
    "            raise TypeError('Wrong type')\n",
    "\n",
    "    def __set_name__(self, owner, name):\n",
    "        self.name = '_' + name\n",
    "\n",
    "    def __get__(self, instance, owner):\n",
    "        return getattr(instance, self.name)\n",
    "\n",
    "    def __set__(self, instance, value):\n",
    "        self.verify_value(value)\n",
    "        setattr(instance, self.name, value)\n",
    "\n",
    "\n",
    "class Point3D:\n",
    "    x = Integer()\n",
    "    y = Integer()\n",
    "    z = Integer()\n",
    "\n",
    "    def __init__(self, x, y, z):\n",
    "        self.x = x\n",
    "        self.y = y\n",
    "        self.z = z"
   ]
  },
  {
   "cell_type": "code",
   "execution_count": 9,
   "id": "7d207030",
   "metadata": {},
   "outputs": [
    {
     "name": "stdout",
     "output_type": "stream",
     "text": [
      "10 20 30\n",
      "{'_x': 10, '_y': 20, '_z': 30}\n"
     ]
    }
   ],
   "source": [
    "p = Point3D(1, 3, 4)\n",
    "p.x = 10\n",
    "p.y = 20\n",
    "p.z = 30\n",
    "print(p.x, p.y, p.z)\n",
    "print(p.__dict__)"
   ]
  },
  {
   "cell_type": "markdown",
   "id": "884b6fbd",
   "metadata": {},
   "source": [
    "Приоритет обращения к дескриптору данных выше, чем к локальным атрибутам экземпляра класса. Приоритет обращения к дескриптору не данных такой же, как к локальному атрибуту экземпляра класса."
   ]
  }
 ],
 "metadata": {
  "kernelspec": {
   "display_name": "Python 3 (ipykernel)",
   "language": "python",
   "name": "python3"
  },
  "language_info": {
   "codemirror_mode": {
    "name": "ipython",
    "version": 3
   },
   "file_extension": ".py",
   "mimetype": "text/x-python",
   "name": "python",
   "nbconvert_exporter": "python",
   "pygments_lexer": "ipython3",
   "version": "3.9.13"
  }
 },
 "nbformat": 4,
 "nbformat_minor": 5
}
