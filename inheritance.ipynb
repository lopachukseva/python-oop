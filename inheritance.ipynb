{
 "cells": [
  {
   "cell_type": "markdown",
   "id": "178ebe5e",
   "metadata": {},
   "source": [
    "## Наследование"
   ]
  },
  {
   "cell_type": "markdown",
   "id": "1a79f8da",
   "metadata": {},
   "source": [
    "Конструкция, при которой один класс определяется на основе другого, назывется наследованием. Причем один класс называется базовым (или родительским), а другой - подклассом (или дочерним классом):"
   ]
  },
  {
   "cell_type": "code",
   "execution_count": 58,
   "id": "e2862106",
   "metadata": {},
   "outputs": [],
   "source": [
    "class Geom: # родительский класс\n",
    "    name = 'geom'\n",
    "    \n",
    "class Line(Geom): # дочерний класс\n",
    "    def draw(self):\n",
    "        print('draw line')"
   ]
  },
  {
   "cell_type": "code",
   "execution_count": 59,
   "id": "944196c9",
   "metadata": {},
   "outputs": [],
   "source": [
    "l = Line()"
   ]
  },
  {
   "cell_type": "markdown",
   "id": "98a13f8f",
   "metadata": {},
   "source": [
    "Таким образом через экземпляр дочернего класса можно обращаться к атрибутам родительского:"
   ]
  },
  {
   "cell_type": "code",
   "execution_count": 60,
   "id": "7032bfb7",
   "metadata": {},
   "outputs": [
    {
     "data": {
      "text/plain": [
       "'geom'"
      ]
     },
     "execution_count": 60,
     "metadata": {},
     "output_type": "execute_result"
    }
   ],
   "source": [
    "l.name"
   ]
  },
  {
   "cell_type": "markdown",
   "id": "a2c48ced",
   "metadata": {},
   "source": [
    "Определим в классе Line метод, который будет задавать координаты:"
   ]
  },
  {
   "cell_type": "code",
   "execution_count": 61,
   "id": "2bc66be5",
   "metadata": {},
   "outputs": [],
   "source": [
    "class Line(Geom): # дочерний класс\n",
    "    def draw(self):\n",
    "        print('draw line')\n",
    "        \n",
    "    def set_coords(self, x1, y1, x2, y2):\n",
    "        self.x1 = x1\n",
    "        self.y1 = y1\n",
    "        self.x2 = x2\n",
    "        self.y2 = y2"
   ]
  },
  {
   "cell_type": "markdown",
   "id": "8e913aa2",
   "metadata": {},
   "source": [
    "А также создадим еще один класс, но не для линии, а для прямоугольника:"
   ]
  },
  {
   "cell_type": "code",
   "execution_count": 62,
   "id": "ac7a3be1",
   "metadata": {},
   "outputs": [],
   "source": [
    "class Rect(Geom): # дочерний класс\n",
    "    def draw(self):\n",
    "        print('draw rect')\n",
    "        \n",
    "    def set_coords(self, x1, y1, x2, y2):\n",
    "        self.x1 = x1\n",
    "        self.y1 = y1\n",
    "        self.x2 = x2\n",
    "        self.y2 = y2"
   ]
  },
  {
   "cell_type": "markdown",
   "id": "b41962ae",
   "metadata": {},
   "source": [
    "Методы, которые задают координаты, совпадают у этих классов. Для того, чтобы избежать дублирования кода, следует вынести фрагменты одинакового кода в базовый класс:"
   ]
  },
  {
   "cell_type": "code",
   "execution_count": 70,
   "id": "190ed338",
   "metadata": {},
   "outputs": [],
   "source": [
    "class Geom: # родительский класс\n",
    "    name = 'geom'\n",
    "    \n",
    "    def set_coords(self, x1, y1, x2, y2):\n",
    "        self.x1 = x1\n",
    "        self.y1 = y1\n",
    "        self.x2 = x2\n",
    "        self.y2 = y2\n",
    "        \n",
    "        \n",
    "class Line(Geom): # дочерний класс\n",
    "    def draw(self):\n",
    "        print(f'draw line with coords: {self.x1, self.y1, self.x2, self.y2}')\n",
    "        \n",
    "        \n",
    "class Rect(Geom): # дочерний класс\n",
    "    def draw(self):\n",
    "        print(f'draw rect with coords: {self.x1, self.y1, self.x2, self.y2}')"
   ]
  },
  {
   "cell_type": "markdown",
   "id": "d78abb05",
   "metadata": {},
   "source": [
    "И можно спокойно создать экземпляры классов Line и Rect, а также задать им координаты, используя метод set_coords базового класса Geom:"
   ]
  },
  {
   "cell_type": "code",
   "execution_count": 71,
   "id": "97f71e11",
   "metadata": {},
   "outputs": [],
   "source": [
    "l = Line()\n",
    "r = Rect()\n",
    "l.set_coords(1, 2, 3, 8)\n",
    "r.set_coords(3, 2, 4, 7)"
   ]
  },
  {
   "cell_type": "code",
   "execution_count": 72,
   "id": "758e16f7",
   "metadata": {},
   "outputs": [
    {
     "name": "stdout",
     "output_type": "stream",
     "text": [
      "draw line with coords: (1, 2, 3, 8)\n"
     ]
    }
   ],
   "source": [
    "l.draw()"
   ]
  },
  {
   "cell_type": "code",
   "execution_count": 73,
   "id": "3a10772c",
   "metadata": {},
   "outputs": [
    {
     "name": "stdout",
     "output_type": "stream",
     "text": [
      "draw rect with coords: (3, 2, 4, 7)\n"
     ]
    }
   ],
   "source": [
    "r.draw()"
   ]
  },
  {
   "cell_type": "markdown",
   "id": "2fe8c57f",
   "metadata": {},
   "source": [
    "Иерархия наследования в данном случае выглядит следующим образом: есть два дочерних класса - Line и Rect, которые ссылаются на родительский класс Geom. Когда происходит обращение к какому либо атрибуту через объект дочернего класса, то этот атрибут сначала ищется в текущем классе (дочернем), но если его там нет - то поиск продолжается в родительском классе. Параметр self при этом будет всегда ссылаться на объект, от которого он был вызван."
   ]
  },
  {
   "cell_type": "code",
   "execution_count": 75,
   "id": "871e1297",
   "metadata": {},
   "outputs": [
    {
     "name": "stdout",
     "output_type": "stream",
     "text": [
      "{'x1': 1, 'y1': 2, 'x2': 3, 'y2': 8} {'x1': 3, 'y1': 2, 'x2': 4, 'y2': 7}\n"
     ]
    }
   ],
   "source": [
    "print(l.__dict__, r.__dict__)"
   ]
  },
  {
   "cell_type": "markdown",
   "id": "ed377206",
   "metadata": {},
   "source": [
    "Процесс, при котором в дочернем классе определяется какой либо атрибут, который уже существует в базовом классе, называется переопределением атрибута:"
   ]
  },
  {
   "cell_type": "code",
   "execution_count": 76,
   "id": "06640168",
   "metadata": {},
   "outputs": [],
   "source": [
    "class Geom: # родительский класс\n",
    "    name = 'geom'\n",
    "    \n",
    "    def set_coords(self, x1, y1, x2, y2):\n",
    "        self.x1 = x1\n",
    "        self.y1 = y1\n",
    "        self.x2 = x2\n",
    "        self.y2 = y2\n",
    "        \n",
    "        \n",
    "class Line(Geom): # дочерний класс\n",
    "    name = 'line' # переопределение атрибута\n",
    "    def draw(self):\n",
    "        print(f'draw line with coords: {self.x1, self.y1, self.x2, self.y2}')\n",
    "        \n",
    "        \n",
    "class Rect(Geom): # дочерний класс\n",
    "    name = 'rect' # переопределение атрибута\n",
    "    def draw(self):\n",
    "        print(f'draw rect with coords: {self.x1, self.y1, self.x2, self.y2}')"
   ]
  },
  {
   "cell_type": "code",
   "execution_count": 77,
   "id": "bbc62183",
   "metadata": {},
   "outputs": [],
   "source": [
    "r = Rect()"
   ]
  },
  {
   "cell_type": "markdown",
   "id": "65b7e65d",
   "metadata": {},
   "source": [
    "И согласно механизму, описанному выше, при обращении к этому атрибуту от экземпляра класса, где переопределен атрибут, будет использоваться именно переопределенный:"
   ]
  },
  {
   "cell_type": "code",
   "execution_count": 79,
   "id": "e2e979cb",
   "metadata": {},
   "outputs": [
    {
     "data": {
      "text/plain": [
       "'rect'"
      ]
     },
     "execution_count": 79,
     "metadata": {},
     "output_type": "execute_result"
    }
   ],
   "source": [
    "r.name"
   ]
  }
 ],
 "metadata": {
  "kernelspec": {
   "display_name": "Python 3 (ipykernel)",
   "language": "python",
   "name": "python3"
  },
  "language_info": {
   "codemirror_mode": {
    "name": "ipython",
    "version": 3
   },
   "file_extension": ".py",
   "mimetype": "text/x-python",
   "name": "python",
   "nbconvert_exporter": "python",
   "pygments_lexer": "ipython3",
   "version": "3.9.13"
  }
 },
 "nbformat": 4,
 "nbformat_minor": 5
}
