{
 "cells": [
  {
   "cell_type": "code",
   "execution_count": 1,
   "id": "7d348f32",
   "metadata": {},
   "outputs": [],
   "source": [
    "from string import ascii_letters"
   ]
  },
  {
   "cell_type": "code",
   "execution_count": 2,
   "id": "7ccdc1f5",
   "metadata": {},
   "outputs": [],
   "source": [
    "class Person:\n",
    "    S_RUS='абвгдеёжзийклмнопрстуфхцчшщьыъэюя-'\n",
    "    S_RUS_UPPER=S_RUS.upper()\n",
    "    \n",
    "    letters = ascii_letters + S_RUS + S_RUS_UPPER\n",
    "    \n",
    "    MAX_AGE = 120\n",
    "    MIN_AGE = 14\n",
    "    \n",
    "    def __init__(self, fio, age, passport, weight):\n",
    "        self.fio = fio\n",
    "        self.age = age\n",
    "        self.passport = passport\n",
    "        self.weight = weight\n",
    "        \n",
    "    @classmethod    \n",
    "    def verify_fio(cls, fio):\n",
    "        if type(fio) != str:\n",
    "            raise TypeError('ФИО должно быть строкой')\n",
    "        \n",
    "        f = fio.split()\n",
    "        \n",
    "        if len(f) != 3:\n",
    "            raise ValueError('Неверный формат ФИО')\n",
    "        \n",
    "        for s in f:\n",
    "            if len(s) < 0:\n",
    "                raise ValueError('В ФИО должен быть хотя бы один символ')\n",
    "            if len(s.strip(cls.letters)) != 0:\n",
    "                raise ValueError('ФИО содержит недопустимые символы')\n",
    "    \n",
    "    @classmethod\n",
    "    def verify_age(cls, age):\n",
    "        if type(age) != int:\n",
    "            raise TypeError('Возраст должен быть числом')\n",
    "        \n",
    "        if not (cls.MIN_AGE <= age <= cls.MAX_AGE):\n",
    "            raise ValueError('Неверный возраст')\n",
    "    \n",
    "    @classmethod\n",
    "    def verify_weight(cls, weight):\n",
    "        if type(weight) != int:\n",
    "            raise TypeError('Вес должен быть числом')\n",
    "    \n",
    "    @classmethod\n",
    "    def verify_passport(cls, passport):\n",
    "        if type(passport) != str:\n",
    "            raise ValueError('Паспорт должен быть строкой')\n",
    "        \n",
    "        ps = passport.split()\n",
    "        \n",
    "        if len(ps) != 2 or len(ps[0]) != 4 or len(ps[1]) != 6:\n",
    "            raise ValueError('Неверный формат паспорта')\n",
    "            \n",
    "        for p in ps:\n",
    "            if not p.isdigit():\n",
    "                raise TypeError('Серия и номер должны быть цифрами')\n",
    "                \n",
    "    @property\n",
    "    def fio(self):\n",
    "        return self.__fio\n",
    "    \n",
    "    @fio.setter\n",
    "    def fio(self, fio):\n",
    "        self.verify_fio(fio)\n",
    "        self.__fio = fio.split()\n",
    "        \n",
    "    @property\n",
    "    def age(self):\n",
    "        return self.__age\n",
    "    \n",
    "    @age.setter\n",
    "    def age(self, age):\n",
    "        self.verify_age(age)\n",
    "        self.__age = age\n",
    "        \n",
    "    @property\n",
    "    def passport(self):\n",
    "        return self.__passport\n",
    "    \n",
    "    @passport.setter\n",
    "    def passport(self, passport):\n",
    "        self.verify_passport(passport)\n",
    "        self.__passport = passport\n",
    "        \n",
    "    @property\n",
    "    def weight(self):\n",
    "        return self.__weight\n",
    "    \n",
    "    @weight.setter\n",
    "    def weight(self, weight):\n",
    "        self.verify_weight(weight)\n",
    "        self.__weight = weight"
   ]
  },
  {
   "cell_type": "code",
   "execution_count": 3,
   "id": "3469cc78",
   "metadata": {},
   "outputs": [],
   "source": [
    "p1 = Person('Иванов Иван Иванович', 33, '7613 784766', 89)"
   ]
  },
  {
   "cell_type": "code",
   "execution_count": 4,
   "id": "14f4f992",
   "metadata": {},
   "outputs": [
    {
     "data": {
      "text/plain": [
       "['Иванов', 'Иван', 'Иванович']"
      ]
     },
     "execution_count": 4,
     "metadata": {},
     "output_type": "execute_result"
    }
   ],
   "source": [
    "p1.fio"
   ]
  },
  {
   "cell_type": "code",
   "execution_count": 5,
   "id": "10951152",
   "metadata": {},
   "outputs": [
    {
     "data": {
      "text/plain": [
       "33"
      ]
     },
     "execution_count": 5,
     "metadata": {},
     "output_type": "execute_result"
    }
   ],
   "source": [
    "p1.age"
   ]
  },
  {
   "cell_type": "code",
   "execution_count": 6,
   "id": "69f49182",
   "metadata": {},
   "outputs": [
    {
     "data": {
      "text/plain": [
       "'7613 784766'"
      ]
     },
     "execution_count": 6,
     "metadata": {},
     "output_type": "execute_result"
    }
   ],
   "source": [
    "p1.passport"
   ]
  },
  {
   "cell_type": "code",
   "execution_count": 7,
   "id": "7d3f3d6e",
   "metadata": {
    "scrolled": true
   },
   "outputs": [
    {
     "data": {
      "text/plain": [
       "89"
      ]
     },
     "execution_count": 7,
     "metadata": {},
     "output_type": "execute_result"
    }
   ],
   "source": [
    "p1.weight"
   ]
  }
 ],
 "metadata": {
  "kernelspec": {
   "display_name": "Python 3 (ipykernel)",
   "language": "python",
   "name": "python3"
  },
  "language_info": {
   "codemirror_mode": {
    "name": "ipython",
    "version": 3
   },
   "file_extension": ".py",
   "mimetype": "text/x-python",
   "name": "python",
   "nbconvert_exporter": "python",
   "pygments_lexer": "ipython3",
   "version": "3.9.13"
  }
 },
 "nbformat": 4,
 "nbformat_minor": 5
}
