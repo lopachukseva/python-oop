{
 "cells": [
  {
   "cell_type": "markdown",
   "id": "ffd7eda3",
   "metadata": {},
   "source": [
    "## Магические методы сравнений"
   ]
  },
  {
   "cell_type": "markdown",
   "id": "98ddcaee",
   "metadata": {},
   "source": [
    "eq - для равенства<br>\n",
    "ne - для неравенства<br>\n",
    "lt-  для оператора меньше<br>\n",
    "le - для оператора меньше или равно<br>\n",
    "gt - для оператора больше<br>\n",
    "ge - для оператора больше или равно<br>"
   ]
  },
  {
   "cell_type": "code",
   "execution_count": 1,
   "id": "4b3b30a4",
   "metadata": {},
   "outputs": [],
   "source": [
    "class Clock:\n",
    "    __DAY = 24 * 60 * 60\n",
    "    \n",
    "    def __init__(self, seconds: int):\n",
    "        if not isinstance(seconds, int):\n",
    "            raise TypeError('Секунды должны быть целым числом')\n",
    "        self.seconds = seconds % self.__DAY"
   ]
  },
  {
   "cell_type": "markdown",
   "id": "10f4ff9d",
   "metadata": {},
   "source": [
    "Предположим, что существуют два экземпляра класса:"
   ]
  },
  {
   "cell_type": "code",
   "execution_count": 2,
   "id": "fab931e6",
   "metadata": {},
   "outputs": [],
   "source": [
    "c1 = Clock(1000)\n",
    "c2 = Clock(1000)"
   ]
  },
  {
   "cell_type": "markdown",
   "id": "fba0bd47",
   "metadata": {},
   "source": [
    "И мы хотим сравнить их:"
   ]
  },
  {
   "cell_type": "code",
   "execution_count": 3,
   "id": "ccc6cf3b",
   "metadata": {},
   "outputs": [
    {
     "data": {
      "text/plain": [
       "False"
      ]
     },
     "execution_count": 3,
     "metadata": {},
     "output_type": "execute_result"
    }
   ],
   "source": [
    "c1 == c2"
   ]
  },
  {
   "cell_type": "markdown",
   "id": "c995b509",
   "metadata": {},
   "source": [
    "Оператор сработал, но сравнение объектов произошло по адресам объектов, на которые ссылаются переменные c1 и c2. Это стандартное поведение, но его можно переопределить, описав определенные магические методы в классе."
   ]
  },
  {
   "cell_type": "code",
   "execution_count": 4,
   "id": "c0e3458c",
   "metadata": {},
   "outputs": [],
   "source": [
    "class Clock:\n",
    "    __DAY = 24 * 60 * 60\n",
    "    \n",
    "    def __init__(self, seconds: int):\n",
    "        if not isinstance(seconds, int):\n",
    "            raise TypeError('Секунды должны быть целым числом')\n",
    "        self.seconds = seconds % self.__DAY\n",
    "        \n",
    "    def __eq__(self, other):\n",
    "        print('__eq__ bound method')\n",
    "        if not isinstance(other, (int, Clock)):\n",
    "            raise TypeError('Операнд справа может быть типа int или Clock')\n",
    "        \n",
    "        t = other if isinstance(other, int) else other.seconds\n",
    "        \n",
    "        return self.seconds == t"
   ]
  },
  {
   "cell_type": "markdown",
   "id": "cb043c0c",
   "metadata": {},
   "source": [
    "И теперь при сравнении двух объектов будет вызываться магический метод eq:"
   ]
  },
  {
   "cell_type": "code",
   "execution_count": 5,
   "id": "23742f00",
   "metadata": {},
   "outputs": [
    {
     "name": "stdout",
     "output_type": "stream",
     "text": [
      "__eq__ bound method\n"
     ]
    },
    {
     "data": {
      "text/plain": [
       "True"
      ]
     },
     "execution_count": 5,
     "metadata": {},
     "output_type": "execute_result"
    }
   ],
   "source": [
    "c1 = Clock(1000)\n",
    "c2 = Clock(1000)\n",
    "\n",
    "c1 == c2"
   ]
  },
  {
   "cell_type": "markdown",
   "id": "08d301df",
   "metadata": {},
   "source": [
    "И также при сравнении с целым числом (все зависит от логики, прописанной в методе):"
   ]
  },
  {
   "cell_type": "code",
   "execution_count": 6,
   "id": "332b42bf",
   "metadata": {
    "scrolled": true
   },
   "outputs": [
    {
     "name": "stdout",
     "output_type": "stream",
     "text": [
      "__eq__ bound method\n"
     ]
    },
    {
     "data": {
      "text/plain": [
       "True"
      ]
     },
     "execution_count": 6,
     "metadata": {},
     "output_type": "execute_result"
    }
   ],
   "source": [
    "c1 == 1000"
   ]
  },
  {
   "cell_type": "markdown",
   "id": "d51d8849",
   "metadata": {},
   "source": [
    "Если прописан метод для равенства, но не прописан метод для неравенства, при попытке им воспользоваться:"
   ]
  },
  {
   "cell_type": "code",
   "execution_count": 7,
   "id": "f0587842",
   "metadata": {},
   "outputs": [
    {
     "name": "stdout",
     "output_type": "stream",
     "text": [
      "__eq__ bound method\n"
     ]
    },
    {
     "data": {
      "text/plain": [
       "True"
      ]
     },
     "execution_count": 7,
     "metadata": {},
     "output_type": "execute_result"
    }
   ],
   "source": [
    "c1 != 1200"
   ]
  },
  {
   "cell_type": "markdown",
   "id": "96b1e055",
   "metadata": {},
   "source": [
    "Будет вызван метод для равенства, так как неравенство - это отрицание равенства. Интерпретатор сам сделает отрицание, и все будет работать верно."
   ]
  },
  {
   "cell_type": "markdown",
   "id": "4168d40a",
   "metadata": {},
   "source": [
    "с1 != с2 - это все равно, что not (c1 == c2)"
   ]
  },
  {
   "cell_type": "markdown",
   "id": "9869dfa6",
   "metadata": {},
   "source": [
    "Метод lt (для оператора меньше) работает аналогичным образом:"
   ]
  },
  {
   "cell_type": "code",
   "execution_count": 8,
   "id": "7022ce3d",
   "metadata": {},
   "outputs": [],
   "source": [
    "class Clock:\n",
    "    __DAY = 24 * 60 * 60\n",
    "    \n",
    "    def __init__(self, seconds: int):\n",
    "        if not isinstance(seconds, int):\n",
    "            raise TypeError('Секунды должны быть целым числом')\n",
    "        self.seconds = seconds % self.__DAY\n",
    "        \n",
    "    def __eq__(self, other):\n",
    "        print('__eq__ bound method')\n",
    "        if not isinstance(other, (int, Clock)):\n",
    "            raise TypeError('Операнд справа может быть типа int или Clock')\n",
    "        \n",
    "        t = other if isinstance(other, int) else other.seconds\n",
    "        \n",
    "        return self.seconds == t\n",
    "    \n",
    "    def __lt__(self, other):\n",
    "        print('__lt__ bound method')\n",
    "        if not isinstance(other, (int, Clock)):\n",
    "            raise TypeError('Операнд справа может быть типа int или Clock')\n",
    "        \n",
    "        t = other if isinstance(other, int) else other.seconds\n",
    "        \n",
    "        return self.seconds < t"
   ]
  },
  {
   "cell_type": "code",
   "execution_count": 9,
   "id": "9883d72c",
   "metadata": {},
   "outputs": [
    {
     "name": "stdout",
     "output_type": "stream",
     "text": [
      "__lt__ bound method\n"
     ]
    },
    {
     "data": {
      "text/plain": [
       "True"
      ]
     },
     "execution_count": 9,
     "metadata": {},
     "output_type": "execute_result"
    }
   ],
   "source": [
    "c1 = Clock(1000)\n",
    "c2 = Clock(1200)\n",
    "\n",
    "c1 < c2"
   ]
  },
  {
   "cell_type": "markdown",
   "id": "64ccade2",
   "metadata": {},
   "source": [
    "Также с помощью него будет работать оператор больше, если он не определен: интерпретатор будет менять операнды местами:"
   ]
  },
  {
   "cell_type": "code",
   "execution_count": 10,
   "id": "6bddd411",
   "metadata": {
    "scrolled": true
   },
   "outputs": [
    {
     "name": "stdout",
     "output_type": "stream",
     "text": [
      "__lt__ bound method\n"
     ]
    },
    {
     "data": {
      "text/plain": [
       "False"
      ]
     },
     "execution_count": 10,
     "metadata": {},
     "output_type": "execute_result"
    }
   ],
   "source": [
    "c1 > c2"
   ]
  },
  {
   "cell_type": "markdown",
   "id": "00c7fe7d",
   "metadata": {},
   "source": [
    "Код методов eq и lt во многом дублирован - поэтому его лучше перенести в отдельный метод:"
   ]
  },
  {
   "cell_type": "code",
   "execution_count": 11,
   "id": "c68cc22c",
   "metadata": {},
   "outputs": [],
   "source": [
    "class Clock:\n",
    "    __DAY = 24 * 60 * 60\n",
    "    \n",
    "    def __init__(self, seconds: int):\n",
    "        if not isinstance(seconds, int):\n",
    "            raise TypeError('Секунды должны быть целым числом')\n",
    "        self.seconds = seconds % self.__DAY\n",
    "    \n",
    "    @classmethod\n",
    "    def __verify_data(cls, other):\n",
    "        if not isinstance(other, (int, Clock)):\n",
    "            raise TypeError('Операнд справа может быть типа int или Clock')\n",
    "        \n",
    "        return other if isinstance(other, int) else other.seconds\n",
    "        \n",
    "    def __eq__(self, other):\n",
    "        print('__eq__ bound method')\n",
    "        t = self.__verify_data(other)\n",
    "        \n",
    "        return self.seconds == t\n",
    "    \n",
    "    def __lt__(self, other):\n",
    "        print('__lt__ bound method')\n",
    "        t = self.__verify_data(other)\n",
    "        \n",
    "        return self.seconds < t"
   ]
  },
  {
   "cell_type": "code",
   "execution_count": 12,
   "id": "ce2cb5e5",
   "metadata": {},
   "outputs": [
    {
     "name": "stdout",
     "output_type": "stream",
     "text": [
      "__lt__ bound method\n"
     ]
    },
    {
     "data": {
      "text/plain": [
       "True"
      ]
     },
     "execution_count": 12,
     "metadata": {},
     "output_type": "execute_result"
    }
   ],
   "source": [
    "c1 = Clock(1000)\n",
    "c2 = Clock(1200)\n",
    "\n",
    "c1 < c2"
   ]
  },
  {
   "cell_type": "code",
   "execution_count": 13,
   "id": "0bb3843c",
   "metadata": {},
   "outputs": [
    {
     "name": "stdout",
     "output_type": "stream",
     "text": [
      "__lt__ bound method\n"
     ]
    },
    {
     "data": {
      "text/plain": [
       "False"
      ]
     },
     "execution_count": 13,
     "metadata": {},
     "output_type": "execute_result"
    }
   ],
   "source": [
    "c1 > c2"
   ]
  },
  {
   "cell_type": "code",
   "execution_count": 14,
   "id": "8540d702",
   "metadata": {
    "scrolled": true
   },
   "outputs": [
    {
     "name": "stdout",
     "output_type": "stream",
     "text": [
      "__eq__ bound method\n"
     ]
    },
    {
     "data": {
      "text/plain": [
       "False"
      ]
     },
     "execution_count": 14,
     "metadata": {},
     "output_type": "execute_result"
    }
   ],
   "source": [
    "c1 == c2"
   ]
  },
  {
   "cell_type": "code",
   "execution_count": 15,
   "id": "32a91b3a",
   "metadata": {},
   "outputs": [
    {
     "name": "stdout",
     "output_type": "stream",
     "text": [
      "__eq__ bound method\n"
     ]
    },
    {
     "data": {
      "text/plain": [
       "True"
      ]
     },
     "execution_count": 15,
     "metadata": {},
     "output_type": "execute_result"
    }
   ],
   "source": [
    "c1 != c2"
   ]
  },
  {
   "cell_type": "markdown",
   "id": "97873108",
   "metadata": {},
   "source": [
    "Методы le и ge работают по тому же принципу."
   ]
  },
  {
   "cell_type": "markdown",
   "id": "4474dbeb",
   "metadata": {},
   "source": [
    "Для реализации операторов сравнения в классе достаточно определить по одному из пар методов, а другие сравнения будут работать через инверсию или замену операндов местами."
   ]
  }
 ],
 "metadata": {
  "kernelspec": {
   "display_name": "Python 3 (ipykernel)",
   "language": "python",
   "name": "python3"
  },
  "language_info": {
   "codemirror_mode": {
    "name": "ipython",
    "version": 3
   },
   "file_extension": ".py",
   "mimetype": "text/x-python",
   "name": "python",
   "nbconvert_exporter": "python",
   "pygments_lexer": "ipython3",
   "version": "3.9.13"
  }
 },
 "nbformat": 4,
 "nbformat_minor": 5
}
