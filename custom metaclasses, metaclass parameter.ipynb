{
 "cells": [
  {
   "cell_type": "markdown",
   "id": "8ef7b623",
   "metadata": {},
   "source": [
    "## Пользовательские метаклассы, параметр metaclass"
   ]
  },
  {
   "cell_type": "markdown",
   "id": "cb590939",
   "metadata": {},
   "source": [
    "Использовать type напрямую для создания классов не совсем удобно. В Python можно конструировать свои метаклассы, которые явно или неявно используют метакласс type."
   ]
  },
  {
   "cell_type": "markdown",
   "id": "b49b45ee",
   "metadata": {},
   "source": [
    "Предположим, что мы бы хотели в программе создать вот такой класс Point:"
   ]
  },
  {
   "cell_type": "code",
   "execution_count": 1,
   "id": "649cd012",
   "metadata": {},
   "outputs": [],
   "source": [
    "# class Point:\n",
    "#     MAX_COORD = 100\n",
    "#     MIN_COORD = 0"
   ]
  },
  {
   "cell_type": "markdown",
   "id": "0bb64fc8",
   "metadata": {},
   "source": [
    "Ддя этого определим свой собственный метакласс в виде обычной функции:"
   ]
  },
  {
   "cell_type": "code",
   "execution_count": 2,
   "id": "4fb29fe2",
   "metadata": {},
   "outputs": [],
   "source": [
    "def create_class_point(name, base, attrs):\n",
    "    return type(name, base, attrs)"
   ]
  },
  {
   "cell_type": "markdown",
   "id": "29df95e7",
   "metadata": {},
   "source": [
    "Это самый простейший метакласс, определенный с помощью функции. Но он должен добавлять атрибуты. Для этого добавим их с помощью метода update:"
   ]
  },
  {
   "cell_type": "code",
   "execution_count": 3,
   "id": "2fc6999f",
   "metadata": {},
   "outputs": [],
   "source": [
    "def create_class_point(name, base, attrs):\n",
    "    attrs.update({'MAX_COORD': 100, 'MIN_COORD': 0} )\n",
    "    return type(name, base, attrs)"
   ]
  },
  {
   "cell_type": "markdown",
   "id": "859097e5",
   "metadata": {},
   "source": [
    "Теперь при создании класса Point передадим ему параметр metaclass со ссылкой на метакласс. Внутри может быть любая необходимая реализация:"
   ]
  },
  {
   "cell_type": "code",
   "execution_count": 4,
   "id": "809a5580",
   "metadata": {},
   "outputs": [],
   "source": [
    "class Point(metaclass=create_class_point):\n",
    "    def get_coords(self):\n",
    "        return (0, 0)"
   ]
  },
  {
   "cell_type": "markdown",
   "id": "bef07cfc",
   "metadata": {},
   "source": [
    "Теперь при создании класса Point будет отрабатывать метакласс, и фактически будет создаваться класс Point по образу и подобию его алгоритма. Чтобы убедиться в правильности работы, создадим его экземпляр и обратимся к его атрибутам:"
   ]
  },
  {
   "cell_type": "code",
   "execution_count": 5,
   "id": "8bfec089",
   "metadata": {},
   "outputs": [],
   "source": [
    "pt = Point()"
   ]
  },
  {
   "cell_type": "code",
   "execution_count": 6,
   "id": "da63ca6f",
   "metadata": {},
   "outputs": [
    {
     "data": {
      "text/plain": [
       "100"
      ]
     },
     "execution_count": 6,
     "metadata": {},
     "output_type": "execute_result"
    }
   ],
   "source": [
    "pt.MAX_COORD"
   ]
  },
  {
   "cell_type": "code",
   "execution_count": 7,
   "id": "77bfe7b8",
   "metadata": {},
   "outputs": [
    {
     "data": {
      "text/plain": [
       "0"
      ]
     },
     "execution_count": 7,
     "metadata": {},
     "output_type": "execute_result"
    }
   ],
   "source": [
    "pt.MIN_COORD"
   ]
  },
  {
   "cell_type": "code",
   "execution_count": 8,
   "id": "c4aba9e3",
   "metadata": {},
   "outputs": [
    {
     "data": {
      "text/plain": [
       "(0, 0)"
      ]
     },
     "execution_count": 8,
     "metadata": {},
     "output_type": "execute_result"
    }
   ],
   "source": [
    "pt.get_coords()"
   ]
  },
  {
   "cell_type": "markdown",
   "id": "eb6ab1bb",
   "metadata": {},
   "source": [
    "Но на практике для создания метаклассов используются не функции, а классы, которые выполняют роль метаклассов:"
   ]
  },
  {
   "cell_type": "code",
   "execution_count": 9,
   "id": "3446ab6c",
   "metadata": {},
   "outputs": [],
   "source": [
    "class Meta(type):\n",
    "    def __init__(cls, name, base, attrs):\n",
    "        super().__init__(name, base, attrs)\n",
    "        cls.MAX_COORD = 100\n",
    "        cls.MIN_COORD = 0"
   ]
  },
  {
   "cell_type": "code",
   "execution_count": 10,
   "id": "a643e0d7",
   "metadata": {},
   "outputs": [],
   "source": [
    "class Point(metaclass=Meta):\n",
    "    def get_coords(self):\n",
    "        return (0, 0)"
   ]
  },
  {
   "cell_type": "code",
   "execution_count": 11,
   "id": "a4186447",
   "metadata": {},
   "outputs": [],
   "source": [
    "pt = Point()"
   ]
  },
  {
   "cell_type": "code",
   "execution_count": 12,
   "id": "cf1d48cf",
   "metadata": {
    "scrolled": true
   },
   "outputs": [
    {
     "data": {
      "text/plain": [
       "100"
      ]
     },
     "execution_count": 12,
     "metadata": {},
     "output_type": "execute_result"
    }
   ],
   "source": [
    "pt.MAX_COORD"
   ]
  },
  {
   "cell_type": "code",
   "execution_count": 13,
   "id": "559d3d70",
   "metadata": {},
   "outputs": [
    {
     "data": {
      "text/plain": [
       "0"
      ]
     },
     "execution_count": 13,
     "metadata": {},
     "output_type": "execute_result"
    }
   ],
   "source": [
    "pt.MIN_COORD"
   ]
  },
  {
   "cell_type": "code",
   "execution_count": 14,
   "id": "7dec616b",
   "metadata": {},
   "outputs": [
    {
     "data": {
      "text/plain": [
       "(0, 0)"
      ]
     },
     "execution_count": 14,
     "metadata": {},
     "output_type": "execute_result"
    }
   ],
   "source": [
    "pt.get_coords()"
   ]
  },
  {
   "cell_type": "markdown",
   "id": "39fd9cd6",
   "metadata": {},
   "source": [
    "Инициализатор срабатывает сразу после создания объекта. Для более тонкой работы лучше переопределять метод new, который вызывается непосредственно перед созданием экземпляра класса: "
   ]
  },
  {
   "cell_type": "code",
   "execution_count": 15,
   "id": "0530f307",
   "metadata": {},
   "outputs": [],
   "source": [
    "class Meta(type):\n",
    "    def __new__(cls, name, base, attrs):\n",
    "        attrs.update({'MAX_COORD': 100, 'MIN_COORD': 0})\n",
    "        return type.__new__(cls, name, base, attrs)\n",
    "    \n",
    "    \n",
    "    def __init__(cls, name, base, attrs):\n",
    "        super().__init__(name, base, attrs)\n",
    "        cls.MAX_COORD = 100\n",
    "        cls.MIN_COORD = 0"
   ]
  },
  {
   "cell_type": "code",
   "execution_count": 16,
   "id": "700cc2c6",
   "metadata": {},
   "outputs": [],
   "source": [
    "class Point(metaclass=Meta):\n",
    "    def get_coords(self):\n",
    "        return (0, 0)"
   ]
  },
  {
   "cell_type": "code",
   "execution_count": 17,
   "id": "f83cc51f",
   "metadata": {},
   "outputs": [],
   "source": [
    "pt = Point()"
   ]
  },
  {
   "cell_type": "code",
   "execution_count": 18,
   "id": "93f4e232",
   "metadata": {},
   "outputs": [
    {
     "data": {
      "text/plain": [
       "100"
      ]
     },
     "execution_count": 18,
     "metadata": {},
     "output_type": "execute_result"
    }
   ],
   "source": [
    "pt.MAX_COORD"
   ]
  },
  {
   "cell_type": "code",
   "execution_count": 19,
   "id": "726cc4f0",
   "metadata": {},
   "outputs": [
    {
     "data": {
      "text/plain": [
       "0"
      ]
     },
     "execution_count": 19,
     "metadata": {},
     "output_type": "execute_result"
    }
   ],
   "source": [
    "pt.MIN_COORD"
   ]
  },
  {
   "cell_type": "code",
   "execution_count": 20,
   "id": "fa2c8037",
   "metadata": {},
   "outputs": [
    {
     "data": {
      "text/plain": [
       "(0, 0)"
      ]
     },
     "execution_count": 20,
     "metadata": {},
     "output_type": "execute_result"
    }
   ],
   "source": [
    "pt.get_coords()"
   ]
  }
 ],
 "metadata": {
  "kernelspec": {
   "display_name": "Python 3 (ipykernel)",
   "language": "python",
   "name": "python3"
  },
  "language_info": {
   "codemirror_mode": {
    "name": "ipython",
    "version": 3
   },
   "file_extension": ".py",
   "mimetype": "text/x-python",
   "name": "python",
   "nbconvert_exporter": "python",
   "pygments_lexer": "ipython3",
   "version": "3.9.13"
  }
 },
 "nbformat": 4,
 "nbformat_minor": 5
}
