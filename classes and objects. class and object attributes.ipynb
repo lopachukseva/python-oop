{
 "cells": [
  {
   "cell_type": "markdown",
   "id": "85f29bd3",
   "metadata": {},
   "source": [
    "В соответствии со стандартом PEP8 имя класса принято начинать с заглавной буквы. Название должно отражать суть класса."
   ]
  },
  {
   "cell_type": "markdown",
   "id": "e4b5bfee",
   "metadata": {},
   "source": [
    "Атрибут (или свойство) - переменная внутри класса."
   ]
  },
  {
   "cell_type": "markdown",
   "id": "6b07032b",
   "metadata": {},
   "source": [
    "Определим класс с именем Point и двумя атрибутами - color и circle:"
   ]
  },
  {
   "cell_type": "code",
   "execution_count": 1,
   "id": "0bbfb0c7",
   "metadata": {},
   "outputs": [],
   "source": [
    "class Point:\n",
    "    color = 'red'\n",
    "    circle = 2"
   ]
  },
  {
   "cell_type": "markdown",
   "id": "9087d68d",
   "metadata": {},
   "source": [
    "Сам класс образует пространство имен с именем этого класса, в котором и находятся его переменные. К ним можно обращаться, используя синтаксис для пространства имен - <пространство имен>.<имя переменной>:"
   ]
  },
  {
   "cell_type": "code",
   "execution_count": 2,
   "id": "a4e9f7ed",
   "metadata": {},
   "outputs": [
    {
     "data": {
      "text/plain": [
       "'red'"
      ]
     },
     "execution_count": 2,
     "metadata": {},
     "output_type": "execute_result"
    }
   ],
   "source": [
    "Point.color"
   ]
  },
  {
   "cell_type": "code",
   "execution_count": 3,
   "id": "d0077724",
   "metadata": {},
   "outputs": [
    {
     "data": {
      "text/plain": [
       "3"
      ]
     },
     "execution_count": 3,
     "metadata": {},
     "output_type": "execute_result"
    }
   ],
   "source": [
    "Point.circle = 3\n",
    "Point.circle"
   ]
  },
  {
   "cell_type": "markdown",
   "id": "2dda64c4",
   "metadata": {},
   "source": [
    "Для того, чтобы увидеть все атрибуты класса, то можно воспользоваться специальной переменной __dict__:"
   ]
  },
  {
   "cell_type": "code",
   "execution_count": 4,
   "id": "c1b3ab69",
   "metadata": {},
   "outputs": [
    {
     "data": {
      "text/plain": [
       "mappingproxy({'__module__': '__main__',\n",
       "              'color': 'red',\n",
       "              'circle': 3,\n",
       "              '__dict__': <attribute '__dict__' of 'Point' objects>,\n",
       "              '__weakref__': <attribute '__weakref__' of 'Point' objects>,\n",
       "              '__doc__': None})"
      ]
     },
     "execution_count": 4,
     "metadata": {},
     "output_type": "execute_result"
    }
   ],
   "source": [
    "Point.__dict__"
   ]
  },
  {
   "cell_type": "markdown",
   "id": "c67b84c0",
   "metadata": {},
   "source": [
    "Объект - экземпляр класса. Для создания объекта достаточно после его имени поставить две круглые скобки:"
   ]
  },
  {
   "cell_type": "code",
   "execution_count": 5,
   "id": "6c0c93ba",
   "metadata": {},
   "outputs": [],
   "source": [
    "a = Point()"
   ]
  },
  {
   "cell_type": "markdown",
   "id": "123cf562",
   "metadata": {},
   "source": [
    "Теперь переменная a ссылается на экземпляр класса Point, и через эту переменную доступны атрибуты, которые определены в классе Point."
   ]
  },
  {
   "cell_type": "markdown",
   "id": "271b5956",
   "metadata": {},
   "source": [
    "Используя такую же конструкцию можно создать еще один экземпляр класса Point:"
   ]
  },
  {
   "cell_type": "code",
   "execution_count": 6,
   "id": "34bae710",
   "metadata": {},
   "outputs": [],
   "source": [
    "b = Point()"
   ]
  },
  {
   "cell_type": "markdown",
   "id": "b74dc297",
   "metadata": {},
   "source": [
    "Эти две переменные ссылаются на разные объекты - их адрес не совпадает:"
   ]
  },
  {
   "cell_type": "code",
   "execution_count": 7,
   "id": "ee4d734d",
   "metadata": {
    "scrolled": true
   },
   "outputs": [
    {
     "data": {
      "text/plain": [
       "<__main__.Point at 0x14d7acabb20>"
      ]
     },
     "execution_count": 7,
     "metadata": {},
     "output_type": "execute_result"
    }
   ],
   "source": [
    "a"
   ]
  },
  {
   "cell_type": "code",
   "execution_count": 8,
   "id": "215fdace",
   "metadata": {},
   "outputs": [
    {
     "data": {
      "text/plain": [
       "<__main__.Point at 0x14d7acab580>"
      ]
     },
     "execution_count": 8,
     "metadata": {},
     "output_type": "execute_result"
    }
   ],
   "source": [
    "b"
   ]
  },
  {
   "cell_type": "markdown",
   "id": "11fd2874",
   "metadata": {},
   "source": [
    "Это означает, что два эти объекта - разные и не зависят друг от друга. По аналогии можно создавать произвольное количество экземпляров класса"
   ]
  },
  {
   "cell_type": "markdown",
   "id": "620201e9",
   "metadata": {},
   "source": [
    "Так как переменные a и b ссылаются на объекты класса Point, это явно можно определить с помощью фукнции type:"
   ]
  },
  {
   "cell_type": "code",
   "execution_count": 9,
   "id": "25251fe7",
   "metadata": {},
   "outputs": [
    {
     "data": {
      "text/plain": [
       "(__main__.Point, __main__.Point)"
      ]
     },
     "execution_count": 9,
     "metadata": {},
     "output_type": "execute_result"
    }
   ],
   "source": [
    "type(a), type(b)"
   ]
  },
  {
   "cell_type": "code",
   "execution_count": 10,
   "id": "43d71259",
   "metadata": {},
   "outputs": [
    {
     "data": {
      "text/plain": [
       "True"
      ]
     },
     "execution_count": 10,
     "metadata": {},
     "output_type": "execute_result"
    }
   ],
   "source": [
    "type(a) == Point"
   ]
  },
  {
   "cell_type": "code",
   "execution_count": 11,
   "id": "83df950b",
   "metadata": {},
   "outputs": [
    {
     "data": {
      "text/plain": [
       "True"
      ]
     },
     "execution_count": 11,
     "metadata": {},
     "output_type": "execute_result"
    }
   ],
   "source": [
    "isinstance(b, Point)"
   ]
  },
  {
   "cell_type": "markdown",
   "id": "1664f146",
   "metadata": {},
   "source": [
    "Объекты a и b образуют свое пространство имен - пространство имен экземпляров класса. Но атрибуты класса - общие для всех его экземпляров. В этом можно убедится, если изменить одно из свойств:"
   ]
  },
  {
   "cell_type": "code",
   "execution_count": 12,
   "id": "89613c68",
   "metadata": {},
   "outputs": [],
   "source": [
    "Point.circle = 1"
   ]
  },
  {
   "cell_type": "markdown",
   "id": "07bf9abd",
   "metadata": {},
   "source": [
    "И посмотреть, чему равно это свойство у объекта a:"
   ]
  },
  {
   "cell_type": "code",
   "execution_count": 13,
   "id": "3a0c213d",
   "metadata": {},
   "outputs": [
    {
     "data": {
      "text/plain": [
       "1"
      ]
     },
     "execution_count": 13,
     "metadata": {},
     "output_type": "execute_result"
    }
   ],
   "source": [
    "a.circle"
   ]
  },
  {
   "cell_type": "markdown",
   "id": "89775704",
   "metadata": {},
   "source": [
    "Оно также изменилось. Также если посмотреть в коллекцию dict объекта a, она будет пустой:"
   ]
  },
  {
   "cell_type": "code",
   "execution_count": 14,
   "id": "5df54f36",
   "metadata": {},
   "outputs": [
    {
     "data": {
      "text/plain": [
       "{}"
      ]
     },
     "execution_count": 14,
     "metadata": {},
     "output_type": "execute_result"
    }
   ],
   "source": [
    "a.__dict__"
   ]
  },
  {
   "cell_type": "markdown",
   "id": "ccfb82e3",
   "metadata": {},
   "source": [
    "Т.е. объекты a и b образовали пространство имен, но в этом пространстве имен пока ничего нет. Но тем не менее, через них можно обращаться к атрибутам класса Point."
   ]
  },
  {
   "cell_type": "markdown",
   "id": "f6c05765",
   "metadata": {},
   "source": [
    "Но если попытаться выполнить следующее действие:"
   ]
  },
  {
   "cell_type": "code",
   "execution_count": 15,
   "id": "4848aa9a",
   "metadata": {},
   "outputs": [],
   "source": [
    "b.color = 'green'"
   ]
  },
  {
   "cell_type": "markdown",
   "id": "297523d4",
   "metadata": {},
   "source": [
    "То оператор присваивания создаст переменную с именем color в текущем пространстве имен (пространстве имен объекта b). Т.е. если переменная отсутствует в текущем пространстве имен, то она создается в текущем пространстве имен. И в итоге объект b содержит свой собственный атрибут с именем color:"
   ]
  },
  {
   "cell_type": "code",
   "execution_count": 16,
   "id": "8fd52b4d",
   "metadata": {},
   "outputs": [
    {
     "data": {
      "text/plain": [
       "{'color': 'green'}"
      ]
     },
     "execution_count": 16,
     "metadata": {},
     "output_type": "execute_result"
    }
   ],
   "source": [
    "b.__dict__"
   ]
  },
  {
   "cell_type": "markdown",
   "id": "6ca3c48a",
   "metadata": {},
   "source": [
    "В то время как для объекта a ничего не изменилось - он по прежнему ссылается на атрибут color класса Point, а его пространство имен не имеет своих значений:"
   ]
  },
  {
   "cell_type": "code",
   "execution_count": 17,
   "id": "1ec7643d",
   "metadata": {},
   "outputs": [
    {
     "data": {
      "text/plain": [
       "{}"
      ]
     },
     "execution_count": 17,
     "metadata": {},
     "output_type": "execute_result"
    }
   ],
   "source": [
    "a.__dict__"
   ]
  },
  {
   "cell_type": "markdown",
   "id": "b1dc5a3f",
   "metadata": {},
   "source": [
    "На этом принципе построено формирование атрибутов классов и локальных атрибутов их экземпляров. Если сейчас создать у класса Point атрибут с именем pt_type, то этот атрибут появится у всех экземпляров классов. Но в пространстве имен класса, а не объекта:"
   ]
  },
  {
   "cell_type": "code",
   "execution_count": 18,
   "id": "b8ad4af1",
   "metadata": {},
   "outputs": [],
   "source": [
    "Point.pt_type = 'disc'"
   ]
  },
  {
   "cell_type": "code",
   "execution_count": 19,
   "id": "06e5f719",
   "metadata": {},
   "outputs": [
    {
     "data": {
      "text/plain": [
       "mappingproxy({'__module__': '__main__',\n",
       "              'color': 'red',\n",
       "              'circle': 1,\n",
       "              '__dict__': <attribute '__dict__' of 'Point' objects>,\n",
       "              '__weakref__': <attribute '__weakref__' of 'Point' objects>,\n",
       "              '__doc__': None,\n",
       "              'pt_type': 'disc'})"
      ]
     },
     "execution_count": 19,
     "metadata": {},
     "output_type": "execute_result"
    }
   ],
   "source": [
    "Point.__dict__"
   ]
  },
  {
   "cell_type": "code",
   "execution_count": 20,
   "id": "fdc36f72",
   "metadata": {},
   "outputs": [
    {
     "data": {
      "text/plain": [
       "{}"
      ]
     },
     "execution_count": 20,
     "metadata": {},
     "output_type": "execute_result"
    }
   ],
   "source": [
    "a.__dict__"
   ]
  },
  {
   "cell_type": "code",
   "execution_count": 21,
   "id": "9c18c8ae",
   "metadata": {},
   "outputs": [
    {
     "data": {
      "text/plain": [
       "{'color': 'green'}"
      ]
     },
     "execution_count": 21,
     "metadata": {},
     "output_type": "execute_result"
    }
   ],
   "source": [
    "b.__dict__"
   ]
  },
  {
   "cell_type": "markdown",
   "id": "99411691",
   "metadata": {},
   "source": [
    "Функция setattr позволяет выполнять похожую операцию, используя следующий синтаксис:<br>\n",
    "setattr(<пространство имен>, <имя атрибута в виде строки>, <значение этого атрибута>)"
   ]
  },
  {
   "cell_type": "code",
   "execution_count": 22,
   "id": "cdf9e01a",
   "metadata": {},
   "outputs": [],
   "source": [
    "setattr(Point, 'prop', 1)"
   ]
  },
  {
   "cell_type": "markdown",
   "id": "0233627f",
   "metadata": {},
   "source": [
    "В классе Point появился атрибут prop со значением 1:"
   ]
  },
  {
   "cell_type": "code",
   "execution_count": 23,
   "id": "535105fe",
   "metadata": {
    "scrolled": true
   },
   "outputs": [
    {
     "data": {
      "text/plain": [
       "mappingproxy({'__module__': '__main__',\n",
       "              'color': 'red',\n",
       "              'circle': 1,\n",
       "              '__dict__': <attribute '__dict__' of 'Point' objects>,\n",
       "              '__weakref__': <attribute '__weakref__' of 'Point' objects>,\n",
       "              '__doc__': None,\n",
       "              'pt_type': 'disc',\n",
       "              'prop': 1})"
      ]
     },
     "execution_count": 23,
     "metadata": {},
     "output_type": "execute_result"
    }
   ],
   "source": [
    "Point.__dict__"
   ]
  },
  {
   "cell_type": "markdown",
   "id": "fd69eca9",
   "metadata": {},
   "source": [
    "Т.е. если в классе не существует атрибута, которому мы хотим присвоить какое либо значение, то оно динамически в него добавляется. А если указать существующий объект, то его значение просто будет изменено:"
   ]
  },
  {
   "cell_type": "code",
   "execution_count": 24,
   "id": "cf50388f",
   "metadata": {},
   "outputs": [],
   "source": [
    "setattr(Point, 'prop', 2)"
   ]
  },
  {
   "cell_type": "code",
   "execution_count": 25,
   "id": "e1a3ad08",
   "metadata": {},
   "outputs": [
    {
     "data": {
      "text/plain": [
       "mappingproxy({'__module__': '__main__',\n",
       "              'color': 'red',\n",
       "              'circle': 1,\n",
       "              '__dict__': <attribute '__dict__' of 'Point' objects>,\n",
       "              '__weakref__': <attribute '__weakref__' of 'Point' objects>,\n",
       "              '__doc__': None,\n",
       "              'pt_type': 'disc',\n",
       "              'prop': 2})"
      ]
     },
     "execution_count": 25,
     "metadata": {},
     "output_type": "execute_result"
    }
   ],
   "source": [
    "Point.__dict__"
   ]
  },
  {
   "cell_type": "markdown",
   "id": "b4b983e9",
   "metadata": {},
   "source": [
    "Если нужно прочитать какое либо свойство, то указывается имя класса (или его экземпляра) и имя атрибута, к которому необходимо обратиться:"
   ]
  },
  {
   "cell_type": "code",
   "execution_count": 26,
   "id": "2a05e4b5",
   "metadata": {},
   "outputs": [
    {
     "data": {
      "text/plain": [
       "2"
      ]
     },
     "execution_count": 26,
     "metadata": {},
     "output_type": "execute_result"
    }
   ],
   "source": [
    "Point.prop"
   ]
  },
  {
   "cell_type": "markdown",
   "id": "833b61d5",
   "metadata": {},
   "source": [
    "Но при обращении к несуществующему атрибуту будет ошибка."
   ]
  },
  {
   "cell_type": "markdown",
   "id": "2cb989a8",
   "metadata": {},
   "source": [
    "Этой ошибки можно избежать, если воспользоваться функцией getattr, используя следующий синтаксис:<br>\n",
    "getattr(<пространство имен>, <имя атрибута в виде строки>, <значение, которое будет возвращаться в случае, если такого аргумента нет>)"
   ]
  },
  {
   "cell_type": "code",
   "execution_count": 27,
   "id": "4e9cbb2f",
   "metadata": {},
   "outputs": [
    {
     "data": {
      "text/plain": [
       "2"
      ]
     },
     "execution_count": 27,
     "metadata": {},
     "output_type": "execute_result"
    }
   ],
   "source": [
    "getattr(Point, 'prop')"
   ]
  },
  {
   "cell_type": "code",
   "execution_count": 28,
   "id": "566e54ae",
   "metadata": {},
   "outputs": [
    {
     "data": {
      "text/plain": [
       "False"
      ]
     },
     "execution_count": 28,
     "metadata": {},
     "output_type": "execute_result"
    }
   ],
   "source": [
    "getattr(Point, 'prop1', False)"
   ]
  },
  {
   "cell_type": "markdown",
   "id": "eade87ed",
   "metadata": {},
   "source": [
    "Можно не только добавлять, но и удалять любые атрибуты из класса или его экземпляра. Сделать это можно двумя способами:"
   ]
  },
  {
   "cell_type": "code",
   "execution_count": 29,
   "id": "26912e26",
   "metadata": {},
   "outputs": [],
   "source": [
    "del Point.prop"
   ]
  },
  {
   "cell_type": "markdown",
   "id": "ba5e6b34",
   "metadata": {},
   "source": [
    "Теперь атрибута prop у класса Point нет:"
   ]
  },
  {
   "cell_type": "code",
   "execution_count": 30,
   "id": "ed0bb4cc",
   "metadata": {
    "scrolled": true
   },
   "outputs": [
    {
     "data": {
      "text/plain": [
       "mappingproxy({'__module__': '__main__',\n",
       "              'color': 'red',\n",
       "              'circle': 1,\n",
       "              '__dict__': <attribute '__dict__' of 'Point' objects>,\n",
       "              '__weakref__': <attribute '__weakref__' of 'Point' objects>,\n",
       "              '__doc__': None,\n",
       "              'pt_type': 'disc'})"
      ]
     },
     "execution_count": 30,
     "metadata": {},
     "output_type": "execute_result"
    }
   ],
   "source": [
    "Point.__dict__"
   ]
  },
  {
   "cell_type": "markdown",
   "id": "ea9f1d80",
   "metadata": {},
   "source": [
    "Но если попробовать удалить несуществующий атрибут, то будет ошибка. Чтобы этого избежать, можно сделать проверку с помощью функции hasattr. В случае, если такого атрибута нет, она вернет False, а если есть, то True:"
   ]
  },
  {
   "cell_type": "code",
   "execution_count": 31,
   "id": "9558056a",
   "metadata": {},
   "outputs": [
    {
     "data": {
      "text/plain": [
       "True"
      ]
     },
     "execution_count": 31,
     "metadata": {},
     "output_type": "execute_result"
    }
   ],
   "source": [
    "hasattr(Point, 'circle')"
   ]
  },
  {
   "cell_type": "code",
   "execution_count": 32,
   "id": "63739d10",
   "metadata": {},
   "outputs": [
    {
     "data": {
      "text/plain": [
       "False"
      ]
     },
     "execution_count": 32,
     "metadata": {},
     "output_type": "execute_result"
    }
   ],
   "source": [
    "hasattr(Point, 'prop')"
   ]
  },
  {
   "cell_type": "markdown",
   "id": "858d7226",
   "metadata": {},
   "source": [
    "Второй способ - фукнция delattr:"
   ]
  },
  {
   "cell_type": "code",
   "execution_count": 33,
   "id": "5dccaf63",
   "metadata": {},
   "outputs": [],
   "source": [
    "delattr(Point, 'pt_type')"
   ]
  },
  {
   "cell_type": "code",
   "execution_count": 34,
   "id": "8f274d3e",
   "metadata": {},
   "outputs": [
    {
     "data": {
      "text/plain": [
       "mappingproxy({'__module__': '__main__',\n",
       "              'color': 'red',\n",
       "              'circle': 1,\n",
       "              '__dict__': <attribute '__dict__' of 'Point' objects>,\n",
       "              '__weakref__': <attribute '__weakref__' of 'Point' objects>,\n",
       "              '__doc__': None})"
      ]
     },
     "execution_count": 34,
     "metadata": {},
     "output_type": "execute_result"
    }
   ],
   "source": [
    "Point.__dict__"
   ]
  },
  {
   "cell_type": "markdown",
   "id": "8fe0af1e",
   "metadata": {},
   "source": [
    "Функция hasattr говорит о том, можем ли мы получить доступ к атрибуту, но не говорит о том, что этот атрибут находится непостредственно в пространстве имен этого объекта. Например, у экземпляра класса Point - объекта a нет в своем пространстве имен ни одного атрибута:"
   ]
  },
  {
   "cell_type": "code",
   "execution_count": 35,
   "id": "ab4d2b5c",
   "metadata": {},
   "outputs": [
    {
     "data": {
      "text/plain": [
       "{}"
      ]
     },
     "execution_count": 35,
     "metadata": {},
     "output_type": "execute_result"
    }
   ],
   "source": [
    "a.__dict__"
   ]
  },
  {
   "cell_type": "markdown",
   "id": "ba4ce565",
   "metadata": {},
   "source": [
    "Но при этом, если вызвать функцию hasattr, и указать атрибут circle, функция вернет True:"
   ]
  },
  {
   "cell_type": "code",
   "execution_count": 36,
   "id": "6b79156f",
   "metadata": {},
   "outputs": [
    {
     "data": {
      "text/plain": [
       "True"
      ]
     },
     "execution_count": 36,
     "metadata": {},
     "output_type": "execute_result"
    }
   ],
   "source": [
    "hasattr(a, 'circle')"
   ]
  },
  {
   "cell_type": "markdown",
   "id": "41760808",
   "metadata": {},
   "source": [
    "Так как через a можно обратиться к атрибуту circle, которые находится в пространстве имен класса Point:"
   ]
  },
  {
   "cell_type": "code",
   "execution_count": 37,
   "id": "5f392e04",
   "metadata": {},
   "outputs": [
    {
     "data": {
      "text/plain": [
       "1"
      ]
     },
     "execution_count": 37,
     "metadata": {},
     "output_type": "execute_result"
    }
   ],
   "source": [
    "a.circle"
   ]
  },
  {
   "cell_type": "markdown",
   "id": "3f0a1511",
   "metadata": {},
   "source": [
    "А удаление атрибута происходит непостренственно в текущем пространстве имен: например, если выпонить такую операцию, то будет ошибка:"
   ]
  },
  {
   "cell_type": "code",
   "execution_count": 38,
   "id": "37a983a8",
   "metadata": {},
   "outputs": [],
   "source": [
    "# del a.circle"
   ]
  },
  {
   "cell_type": "markdown",
   "id": "0223785b",
   "metadata": {},
   "source": [
    "Если удалить существующий в пространстве имен объекта атрибут, то он исчезнет в его пространстве имен, и при последующем обращении к нему будет использован атрибут не из его пространства имен, а из пространства имен его класса:"
   ]
  },
  {
   "cell_type": "code",
   "execution_count": 39,
   "id": "04536e1e",
   "metadata": {},
   "outputs": [
    {
     "data": {
      "text/plain": [
       "{'color': 'green'}"
      ]
     },
     "execution_count": 39,
     "metadata": {},
     "output_type": "execute_result"
    }
   ],
   "source": [
    "b.__dict__"
   ]
  },
  {
   "cell_type": "code",
   "execution_count": 40,
   "id": "cb296fa6",
   "metadata": {},
   "outputs": [
    {
     "data": {
      "text/plain": [
       "'green'"
      ]
     },
     "execution_count": 40,
     "metadata": {},
     "output_type": "execute_result"
    }
   ],
   "source": [
    "b.color"
   ]
  },
  {
   "cell_type": "code",
   "execution_count": 41,
   "id": "2a2c73ca",
   "metadata": {},
   "outputs": [],
   "source": [
    "del b.color"
   ]
  },
  {
   "cell_type": "code",
   "execution_count": 42,
   "id": "3d1c250c",
   "metadata": {},
   "outputs": [
    {
     "data": {
      "text/plain": [
       "{}"
      ]
     },
     "execution_count": 42,
     "metadata": {},
     "output_type": "execute_result"
    }
   ],
   "source": [
    "b.__dict__"
   ]
  },
  {
   "cell_type": "code",
   "execution_count": 43,
   "id": "e09cbc8a",
   "metadata": {},
   "outputs": [
    {
     "data": {
      "text/plain": [
       "'red'"
      ]
     },
     "execution_count": 43,
     "metadata": {},
     "output_type": "execute_result"
    }
   ],
   "source": [
    "b.color"
   ]
  },
  {
   "cell_type": "markdown",
   "id": "5432a387",
   "metadata": {},
   "source": [
    "Это все говорит о том, что поиск атрибута происходит следующим образом: сначала он ищется в текущем пространстве имен, а если не находится - берется из следующего, внешнего, на которое ссылается внутреннее пространство. Внешнее пространство для любого объекта - класс, от которого он был образован."
   ]
  },
  {
   "cell_type": "markdown",
   "id": "02c6b514",
   "metadata": {},
   "source": [
    "Определим заново класс Point:"
   ]
  },
  {
   "cell_type": "code",
   "execution_count": 44,
   "id": "5551ee0a",
   "metadata": {},
   "outputs": [],
   "source": [
    "class Point:\n",
    "    color = 'red'\n",
    "    circle = 2"
   ]
  },
  {
   "cell_type": "markdown",
   "id": "eb220dd5",
   "metadata": {},
   "source": [
    "И создадим два экземпляра этого класса:"
   ]
  },
  {
   "cell_type": "code",
   "execution_count": 45,
   "id": "fcb962aa",
   "metadata": {},
   "outputs": [],
   "source": [
    "a = Point()\n",
    "b = Point()"
   ]
  },
  {
   "cell_type": "markdown",
   "id": "ba2ac182",
   "metadata": {},
   "source": [
    "После чего создадим у каждого объекта два атрибута x и y - координаты этой точки:"
   ]
  },
  {
   "cell_type": "code",
   "execution_count": 46,
   "id": "522d4290",
   "metadata": {},
   "outputs": [],
   "source": [
    "a.x = 1\n",
    "a.y = 2"
   ]
  },
  {
   "cell_type": "code",
   "execution_count": 47,
   "id": "da77fdb5",
   "metadata": {},
   "outputs": [],
   "source": [
    "b.x = 4\n",
    "b.y = -1"
   ]
  },
  {
   "cell_type": "markdown",
   "id": "017f46e3",
   "metadata": {},
   "source": [
    "В итоге получилось, что координаты этих точек независимы, и принадлежат своим объектам:"
   ]
  },
  {
   "cell_type": "code",
   "execution_count": 48,
   "id": "35f7abc7",
   "metadata": {
    "scrolled": true
   },
   "outputs": [
    {
     "data": {
      "text/plain": [
       "{'x': 1, 'y': 2}"
      ]
     },
     "execution_count": 48,
     "metadata": {},
     "output_type": "execute_result"
    }
   ],
   "source": [
    "a.__dict__"
   ]
  },
  {
   "cell_type": "code",
   "execution_count": 49,
   "id": "1b16e509",
   "metadata": {
    "scrolled": true
   },
   "outputs": [
    {
     "data": {
      "text/plain": [
       "{'x': 4, 'y': -1}"
      ]
     },
     "execution_count": 49,
     "metadata": {},
     "output_type": "execute_result"
    }
   ],
   "source": [
    "b.__dict__"
   ]
  },
  {
   "cell_type": "markdown",
   "id": "027afeb1",
   "metadata": {},
   "source": [
    "И этих атрибутов нет у класса Point:"
   ]
  },
  {
   "cell_type": "code",
   "execution_count": 50,
   "id": "baac5b61",
   "metadata": {},
   "outputs": [
    {
     "data": {
      "text/plain": [
       "mappingproxy({'__module__': '__main__',\n",
       "              'color': 'red',\n",
       "              'circle': 2,\n",
       "              '__dict__': <attribute '__dict__' of 'Point' objects>,\n",
       "              '__weakref__': <attribute '__weakref__' of 'Point' objects>,\n",
       "              '__doc__': None})"
      ]
     },
     "execution_count": 50,
     "metadata": {},
     "output_type": "execute_result"
    }
   ],
   "source": [
    "Point.__dict__"
   ]
  },
  {
   "cell_type": "markdown",
   "id": "b119f4f9",
   "metadata": {},
   "source": [
    "То есть получается, что у объектов a и b есть как свои независимые атрибуты (x и у), так и общие - которые принадлежат классу и находятся в пространстве имен класса."
   ]
  },
  {
   "cell_type": "markdown",
   "id": "8a57ba0a",
   "metadata": {},
   "source": [
    "В любом классе можно определять описание этого класса в виде начальной строки:"
   ]
  },
  {
   "cell_type": "code",
   "execution_count": 51,
   "id": "af443121",
   "metadata": {},
   "outputs": [],
   "source": [
    "class Point:\n",
    "    'Класс для представления координат точек на плоскости'\n",
    "    color = 'red'\n",
    "    circle = 2"
   ]
  },
  {
   "cell_type": "markdown",
   "id": "7e5b3039",
   "metadata": {},
   "source": [
    "И отобразить его можно через переменную doc:"
   ]
  },
  {
   "cell_type": "code",
   "execution_count": 52,
   "id": "b023d0bf",
   "metadata": {},
   "outputs": [
    {
     "data": {
      "text/plain": [
       "'Класс для представления координат точек на плоскости'"
      ]
     },
     "execution_count": 52,
     "metadata": {},
     "output_type": "execute_result"
    }
   ],
   "source": [
    "Point.__doc__"
   ]
  }
 ],
 "metadata": {
  "kernelspec": {
   "display_name": "Python 3 (ipykernel)",
   "language": "python",
   "name": "python3"
  },
  "language_info": {
   "codemirror_mode": {
    "name": "ipython",
    "version": 3
   },
   "file_extension": ".py",
   "mimetype": "text/x-python",
   "name": "python",
   "nbconvert_exporter": "python",
   "pygments_lexer": "ipython3",
   "version": "3.9.13"
  }
 },
 "nbformat": 4,
 "nbformat_minor": 5
}
