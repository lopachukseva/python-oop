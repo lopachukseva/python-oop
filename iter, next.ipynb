{
 "cells": [
  {
   "cell_type": "markdown",
   "id": "d1fd94a9",
   "metadata": {},
   "source": [
    "Список является итерируемым объектом. С помощью фукнции iter для него можно создать итератор:"
   ]
  },
  {
   "cell_type": "code",
   "execution_count": 1,
   "id": "0649e1d0",
   "metadata": {},
   "outputs": [],
   "source": [
    "lst = [4, 5, 2]\n",
    "it = iter(lst)"
   ]
  },
  {
   "cell_type": "markdown",
   "id": "5c3b41d2",
   "metadata": {},
   "source": [
    "И затем последовательно, вызывая функцию next, с помощью этого итератора можно перебрать этот объект (один раз):"
   ]
  },
  {
   "cell_type": "code",
   "execution_count": 2,
   "id": "f902590e",
   "metadata": {},
   "outputs": [
    {
     "data": {
      "text/plain": [
       "4"
      ]
     },
     "execution_count": 2,
     "metadata": {},
     "output_type": "execute_result"
    }
   ],
   "source": [
    "next(it)"
   ]
  },
  {
   "cell_type": "code",
   "execution_count": 3,
   "id": "75caae5e",
   "metadata": {},
   "outputs": [
    {
     "data": {
      "text/plain": [
       "5"
      ]
     },
     "execution_count": 3,
     "metadata": {},
     "output_type": "execute_result"
    }
   ],
   "source": [
    "next(it)"
   ]
  },
  {
   "cell_type": "code",
   "execution_count": 4,
   "id": "615ca785",
   "metadata": {},
   "outputs": [
    {
     "data": {
      "text/plain": [
       "2"
      ]
     },
     "execution_count": 4,
     "metadata": {},
     "output_type": "execute_result"
    }
   ],
   "source": [
    "next(it)"
   ]
  },
  {
   "cell_type": "markdown",
   "id": "4d6c9b38",
   "metadata": {},
   "source": [
    "Это универсальный способ перебрать элементы любого итерируемого объекта (список, строка, словарь, кортеж и т.д.)"
   ]
  },
  {
   "cell_type": "markdown",
   "id": "c68418db",
   "metadata": {},
   "source": [
    "Функция range также является итерируемым объектом, и ее значения можно перебрать:"
   ]
  },
  {
   "cell_type": "code",
   "execution_count": 5,
   "id": "3fcdd1f6",
   "metadata": {},
   "outputs": [
    {
     "data": {
      "text/plain": [
       "[1, 3, 5, 7, 9, 11, 13, 15, 17, 19]"
      ]
     },
     "execution_count": 5,
     "metadata": {},
     "output_type": "execute_result"
    }
   ],
   "source": [
    "list(range(1, 20, 2))"
   ]
  },
  {
   "cell_type": "code",
   "execution_count": 6,
   "id": "8e278155",
   "metadata": {},
   "outputs": [],
   "source": [
    "it = iter(range(1, 20, 2))"
   ]
  },
  {
   "cell_type": "code",
   "execution_count": 7,
   "id": "47ab9fa2",
   "metadata": {},
   "outputs": [
    {
     "data": {
      "text/plain": [
       "1"
      ]
     },
     "execution_count": 7,
     "metadata": {},
     "output_type": "execute_result"
    }
   ],
   "source": [
    "next(it)"
   ]
  },
  {
   "cell_type": "code",
   "execution_count": 8,
   "id": "dc846660",
   "metadata": {},
   "outputs": [
    {
     "data": {
      "text/plain": [
       "3"
      ]
     },
     "execution_count": 8,
     "metadata": {},
     "output_type": "execute_result"
    }
   ],
   "source": [
    "next(it)"
   ]
  },
  {
   "cell_type": "code",
   "execution_count": 9,
   "id": "f5cd3f27",
   "metadata": {},
   "outputs": [
    {
     "data": {
      "text/plain": [
       "5"
      ]
     },
     "execution_count": 9,
     "metadata": {},
     "output_type": "execute_result"
    }
   ],
   "source": [
    "next(it)"
   ]
  },
  {
   "cell_type": "markdown",
   "id": "62b3e3a6",
   "metadata": {},
   "source": [
    "Можно создать итерируемый объект, используя магические методы iter и next."
   ]
  },
  {
   "cell_type": "markdown",
   "id": "7f353599",
   "metadata": {},
   "source": [
    "## Магические методы iter и next"
   ]
  },
  {
   "cell_type": "markdown",
   "id": "114dbc29",
   "metadata": {},
   "source": [
    "iter(self) - получение итератора для перебора объекта;<br>\n",
    "next(self) - переход к следующему значению и его считывание.<br>"
   ]
  },
  {
   "cell_type": "markdown",
   "id": "17bf1d88",
   "metadata": {},
   "source": [
    "Создадим класс, который будет возвращать арифметическую последовательность, состоящую из вещественных чисел:"
   ]
  },
  {
   "cell_type": "code",
   "execution_count": 10,
   "id": "6aa87791",
   "metadata": {},
   "outputs": [],
   "source": [
    "class FRange:\n",
    "    def __init__(self, start=0.0, stop=0.0, step=1.0):\n",
    "        self.start = start\n",
    "        self.stop = stop\n",
    "        self.step = step\n",
    "        self.value = self.start - self.step\n",
    "\n",
    "    def __next__(self):\n",
    "        if self.value + self.step < self.stop:\n",
    "            self.value += self.step\n",
    "            return self.value\n",
    "        else:\n",
    "            raise StopIteration"
   ]
  },
  {
   "cell_type": "markdown",
   "id": "6fe0261b",
   "metadata": {},
   "source": [
    "Магический метод next будет определять поведение при вызове функции next. Создадим объект с параметрами start=0, stop=2, step=0.5:"
   ]
  },
  {
   "cell_type": "code",
   "execution_count": 11,
   "id": "0d38a965",
   "metadata": {},
   "outputs": [],
   "source": [
    "fr = FRange(0, 2, 0.5)"
   ]
  },
  {
   "cell_type": "code",
   "execution_count": 12,
   "id": "87d788c0",
   "metadata": {
    "scrolled": true
   },
   "outputs": [
    {
     "name": "stdout",
     "output_type": "stream",
     "text": [
      "0.0\n"
     ]
    }
   ],
   "source": [
    "print(fr.__next__())"
   ]
  },
  {
   "cell_type": "code",
   "execution_count": 13,
   "id": "f1a75dbc",
   "metadata": {},
   "outputs": [
    {
     "name": "stdout",
     "output_type": "stream",
     "text": [
      "0.5\n"
     ]
    }
   ],
   "source": [
    "print(fr.__next__())"
   ]
  },
  {
   "cell_type": "markdown",
   "id": "166d1020",
   "metadata": {},
   "source": [
    "fr.\\__next__ будет эквивалентом вызова next(fr):"
   ]
  },
  {
   "cell_type": "code",
   "execution_count": 14,
   "id": "a44e16d2",
   "metadata": {},
   "outputs": [
    {
     "name": "stdout",
     "output_type": "stream",
     "text": [
      "1.0\n"
     ]
    }
   ],
   "source": [
    "print(next(fr))"
   ]
  },
  {
   "cell_type": "code",
   "execution_count": 15,
   "id": "ceaffeee",
   "metadata": {},
   "outputs": [
    {
     "name": "stdout",
     "output_type": "stream",
     "text": [
      "1.5\n"
     ]
    }
   ],
   "source": [
    "print(next(fr))"
   ]
  },
  {
   "cell_type": "markdown",
   "id": "e163ad03",
   "metadata": {},
   "source": [
    "Сам объект fr выступает здесь в роли итератора. Получается, что итератор - некий объект, у которого есть магический метод next, который вызывается при использовании функции next. А то, возвращает магический метод next, и будет возвращать функция next."
   ]
  },
  {
   "cell_type": "markdown",
   "id": "4b624c4a",
   "metadata": {},
   "source": [
    "Но не смотря на это, объект fr не является итерируемым, и перебрать его, к примеру, через цикл for на данный момент нельзя. Также к нему нельзя применить функцию iter, чтобы получить из него итератор. Это можно исправить, если определить в классе магический метод iter:"
   ]
  },
  {
   "cell_type": "code",
   "execution_count": 16,
   "id": "0818961b",
   "metadata": {},
   "outputs": [],
   "source": [
    "class FRange:\n",
    "    def __init__(self, start=0.0, stop=0.0, step=1.0):\n",
    "        self.start = start\n",
    "        self.stop = stop\n",
    "        self.step = step\n",
    "        \n",
    "    def __iter__(self):\n",
    "        self.value = self.start - self.step\n",
    "        return self\n",
    "\n",
    "    def __next__(self):\n",
    "        if self.value + self.step < self.stop:\n",
    "            self.value += self.step\n",
    "            return self.value\n",
    "        else:\n",
    "            raise StopIteration"
   ]
  },
  {
   "cell_type": "markdown",
   "id": "2d72d6eb",
   "metadata": {},
   "source": [
    "Так как объект класса FRange сам является итератором, то все, что должен делать магический метод iter - возвращать сам объект. Также при запуске он должен устанавливать значение value в исходное состояние - для того, чтобы при каждом запуске итератор создавался с начальным значением арифметической последовательности."
   ]
  },
  {
   "cell_type": "code",
   "execution_count": 17,
   "id": "fa72e8e7",
   "metadata": {},
   "outputs": [],
   "source": [
    "fr = FRange(0, 2, 0.5)"
   ]
  },
  {
   "cell_type": "code",
   "execution_count": 18,
   "id": "0444abbf",
   "metadata": {},
   "outputs": [
    {
     "name": "stdout",
     "output_type": "stream",
     "text": [
      "0.0\n",
      "0.5\n",
      "1.0\n",
      "1.5\n"
     ]
    }
   ],
   "source": [
    "for x in fr:\n",
    "    print(x)"
   ]
  },
  {
   "cell_type": "code",
   "execution_count": 19,
   "id": "e72c9dcc",
   "metadata": {},
   "outputs": [
    {
     "name": "stdout",
     "output_type": "stream",
     "text": [
      "0.0\n",
      "0.5\n",
      "1.0\n",
      "1.5\n"
     ]
    }
   ],
   "source": [
    "for x in fr:\n",
    "    print(x)"
   ]
  },
  {
   "cell_type": "code",
   "execution_count": 20,
   "id": "f13b5069",
   "metadata": {},
   "outputs": [],
   "source": [
    "class FRange2D:\n",
    "    def __init__(self, start, stop, step, rows):\n",
    "        self.rows = rows\n",
    "        self.fr = FRange(start, stop, step)\n",
    "        \n",
    "    def __iter__(self):\n",
    "        self.row = 0\n",
    "        return self\n",
    "    \n",
    "    def __next__(self):\n",
    "        if self.row < self.rows:\n",
    "            self.row += 1\n",
    "            return iter(self.fr)\n",
    "        else:\n",
    "            raise StopIteration"
   ]
  },
  {
   "cell_type": "code",
   "execution_count": 21,
   "id": "6bed4bff",
   "metadata": {},
   "outputs": [],
   "source": [
    "frd = FRange2D(0, 3, 0.5, 6)"
   ]
  },
  {
   "cell_type": "code",
   "execution_count": 22,
   "id": "6deb5bda",
   "metadata": {
    "scrolled": true
   },
   "outputs": [
    {
     "name": "stdout",
     "output_type": "stream",
     "text": [
      "0.0 0.5 1.0 1.5 2.0 2.5 \n",
      "\n",
      "0.0 0.5 1.0 1.5 2.0 2.5 \n",
      "\n",
      "0.0 0.5 1.0 1.5 2.0 2.5 \n",
      "\n",
      "0.0 0.5 1.0 1.5 2.0 2.5 \n",
      "\n",
      "0.0 0.5 1.0 1.5 2.0 2.5 \n",
      "\n",
      "0.0 0.5 1.0 1.5 2.0 2.5 \n",
      "\n"
     ]
    }
   ],
   "source": [
    "for row in frd:\n",
    "    for x in row:\n",
    "        print(x, end=' ')\n",
    "    print('\\n')"
   ]
  }
 ],
 "metadata": {
  "kernelspec": {
   "display_name": "Python 3 (ipykernel)",
   "language": "python",
   "name": "python3"
  },
  "language_info": {
   "codemirror_mode": {
    "name": "ipython",
    "version": 3
   },
   "file_extension": ".py",
   "mimetype": "text/x-python",
   "name": "python",
   "nbconvert_exporter": "python",
   "pygments_lexer": "ipython3",
   "version": "3.9.13"
  }
 },
 "nbformat": 4,
 "nbformat_minor": 5
}
