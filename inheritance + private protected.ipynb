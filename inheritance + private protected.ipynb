{
 "cells": [
  {
   "cell_type": "markdown",
   "id": "b8587c46",
   "metadata": {},
   "source": [
    "public - публичное свойство (без подчеркиваний)<br>\n",
    "protected - внутри класса и во всех дочерних классах (с одним подчеркиванием)<br>\n",
    "private - только внутри класса (с двумя подчеркиваниями)<br>"
   ]
  },
  {
   "cell_type": "markdown",
   "id": "dc0f6ea1",
   "metadata": {},
   "source": [
    "Предположим, что существует класс Geom с инициализатором init:"
   ]
  },
  {
   "cell_type": "code",
   "execution_count": 1,
   "id": "6adc31a7",
   "metadata": {},
   "outputs": [],
   "source": [
    "class Geom:\n",
    "    name = 'geom'\n",
    "    \n",
    "    def __init__(self, x1, y1, x2, y2):\n",
    "        self.x1 = x1\n",
    "        self.y1 = y1\n",
    "        self.x2 = x2\n",
    "        self.y2 = y2"
   ]
  },
  {
   "cell_type": "markdown",
   "id": "4860c1f3",
   "metadata": {},
   "source": [
    "И класс Rect, который наследуется от Geom и использует в своем инициализаторе инициализатор базового класса:"
   ]
  },
  {
   "cell_type": "code",
   "execution_count": 2,
   "id": "3d514a88",
   "metadata": {},
   "outputs": [],
   "source": [
    "class Rect(Geom):\n",
    "    def __init__(self, x1, y1, x2, y2, fill=None):\n",
    "        super().__init__(x1, y1, x2, y2)\n",
    "        self.fill = fill"
   ]
  },
  {
   "cell_type": "markdown",
   "id": "68b0a537",
   "metadata": {},
   "source": [
    "Тогда объект:"
   ]
  },
  {
   "cell_type": "code",
   "execution_count": 3,
   "id": "e776fdff",
   "metadata": {},
   "outputs": [],
   "source": [
    "r = Rect(4, 5, 3, 1, 'Blue')"
   ]
  },
  {
   "cell_type": "markdown",
   "id": "da0d87d2",
   "metadata": {},
   "source": [
    "Будер содержать следующие локальные свойства:"
   ]
  },
  {
   "cell_type": "code",
   "execution_count": 4,
   "id": "37366c78",
   "metadata": {},
   "outputs": [
    {
     "data": {
      "text/plain": [
       "{'x1': 4, 'y1': 5, 'x2': 3, 'y2': 1, 'fill': 'Blue'}"
      ]
     },
     "execution_count": 4,
     "metadata": {},
     "output_type": "execute_result"
    }
   ],
   "source": [
    "r.__dict__"
   ]
  },
  {
   "cell_type": "markdown",
   "id": "f50d8c7b",
   "metadata": {},
   "source": [
    "Если в классах (и базовом, и дочернем) при инициализации сделать все свойства приватными:"
   ]
  },
  {
   "cell_type": "code",
   "execution_count": 5,
   "id": "70fe1c2c",
   "metadata": {},
   "outputs": [],
   "source": [
    "class Geom:\n",
    "    name = 'geom'\n",
    "    \n",
    "    def __init__(self, x1, y1, x2, y2):\n",
    "        self.__x1 = x1\n",
    "        self.__y1 = y1\n",
    "        self.__x2 = x2\n",
    "        self.__y2 = y2\n",
    "        \n",
    "class Rect(Geom):\n",
    "    def __init__(self, x1, y1, x2, y2, fill=None):\n",
    "        super().__init__(x1, y1, x2, y2)\n",
    "        self.__fill = fill"
   ]
  },
  {
   "cell_type": "code",
   "execution_count": 6,
   "id": "1f6dd917",
   "metadata": {},
   "outputs": [],
   "source": [
    "r = Rect(4, 5, 3, 1, 'Blue')"
   ]
  },
  {
   "cell_type": "markdown",
   "id": "bb8fe5d5",
   "metadata": {},
   "source": [
    "То свойства у объекта будут формироваться с префиксом класса, в котором они были образованы:"
   ]
  },
  {
   "cell_type": "code",
   "execution_count": 7,
   "id": "25a27c82",
   "metadata": {},
   "outputs": [
    {
     "data": {
      "text/plain": [
       "{'_Geom__x1': 4,\n",
       " '_Geom__y1': 5,\n",
       " '_Geom__x2': 3,\n",
       " '_Geom__y2': 1,\n",
       " '_Rect__fill': 'Blue'}"
      ]
     },
     "execution_count": 7,
     "metadata": {},
     "output_type": "execute_result"
    }
   ],
   "source": [
    "r.__dict__"
   ]
  },
  {
   "cell_type": "markdown",
   "id": "b5b4d895",
   "metadata": {},
   "source": [
    "И теперь обратится к свойствам, которые были сформированы в классе Geom, из класса Rect не получится: к ним можно будет обращаться только внутри класса, в котором они были созданы:"
   ]
  },
  {
   "cell_type": "code",
   "execution_count": 8,
   "id": "d66ea200",
   "metadata": {},
   "outputs": [],
   "source": [
    "class Geom:\n",
    "    name = 'geom'\n",
    "    \n",
    "    def __init__(self, x1, y1, x2, y2):\n",
    "        self.__x1 = x1\n",
    "        self.__y1 = y1\n",
    "        self.__x2 = x2\n",
    "        self.__y2 = y2\n",
    "        \n",
    "    def get_values(self):\n",
    "        return self.__x1, self.__y1, self.__x2, self.__y2\n",
    "        \n",
    "class Rect(Geom):\n",
    "    def __init__(self, x1, y1, x2, y2, fill=None):\n",
    "        super().__init__(x1, y1, x2, y2)\n",
    "        self.__fill = fill\n",
    "        \n",
    "#     при обращении будет ошибка\n",
    "#     def get_values(self):\n",
    "#         return self.__x1, self.__y1, self.__x2, self.__y2"
   ]
  },
  {
   "cell_type": "code",
   "execution_count": 9,
   "id": "f4492500",
   "metadata": {},
   "outputs": [],
   "source": [
    "r = Rect(4, 5, 3, 1, 'Blue')"
   ]
  },
  {
   "cell_type": "code",
   "execution_count": 10,
   "id": "4bb8438d",
   "metadata": {},
   "outputs": [
    {
     "data": {
      "text/plain": [
       "(4, 5, 3, 1)"
      ]
     },
     "execution_count": 10,
     "metadata": {},
     "output_type": "execute_result"
    }
   ],
   "source": [
    "r.get_values()"
   ]
  },
  {
   "cell_type": "markdown",
   "id": "246ae179",
   "metadata": {},
   "source": [
    "Если же нужно определить закрытые атрибуты, которые будут доступны как в текущем классе, так и во всех его дочерних, следует использовать определение protected:"
   ]
  },
  {
   "cell_type": "code",
   "execution_count": 11,
   "id": "881edd4e",
   "metadata": {},
   "outputs": [],
   "source": [
    "class Geom:\n",
    "    name = 'geom'\n",
    "    \n",
    "    def __init__(self, x1, y1, x2, y2):\n",
    "        self._x1 = x1\n",
    "        self._y1 = y1\n",
    "        self._x2 = x2\n",
    "        self._y2 = y2\n",
    "        \n",
    "class Rect(Geom):\n",
    "    def __init__(self, x1, y1, x2, y2, fill=None):\n",
    "        super().__init__(x1, y1, x2, y2)\n",
    "        self._fill = fill\n",
    "        \n",
    "    def get_values(self):\n",
    "        return self._x1, self._y1, self._x2, self._y2, self._fill"
   ]
  },
  {
   "cell_type": "code",
   "execution_count": 12,
   "id": "16118471",
   "metadata": {},
   "outputs": [],
   "source": [
    "r = Rect(4, 5, 3, 1, 'Blue')"
   ]
  },
  {
   "cell_type": "code",
   "execution_count": 13,
   "id": "d1f5ae4b",
   "metadata": {},
   "outputs": [
    {
     "data": {
      "text/plain": [
       "(4, 5, 3, 1, 'Blue')"
      ]
     },
     "execution_count": 13,
     "metadata": {},
     "output_type": "execute_result"
    }
   ],
   "source": [
    "r.get_values()"
   ]
  },
  {
   "cell_type": "code",
   "execution_count": 14,
   "id": "2eacc1b9",
   "metadata": {},
   "outputs": [
    {
     "data": {
      "text/plain": [
       "{'_x1': 4, '_y1': 5, '_x2': 3, '_y2': 1, '_fill': 'Blue'}"
      ]
     },
     "execution_count": 14,
     "metadata": {},
     "output_type": "execute_result"
    }
   ],
   "source": [
    "r.__dict__"
   ]
  },
  {
   "cell_type": "markdown",
   "id": "c62bdaad",
   "metadata": {},
   "source": [
    "Аналогично и с атрибутами на уровне класса:"
   ]
  },
  {
   "cell_type": "code",
   "execution_count": 15,
   "id": "2a114d12",
   "metadata": {},
   "outputs": [],
   "source": [
    "class Geom:\n",
    "    __name = 'geom' # обратиться к данному атрибуту можно только внутри текущего класса\n",
    "    \n",
    "    def __init__(self, x1, y1, x2, y2):\n",
    "        self._x1 = x1\n",
    "        self._y1 = y1\n",
    "        self._x2 = x2\n",
    "        self._y2 = y2\n",
    "        \n",
    "    def __verify_coord(self, coord): # обратиться к данному атрибуту можно только внутри текущего класса\n",
    "        return coord > 0\n",
    "        \n",
    "class Rect(Geom):\n",
    "    def __init__(self, x1, y1, x2, y2, fill=None):\n",
    "        super().__init__(x1, y1, x2, y2)\n",
    "        self._fill = fill\n",
    "        \n",
    "    def get_values(self):\n",
    "        return self._x1, self._y1, self._x2, self._y2, self._fill"
   ]
  }
 ],
 "metadata": {
  "kernelspec": {
   "display_name": "Python 3 (ipykernel)",
   "language": "python",
   "name": "python3"
  },
  "language_info": {
   "codemirror_mode": {
    "name": "ipython",
    "version": 3
   },
   "file_extension": ".py",
   "mimetype": "text/x-python",
   "name": "python",
   "nbconvert_exporter": "python",
   "pygments_lexer": "ipython3",
   "version": "3.9.13"
  }
 },
 "nbformat": 4,
 "nbformat_minor": 5
}
