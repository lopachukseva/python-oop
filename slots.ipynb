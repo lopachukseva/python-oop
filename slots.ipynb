{
 "cells": [
  {
   "cell_type": "markdown",
   "id": "5e29e0a1",
   "metadata": {},
   "source": [
    "## Коллекция slots"
   ]
  },
  {
   "cell_type": "markdown",
   "id": "03942b59",
   "metadata": {},
   "source": [
    "Коллекцию slots можно прописывавать в любом классе языка Python."
   ]
  },
  {
   "cell_type": "code",
   "execution_count": 1,
   "id": "d2af567c",
   "metadata": {},
   "outputs": [],
   "source": [
    "class Point:\n",
    "    def __init__(self, x, y):\n",
    "        self.x = x\n",
    "        self.y = y"
   ]
  },
  {
   "cell_type": "code",
   "execution_count": 2,
   "id": "62d56c0a",
   "metadata": {},
   "outputs": [],
   "source": [
    "pt = Point(1, 2)"
   ]
  },
  {
   "cell_type": "markdown",
   "id": "8bf153f8",
   "metadata": {},
   "source": [
    "В объекте pt автоматически создаются локальные свойства, которые можно отобразить при помощи коллекции dict:"
   ]
  },
  {
   "cell_type": "code",
   "execution_count": 3,
   "id": "03973fc4",
   "metadata": {},
   "outputs": [
    {
     "data": {
      "text/plain": [
       "{'x': 1, 'y': 2}"
      ]
     },
     "execution_count": 3,
     "metadata": {},
     "output_type": "execute_result"
    }
   ],
   "source": [
    "pt.__dict__"
   ]
  },
  {
   "cell_type": "markdown",
   "id": "f233c9cb",
   "metadata": {},
   "source": [
    "Эти свойства можно либо читать:"
   ]
  },
  {
   "cell_type": "code",
   "execution_count": 4,
   "id": "daf3c969",
   "metadata": {},
   "outputs": [
    {
     "data": {
      "text/plain": [
       "1"
      ]
     },
     "execution_count": 4,
     "metadata": {},
     "output_type": "execute_result"
    }
   ],
   "source": [
    "pt.x"
   ]
  },
  {
   "cell_type": "markdown",
   "id": "0c6cee7b",
   "metadata": {},
   "source": [
    "Либо изменять:"
   ]
  },
  {
   "cell_type": "code",
   "execution_count": 5,
   "id": "c3194e85",
   "metadata": {},
   "outputs": [
    {
     "data": {
      "text/plain": [
       "20"
      ]
     },
     "execution_count": 5,
     "metadata": {},
     "output_type": "execute_result"
    }
   ],
   "source": [
    "pt.y = 20\n",
    "pt.y"
   ]
  },
  {
   "cell_type": "markdown",
   "id": "72b4a353",
   "metadata": {},
   "source": [
    "А также создавать новые локальные свойства:"
   ]
  },
  {
   "cell_type": "code",
   "execution_count": 6,
   "id": "4ac05473",
   "metadata": {},
   "outputs": [],
   "source": [
    "pt.z = 15"
   ]
  },
  {
   "cell_type": "code",
   "execution_count": 7,
   "id": "002cb018",
   "metadata": {},
   "outputs": [
    {
     "data": {
      "text/plain": [
       "{'x': 1, 'y': 20, 'z': 15}"
      ]
     },
     "execution_count": 7,
     "metadata": {},
     "output_type": "execute_result"
    }
   ],
   "source": [
    "pt.__dict__"
   ]
  },
  {
   "cell_type": "markdown",
   "id": "d5ec8f66",
   "metadata": {},
   "source": [
    "Если необходимо ограничить свойства (чтобы были только определенные) можно применить коллекцию slots. В кортеже прописываются в виде строк локальные свойства, которые будут разрешены в объектах классах Point2D (именно локальные свойства объекта, а не атрибуты самого класса):"
   ]
  },
  {
   "cell_type": "code",
   "execution_count": 8,
   "id": "24ef5014",
   "metadata": {},
   "outputs": [],
   "source": [
    "class Point2D:\n",
    "    __slots__ = ('x', 'y')\n",
    "    \n",
    "    def __init__(self, x, y):\n",
    "        self.x = x\n",
    "        self.y = y"
   ]
  },
  {
   "cell_type": "code",
   "execution_count": 9,
   "id": "48691bfb",
   "metadata": {},
   "outputs": [],
   "source": [
    "pt2 = Point2D(10, 25)"
   ]
  },
  {
   "cell_type": "markdown",
   "id": "098e7f4a",
   "metadata": {},
   "source": [
    "Свойства можно по прежнему читать и изменять:"
   ]
  },
  {
   "cell_type": "code",
   "execution_count": 10,
   "id": "5b2f5a5b",
   "metadata": {},
   "outputs": [
    {
     "data": {
      "text/plain": [
       "40"
      ]
     },
     "execution_count": 10,
     "metadata": {},
     "output_type": "execute_result"
    }
   ],
   "source": [
    "pt2.x = 40\n",
    "pt2.x"
   ]
  },
  {
   "cell_type": "code",
   "execution_count": 11,
   "id": "aa3bcdd3",
   "metadata": {},
   "outputs": [
    {
     "data": {
      "text/plain": [
       "25"
      ]
     },
     "execution_count": 11,
     "metadata": {},
     "output_type": "execute_result"
    }
   ],
   "source": [
    "pt2.y"
   ]
  },
  {
   "cell_type": "markdown",
   "id": "df332b43",
   "metadata": {},
   "source": [
    "Но при попытке создать новое будет ошибка:"
   ]
  },
  {
   "cell_type": "code",
   "execution_count": 12,
   "id": "4f3ab37c",
   "metadata": {
    "scrolled": true
   },
   "outputs": [],
   "source": [
    "# pt2.z = 5"
   ]
  },
  {
   "cell_type": "markdown",
   "id": "a80a7f8c",
   "metadata": {},
   "source": [
    "Это происходит потому, что в коллекции slots явно указано, что в объектах класса Point2D могут присутствовать только локальные свойства с именами x и y, и остальные уже не допустимы."
   ]
  },
  {
   "cell_type": "markdown",
   "id": "3dd1be05",
   "metadata": {},
   "source": [
    "Более того, в объекте класса, в котором определена коллекция slots, отсутствует коллекция dict. "
   ]
  },
  {
   "cell_type": "markdown",
   "id": "efaa4797",
   "metadata": {},
   "source": [
    "Помимо ограничений на создаваемых локальных свойств экземпляра класса, коллекция slots уменьшает объем памяти, который занимает экземпляр класса, а также ускоряет его работу."
   ]
  }
 ],
 "metadata": {
  "kernelspec": {
   "display_name": "Python 3 (ipykernel)",
   "language": "python",
   "name": "python3"
  },
  "language_info": {
   "codemirror_mode": {
    "name": "ipython",
    "version": 3
   },
   "file_extension": ".py",
   "mimetype": "text/x-python",
   "name": "python",
   "nbconvert_exporter": "python",
   "pygments_lexer": "ipython3",
   "version": "3.9.13"
  }
 },
 "nbformat": 4,
 "nbformat_minor": 5
}
