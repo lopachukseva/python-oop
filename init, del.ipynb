{
 "cells": [
  {
   "cell_type": "markdown",
   "id": "700ee2e2",
   "metadata": {},
   "source": [
    "Магические (dunder) методы - специальные методы, определяемые в теле класса. Они есть у каждого класса, начинаются и заканчиваются двумя подчеркиваниями. В частности существуют два магических метода - init и del. Первый вызывается непосредственно после создания экземпляра класса, а второй - перед его удалением."
   ]
  },
  {
   "cell_type": "code",
   "execution_count": 1,
   "id": "956628db",
   "metadata": {},
   "outputs": [],
   "source": [
    "# __имя магического метода__"
   ]
  },
  {
   "cell_type": "markdown",
   "id": "118aaaf2",
   "metadata": {},
   "source": [
    "Существует класс Point с двумя методами: set_coords и get_coords:"
   ]
  },
  {
   "cell_type": "code",
   "execution_count": 2,
   "id": "bc20fa28",
   "metadata": {},
   "outputs": [],
   "source": [
    "class Point:\n",
    "    color = 'red'\n",
    "    circle = 2\n",
    "    \n",
    "    def set_coords(self, x, y):\n",
    "        self.x = x\n",
    "        self.y = y\n",
    "    \n",
    "    def get_coords(self):\n",
    "        return x, y"
   ]
  },
  {
   "cell_type": "markdown",
   "id": "9ef58462",
   "metadata": {},
   "source": [
    "Но использовать его на практике неудобно, так как в начале нужно создать экземпляр класса:"
   ]
  },
  {
   "cell_type": "code",
   "execution_count": 3,
   "id": "13136905",
   "metadata": {},
   "outputs": [],
   "source": [
    "pt = Point()"
   ]
  },
  {
   "cell_type": "markdown",
   "id": "9f4970bc",
   "metadata": {},
   "source": [
    "И только после, чтобы у него появились локальные свойства x и y, вызвать метод set_coords:"
   ]
  },
  {
   "cell_type": "code",
   "execution_count": 4,
   "id": "68fa44ce",
   "metadata": {},
   "outputs": [],
   "source": [
    "pt.set_coords(3, 5)"
   ]
  },
  {
   "cell_type": "code",
   "execution_count": 5,
   "id": "e4a4405c",
   "metadata": {
    "scrolled": true
   },
   "outputs": [
    {
     "data": {
      "text/plain": [
       "{'x': 3, 'y': 5}"
      ]
     },
     "execution_count": 5,
     "metadata": {},
     "output_type": "execute_result"
    }
   ],
   "source": [
    "pt.__dict__"
   ]
  },
  {
   "cell_type": "markdown",
   "id": "a5afd64c",
   "metadata": {},
   "source": [
    "Но эти действия можно сделать сразу в момент создания экземпляра класса, с помощью магического метода init."
   ]
  },
  {
   "cell_type": "markdown",
   "id": "d690aa70",
   "metadata": {},
   "source": [
    "## Инициализатор объекта класса"
   ]
  },
  {
   "cell_type": "code",
   "execution_count": 6,
   "id": "8e88b549",
   "metadata": {},
   "outputs": [],
   "source": [
    "# __init__(self)"
   ]
  },
  {
   "cell_type": "markdown",
   "id": "e3e8a176",
   "metadata": {},
   "source": [
    "Метод init вызывается сразу после создания объекта:"
   ]
  },
  {
   "cell_type": "code",
   "execution_count": 7,
   "id": "4cf34e0d",
   "metadata": {},
   "outputs": [],
   "source": [
    "class Point:\n",
    "    color = 'red'\n",
    "    circle = 2\n",
    "    \n",
    "    def __init__(self):\n",
    "        print('Вызов __init__')\n",
    "    \n",
    "    def set_coords(self, x, y):\n",
    "        self.x = x\n",
    "        self.y = y\n",
    "    \n",
    "    def get_coords(self):\n",
    "        return self.x, self.y"
   ]
  },
  {
   "cell_type": "code",
   "execution_count": 8,
   "id": "8e219862",
   "metadata": {
    "scrolled": true
   },
   "outputs": [
    {
     "name": "stdout",
     "output_type": "stream",
     "text": [
      "Вызов __init__\n"
     ]
    }
   ],
   "source": [
    "pt = Point()"
   ]
  },
  {
   "cell_type": "markdown",
   "id": "cda62bd3",
   "metadata": {},
   "source": [
    "Детально это происходит следующим образом: в начале происходит создание объекта в памяти устройства, и непосредственно перед его созданием вызывается метод new. Затем после успешного создания объекта вызывается следующий магический метод - init. <br>\n",
    "\n",
    "\n",
    "Шаг 1 - создние объекта (метод new)<br>\n",
    "Шаг 2 - инициализация объекта (метод init)"
   ]
  },
  {
   "cell_type": "code",
   "execution_count": 9,
   "id": "ddd35d5e",
   "metadata": {},
   "outputs": [],
   "source": [
    "class Point:\n",
    "    color = 'red'\n",
    "    circle = 2\n",
    "    \n",
    "    def __init__(self, x, y):\n",
    "        self.x = x\n",
    "        self.y = y\n",
    "    \n",
    "    def set_coords(self, x, y):\n",
    "        self.x = x\n",
    "        self.y = y\n",
    "    \n",
    "    def get_coords(self):\n",
    "        return self.x, self.y"
   ]
  },
  {
   "cell_type": "code",
   "execution_count": 10,
   "id": "e4656f99",
   "metadata": {
    "scrolled": true
   },
   "outputs": [],
   "source": [
    "pt = Point(1, 2)"
   ]
  },
  {
   "cell_type": "code",
   "execution_count": 11,
   "id": "11f59627",
   "metadata": {
    "scrolled": true
   },
   "outputs": [
    {
     "data": {
      "text/plain": [
       "{'x': 1, 'y': 2}"
      ]
     },
     "execution_count": 11,
     "metadata": {},
     "output_type": "execute_result"
    }
   ],
   "source": [
    "pt.__dict__"
   ]
  },
  {
   "cell_type": "markdown",
   "id": "c42207b7",
   "metadata": {},
   "source": [
    "В методе, как и в обычной функции, можно прописывать как фактические параметры, так и формальные:"
   ]
  },
  {
   "cell_type": "code",
   "execution_count": 12,
   "id": "c2be31ac",
   "metadata": {},
   "outputs": [],
   "source": [
    "class Point:\n",
    "    color = 'red'\n",
    "    circle = 2\n",
    "    \n",
    "    def __init__(self, x=0, y=0):\n",
    "        self.x = x\n",
    "        self.y = y\n",
    "    \n",
    "    def set_coords(self, x, y):\n",
    "        self.x = x\n",
    "        self.y = y\n",
    "    \n",
    "    def get_coords(self):\n",
    "        return self.x, self.y"
   ]
  },
  {
   "cell_type": "markdown",
   "id": "12f627f9",
   "metadata": {},
   "source": [
    "И в данном случае, если не передать ни одного параметра, будут использованы параметры по умолчанию:"
   ]
  },
  {
   "cell_type": "code",
   "execution_count": 13,
   "id": "2ecf11cb",
   "metadata": {},
   "outputs": [],
   "source": [
    "pt = Point()"
   ]
  },
  {
   "cell_type": "code",
   "execution_count": 14,
   "id": "81351926",
   "metadata": {},
   "outputs": [
    {
     "data": {
      "text/plain": [
       "{'x': 0, 'y': 0}"
      ]
     },
     "execution_count": 14,
     "metadata": {},
     "output_type": "execute_result"
    }
   ],
   "source": [
    "pt.__dict__"
   ]
  },
  {
   "cell_type": "markdown",
   "id": "6510da1a",
   "metadata": {},
   "source": [
    "А если передать - то будут использованы те, что переданы:"
   ]
  },
  {
   "cell_type": "code",
   "execution_count": 15,
   "id": "93309230",
   "metadata": {},
   "outputs": [],
   "source": [
    "pt = Point(4, 9)"
   ]
  },
  {
   "cell_type": "code",
   "execution_count": 16,
   "id": "635d6151",
   "metadata": {},
   "outputs": [
    {
     "data": {
      "text/plain": [
       "{'x': 4, 'y': 9}"
      ]
     },
     "execution_count": 16,
     "metadata": {},
     "output_type": "execute_result"
    }
   ],
   "source": [
    "pt.__dict__"
   ]
  },
  {
   "cell_type": "markdown",
   "id": "ebe3dd2a",
   "metadata": {},
   "source": [
    "## Финализатор объекта класса"
   ]
  },
  {
   "cell_type": "markdown",
   "id": "6dae4b18",
   "metadata": {},
   "source": [
    "Магический метод del автоматически вызывается непосредственно перед уничтожением экземпляра класса. Он называется финализатор."
   ]
  },
  {
   "cell_type": "code",
   "execution_count": 17,
   "id": "2a040b0b",
   "metadata": {},
   "outputs": [],
   "source": [
    "# __del__(self)"
   ]
  },
  {
   "cell_type": "code",
   "execution_count": 18,
   "id": "268caad6",
   "metadata": {},
   "outputs": [],
   "source": [
    "class Point:\n",
    "    color = 'red'\n",
    "    circle = 2\n",
    "    \n",
    "    def __init__(self, x, y):\n",
    "        print('Вызов __init__')\n",
    "        self.x = x\n",
    "        self.y = y\n",
    "        \n",
    "    def __del__(self):\n",
    "        print(f'Удаление экземпляра: {str(self)}')\n",
    "    \n",
    "    def set_coords(self, x, y):\n",
    "        self.x = x\n",
    "        self.y = y\n",
    "    \n",
    "    def get_coords(self):\n",
    "        return self.x, self.y"
   ]
  },
  {
   "cell_type": "markdown",
   "id": "821f5236",
   "metadata": {},
   "source": [
    "Удаление объектов происходит с помощью сборщика мусора, который встроен в интерпретатор Python. Он представляет собой алгоритм, который отслеживает объекты, и как только они становятся ненужными - удаляет их. "
   ]
  },
  {
   "cell_type": "markdown",
   "id": "e94b801b",
   "metadata": {},
   "source": [
    "Пока на какой либо объект ведет хотя бы одна внешняя ссылка, он считается нужным. Как только на объект пропадают все внешние ссылки, он будет удален."
   ]
  },
  {
   "cell_type": "markdown",
   "id": "0018050b",
   "metadata": {},
   "source": [
    "А непосредственно перед удалением объекта вызывается метод del."
   ]
  },
  {
   "cell_type": "markdown",
   "id": "c60d24fa",
   "metadata": {},
   "source": [
    "Создадим экземпляр класса Point, на который будет ссылаться переменная pt:"
   ]
  },
  {
   "cell_type": "code",
   "execution_count": 19,
   "id": "230f3f33",
   "metadata": {
    "scrolled": false
   },
   "outputs": [
    {
     "name": "stdout",
     "output_type": "stream",
     "text": [
      "Вызов __init__\n"
     ]
    }
   ],
   "source": [
    "pt = Point(4, 5)"
   ]
  },
  {
   "cell_type": "markdown",
   "id": "dff9c289",
   "metadata": {},
   "source": [
    "А затем сделаем так, чтобы переменная pt ссылалась на другой объект. Тут становится видно, что был вызван метод del, и объект был удален:"
   ]
  },
  {
   "cell_type": "code",
   "execution_count": 20,
   "id": "6579d6d2",
   "metadata": {},
   "outputs": [
    {
     "name": "stdout",
     "output_type": "stream",
     "text": [
      "Удаление экземпляра: <__main__.Point object at 0x0000019FAA408DC0>\n"
     ]
    }
   ],
   "source": [
    "pt = 3"
   ]
  }
 ],
 "metadata": {
  "kernelspec": {
   "display_name": "Python 3 (ipykernel)",
   "language": "python",
   "name": "python3"
  },
  "language_info": {
   "codemirror_mode": {
    "name": "ipython",
    "version": 3
   },
   "file_extension": ".py",
   "mimetype": "text/x-python",
   "name": "python",
   "nbconvert_exporter": "python",
   "pygments_lexer": "ipython3",
   "version": "3.9.13"
  }
 },
 "nbformat": 4,
 "nbformat_minor": 5
}
