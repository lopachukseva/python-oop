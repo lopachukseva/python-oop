{
 "cells": [
  {
   "cell_type": "markdown",
   "id": "ecf45e08",
   "metadata": {},
   "source": [
    "## Полиморфизм и абстрактные методы"
   ]
  },
  {
   "cell_type": "markdown",
   "id": "29fbf9d6",
   "metadata": {},
   "source": [
    "Полиморфизм - возможность работы с совершенно разными объектами единым образом"
   ]
  },
  {
   "cell_type": "markdown",
   "id": "9cb22dd7",
   "metadata": {},
   "source": [
    "Предположим, что существует два класса, каждый из которых описывает геометрическую фигуру. В каждом из них есть метод, который вычисляет и возвращает периметр фигуры:"
   ]
  },
  {
   "cell_type": "code",
   "execution_count": 1,
   "id": "fb884cc3",
   "metadata": {},
   "outputs": [],
   "source": [
    "class Rectangle:\n",
    "    def __init__(self, w, h):\n",
    "        self.w = w\n",
    "        self.h = h\n",
    "        \n",
    "    def get_rect_pr(self):\n",
    "        return 2*(self.w + self.h)\n",
    "    \n",
    "\n",
    "class Square:\n",
    "    def __init__(self, a):\n",
    "        self.a = a\n",
    "        \n",
    "    def get_sq_pr(self):\n",
    "        return 4 * self.a"
   ]
  },
  {
   "cell_type": "markdown",
   "id": "22289a96",
   "metadata": {},
   "source": [
    "У каждого класса есть объекты:"
   ]
  },
  {
   "cell_type": "code",
   "execution_count": 2,
   "id": "5768db0d",
   "metadata": {},
   "outputs": [],
   "source": [
    "r1 = Rectangle(1, 2)\n",
    "r2 = Rectangle(4, 5)\n",
    "\n",
    "s1 = Square(9)\n",
    "s2 = Square(8)"
   ]
  },
  {
   "cell_type": "markdown",
   "id": "866b0329",
   "metadata": {},
   "source": [
    "И вызвав методы для объектов, можно узнать их периметр:"
   ]
  },
  {
   "cell_type": "code",
   "execution_count": 3,
   "id": "641e3bb2",
   "metadata": {},
   "outputs": [
    {
     "name": "stdout",
     "output_type": "stream",
     "text": [
      "6 18\n",
      "36 32\n"
     ]
    }
   ],
   "source": [
    "print(r1.get_rect_pr(), r2.get_rect_pr())\n",
    "print(s1.get_sq_pr(), s2.get_sq_pr())"
   ]
  },
  {
   "cell_type": "markdown",
   "id": "20d69bde",
   "metadata": {},
   "source": [
    "Но что, если объектов много, и они находятся в списке:"
   ]
  },
  {
   "cell_type": "code",
   "execution_count": 4,
   "id": "bd256e1d",
   "metadata": {},
   "outputs": [],
   "source": [
    "geom = [r1, r2, s1, s2]"
   ]
  },
  {
   "cell_type": "markdown",
   "id": "b0e95f4b",
   "metadata": {},
   "source": [
    "Который необходимо перебрать и вывести для каждого объекта периметр? Можно при переборе сделать проверку, и для каждого объекта вызвать свой метод:"
   ]
  },
  {
   "cell_type": "code",
   "execution_count": 5,
   "id": "2fb26640",
   "metadata": {},
   "outputs": [
    {
     "name": "stdout",
     "output_type": "stream",
     "text": [
      "6\n",
      "18\n",
      "36\n",
      "32\n"
     ]
    }
   ],
   "source": [
    "for g in geom:\n",
    "    if isinstance(g, Rectangle):\n",
    "        print(g.get_rect_pr())\n",
    "    else:\n",
    "        print(g.get_sq_pr())"
   ]
  },
  {
   "cell_type": "markdown",
   "id": "37d1a177",
   "metadata": {},
   "source": [
    "Но это - не лучший выход из ситуации. Такая программа не является гибкой - в случае, если добавятся еще несколько фигур, придется прописывать дополнительные проверки. Выход из этого простой - можно в каждом классе метод, который выполняет одну задачу, называть одинаковым образом:"
   ]
  },
  {
   "cell_type": "code",
   "execution_count": 6,
   "id": "3b38de54",
   "metadata": {},
   "outputs": [],
   "source": [
    "class Rectangle:\n",
    "    def __init__(self, w, h):\n",
    "        self.w = w\n",
    "        self.h = h\n",
    "        \n",
    "    def get_pr(self):\n",
    "        return 2*(self.w + self.h)\n",
    "    \n",
    "\n",
    "class Square:\n",
    "    def __init__(self, a):\n",
    "        self.a = a\n",
    "        \n",
    "    def get_pr(self):\n",
    "        return 4 * self.a"
   ]
  },
  {
   "cell_type": "code",
   "execution_count": 7,
   "id": "702c98b4",
   "metadata": {},
   "outputs": [],
   "source": [
    "geom = [Rectangle(1, 2), Rectangle(4, 5), Square(9), Square(8)]"
   ]
  },
  {
   "cell_type": "markdown",
   "id": "67e12bf2",
   "metadata": {},
   "source": [
    "И в таком случае, если перебирать список, не возникнет проблемы, описанной выше:"
   ]
  },
  {
   "cell_type": "code",
   "execution_count": 8,
   "id": "38c36184",
   "metadata": {},
   "outputs": [
    {
     "name": "stdout",
     "output_type": "stream",
     "text": [
      "6\n",
      "18\n",
      "36\n",
      "32\n"
     ]
    }
   ],
   "source": [
    "for g in geom:\n",
    "    print(g.get_pr())"
   ]
  },
  {
   "cell_type": "markdown",
   "id": "b8c1e8b5",
   "metadata": {},
   "source": [
    "Это и есть пример полиморфизма - когда к разным объектам можно обращаться через единый интерфейс."
   ]
  },
  {
   "cell_type": "markdown",
   "id": "3436446e",
   "metadata": {},
   "source": [
    "Но и здесь может возникнуть ошибка в том случае, если в одном из классов не будет определен такой метод. Эту проблему можно решить, если унаследовать все классы от базового класса, в котором этот метод будет реализован. При этом сам метод при запуске будет генерировать исключение:"
   ]
  },
  {
   "cell_type": "code",
   "execution_count": 9,
   "id": "1f67c183",
   "metadata": {},
   "outputs": [],
   "source": [
    "class Figure:\n",
    "    def get_pr(self):\n",
    "        raise NotImplementedError('В дочернем классе должен быть переопределен метод get_pr')\n",
    "\n",
    "class Rectangle(Figure):\n",
    "    def __init__(self, w, h):\n",
    "        self.w = w\n",
    "        self.h = h\n",
    "        \n",
    "    def get_pr(self):\n",
    "        return 2*(self.w + self.h)\n",
    "    \n",
    "\n",
    "class Square(Figure):\n",
    "    def __init__(self, a):\n",
    "        self.a = a\n",
    "        \n",
    "    def get_pr(self):\n",
    "        return 4 * self.a"
   ]
  },
  {
   "cell_type": "code",
   "execution_count": 10,
   "id": "70f44778",
   "metadata": {},
   "outputs": [
    {
     "name": "stdout",
     "output_type": "stream",
     "text": [
      "6\n",
      "18\n",
      "36\n",
      "32\n"
     ]
    }
   ],
   "source": [
    "geom = [Rectangle(1, 2), Rectangle(4, 5), Square(9), Square(8)]\n",
    "\n",
    "for g in geom:\n",
    "    print(g.get_pr())"
   ]
  },
  {
   "cell_type": "markdown",
   "id": "1733d268",
   "metadata": {},
   "source": [
    "Такие методы, которые не имеют собственной реализации, и должны быть обязательно переопределены в дочернем классе, называются абстрактными."
   ]
  },
  {
   "cell_type": "markdown",
   "id": "8a2582fd",
   "metadata": {},
   "source": [
    "В языке Python нет чисто абстрактных классов - таким образом происходит иммитация подобного поведения, которая подсказывает разработчику, что метод необходимо переопределить."
   ]
  }
 ],
 "metadata": {
  "kernelspec": {
   "display_name": "Python 3 (ipykernel)",
   "language": "python",
   "name": "python3"
  },
  "language_info": {
   "codemirror_mode": {
    "name": "ipython",
    "version": 3
   },
   "file_extension": ".py",
   "mimetype": "text/x-python",
   "name": "python",
   "nbconvert_exporter": "python",
   "pygments_lexer": "ipython3",
   "version": "3.9.13"
  }
 },
 "nbformat": 4,
 "nbformat_minor": 5
}
