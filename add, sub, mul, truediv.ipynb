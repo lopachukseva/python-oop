{
 "cells": [
  {
   "cell_type": "markdown",
   "id": "1184458f",
   "metadata": {},
   "source": [
    "add - для операции сложения<br>\n",
    "sub - для операции вычитания<br>\n",
    "mul - для операции умножения<br>\n",
    "truediv - для операции деления<br>\n",
    "floordiv - для операции целочисленного деления<br>\n",
    "mod - для вычисления остатка от деления<br>"
   ]
  },
  {
   "cell_type": "code",
   "execution_count": 1,
   "id": "a273e164",
   "metadata": {},
   "outputs": [],
   "source": [
    "class Clock:\n",
    "    __DAY = 24*60*60\n",
    "    \n",
    "    def __init__(self, seconds: int):\n",
    "        if not isinstance(seconds, int):\n",
    "            raise TypeError('Секунды должны быть целым числом')\n",
    "        self.seconds = seconds % self.__DAY\n",
    "        \n",
    "    def get_time(self):\n",
    "        s = self.seconds % 60\n",
    "        m = (self.seconds // 60) % 60\n",
    "        h = (self.seconds // 60) // 60\n",
    "        return f'{self.__get_formatted(h)}:{self.__get_formatted(m)}:{self.__get_formatted(s)}'\n",
    "    \n",
    "    @classmethod\n",
    "    def __get_formatted(cls, x):\n",
    "        return str(x).rjust(2, '0')"
   ]
  },
  {
   "cell_type": "code",
   "execution_count": 2,
   "id": "031919c4",
   "metadata": {},
   "outputs": [
    {
     "data": {
      "text/plain": [
       "'01:18:12'"
      ]
     },
     "execution_count": 2,
     "metadata": {},
     "output_type": "execute_result"
    }
   ],
   "source": [
    "c1 = Clock(4692)\n",
    "c1.get_time()"
   ]
  },
  {
   "cell_type": "code",
   "execution_count": 3,
   "id": "e353d485",
   "metadata": {},
   "outputs": [],
   "source": [
    "c2 = Clock(c1.seconds + 60)"
   ]
  },
  {
   "cell_type": "code",
   "execution_count": 4,
   "id": "cdfb84ec",
   "metadata": {},
   "outputs": [
    {
     "data": {
      "text/plain": [
       "'01:19:12'"
      ]
     },
     "execution_count": 4,
     "metadata": {},
     "output_type": "execute_result"
    }
   ],
   "source": [
    "c2.get_time()"
   ]
  },
  {
   "cell_type": "markdown",
   "id": "ad5d0bac",
   "metadata": {},
   "source": [
    "## add"
   ]
  },
  {
   "cell_type": "code",
   "execution_count": 5,
   "id": "060f5fae",
   "metadata": {},
   "outputs": [],
   "source": [
    "class Clock:\n",
    "    __DAY = 24*60*60\n",
    "    \n",
    "    def __init__(self, seconds: int):\n",
    "        if not isinstance(seconds, int):\n",
    "            raise TypeError('Секунды должны быть целым числом')\n",
    "        self.seconds = seconds % self.__DAY\n",
    "        \n",
    "    def get_time(self):\n",
    "        s = self.seconds % 60\n",
    "        m = (self.seconds // 60) % 60\n",
    "        h = (self.seconds // 60) // 60\n",
    "        return f'{self.__get_formatted(h)}:{self.__get_formatted(m)}:{self.__get_formatted(s)}'\n",
    "    \n",
    "    @classmethod\n",
    "    def __get_formatted(cls, x):\n",
    "        return str(x).rjust(2, '0')\n",
    "    \n",
    "    def __add__(self, other):\n",
    "        if type(other) == int:\n",
    "            return Clock(self.seconds + other)\n",
    "        elif type(other) == type(self):\n",
    "            return Clock(self.seconds + other.seconds)\n",
    "        else:\n",
    "            raise TypeError('Операнд должен быть типа int или Clock')"
   ]
  },
  {
   "cell_type": "code",
   "execution_count": 6,
   "id": "a997f557",
   "metadata": {},
   "outputs": [
    {
     "data": {
      "text/plain": [
       "'01:18:12'"
      ]
     },
     "execution_count": 6,
     "metadata": {},
     "output_type": "execute_result"
    }
   ],
   "source": [
    "c1 = Clock(4692)\n",
    "c1.get_time()"
   ]
  },
  {
   "cell_type": "code",
   "execution_count": 7,
   "id": "5ae7d03e",
   "metadata": {},
   "outputs": [
    {
     "data": {
      "text/plain": [
       "'01:19:52'"
      ]
     },
     "execution_count": 7,
     "metadata": {},
     "output_type": "execute_result"
    }
   ],
   "source": [
    "c2 = c1 + 100\n",
    "c2.get_time()"
   ]
  },
  {
   "cell_type": "code",
   "execution_count": 8,
   "id": "409f43fd",
   "metadata": {},
   "outputs": [
    {
     "data": {
      "text/plain": [
       "'02:38:04'"
      ]
     },
     "execution_count": 8,
     "metadata": {},
     "output_type": "execute_result"
    }
   ],
   "source": [
    "c3 = c1 + c2\n",
    "c3.get_time()"
   ]
  },
  {
   "cell_type": "code",
   "execution_count": 9,
   "id": "2ffb8d70",
   "metadata": {},
   "outputs": [
    {
     "data": {
      "text/plain": [
       "'02:39:44'"
      ]
     },
     "execution_count": 9,
     "metadata": {},
     "output_type": "execute_result"
    }
   ],
   "source": [
    "c3 = c1 + c2 + 100\n",
    "c3.get_time()"
   ]
  },
  {
   "cell_type": "code",
   "execution_count": 10,
   "id": "5f54a8b3",
   "metadata": {},
   "outputs": [
    {
     "data": {
      "text/plain": [
       "'05:19:28'"
      ]
     },
     "execution_count": 10,
     "metadata": {},
     "output_type": "execute_result"
    }
   ],
   "source": [
    "c4 = c1 + c2 + c3 + 100\n",
    "c4.get_time()"
   ]
  },
  {
   "cell_type": "markdown",
   "id": "4c331c7d",
   "metadata": {},
   "source": [
    "### radd"
   ]
  },
  {
   "cell_type": "markdown",
   "id": "81151a9f",
   "metadata": {},
   "source": [
    "Метод radd аналогичен методу add и будет вызван тогда, когда экземпляр класса будет правым операндом, а число - левым:"
   ]
  },
  {
   "cell_type": "code",
   "execution_count": 11,
   "id": "118db0c4",
   "metadata": {},
   "outputs": [],
   "source": [
    "class Clock:\n",
    "    __DAY = 24*60*60\n",
    "    \n",
    "    def __init__(self, seconds: int):\n",
    "        if not isinstance(seconds, int):\n",
    "            raise TypeError('Секунды должны быть целым числом')\n",
    "        self.seconds = seconds % self.__DAY\n",
    "        \n",
    "    def get_time(self):\n",
    "        s = self.seconds % 60\n",
    "        m = (self.seconds // 60) % 60\n",
    "        h = (self.seconds // 60) // 60\n",
    "        return f'{self.__get_formatted(h)}:{self.__get_formatted(m)}:{self.__get_formatted(s)}'\n",
    "    \n",
    "    @classmethod\n",
    "    def __get_formatted(cls, x):\n",
    "        return str(x).rjust(2, '0')\n",
    "    \n",
    "    def __add__(self, other):\n",
    "        if type(other) == int:\n",
    "            return Clock(self.seconds + other)\n",
    "        elif type(other) == type(self):\n",
    "            return Clock(self.seconds + other.seconds)\n",
    "        else:\n",
    "            raise TypeError('Операнд должен быть типа int или Clock')\n",
    "            \n",
    "    def __radd__(self, other):\n",
    "        return self + other"
   ]
  },
  {
   "cell_type": "markdown",
   "id": "a30b2229",
   "metadata": {},
   "source": [
    "Когда будет вызван метод radd, он вызовет метод add, поменяв местами два операнда."
   ]
  },
  {
   "cell_type": "code",
   "execution_count": 12,
   "id": "d3581553",
   "metadata": {},
   "outputs": [],
   "source": [
    "c1 = Clock(1000)"
   ]
  },
  {
   "cell_type": "code",
   "execution_count": 13,
   "id": "588c0be0",
   "metadata": {},
   "outputs": [
    {
     "data": {
      "text/plain": [
       "'00:19:00'"
      ]
     },
     "execution_count": 13,
     "metadata": {},
     "output_type": "execute_result"
    }
   ],
   "source": [
    "c1 = 140 + c1\n",
    "c1.get_time()"
   ]
  },
  {
   "cell_type": "markdown",
   "id": "0dec035e",
   "metadata": {},
   "source": [
    "### iadd"
   ]
  },
  {
   "cell_type": "markdown",
   "id": "2e78f53c",
   "metadata": {},
   "source": [
    "Метод iadd реализует операцию +=. Без этого метода операция будет работать, но будет создаваться новый экземпляр класса. Чтобы этого избежать, можно определить метод iadd, который будет просто изменять значение локального переменной:"
   ]
  },
  {
   "cell_type": "code",
   "execution_count": 14,
   "id": "c8670d30",
   "metadata": {},
   "outputs": [],
   "source": [
    "class Clock:\n",
    "    __DAY = 24*60*60\n",
    "    \n",
    "    def __init__(self, seconds: int):\n",
    "        if not isinstance(seconds, int):\n",
    "            raise TypeError('Секунды должны быть целым числом')\n",
    "        self.seconds = seconds % self.__DAY\n",
    "        \n",
    "    def get_time(self):\n",
    "        s = self.seconds % 60\n",
    "        m = (self.seconds // 60) % 60\n",
    "        h = (self.seconds // 60) // 60\n",
    "        return f'{self.__get_formatted(h)}:{self.__get_formatted(m)}:{self.__get_formatted(s)}'\n",
    "    \n",
    "    @classmethod\n",
    "    def __get_formatted(cls, x):\n",
    "        return str(x).rjust(2, '0')\n",
    "    \n",
    "    def __add__(self, other):\n",
    "        if type(other) == int:\n",
    "            return Clock(self.seconds + other)\n",
    "        elif type(other) == type(self):\n",
    "            return Clock(self.seconds + other.seconds)\n",
    "        else:\n",
    "            raise TypeError('Операнд должен быть типа int или Clock')\n",
    "            \n",
    "    def __radd__(self, other):\n",
    "        return self + other\n",
    "    \n",
    "    def __iadd__(self, other):\n",
    "        self.seconds += other\n",
    "        return self"
   ]
  },
  {
   "cell_type": "code",
   "execution_count": 15,
   "id": "2eb514ee",
   "metadata": {},
   "outputs": [
    {
     "data": {
      "text/plain": [
       "'00:03:20'"
      ]
     },
     "execution_count": 15,
     "metadata": {},
     "output_type": "execute_result"
    }
   ],
   "source": [
    "c1 = Clock(100)\n",
    "c1 += 100\n",
    "c1.get_time()"
   ]
  },
  {
   "cell_type": "markdown",
   "id": "0eb28479",
   "metadata": {},
   "source": [
    "По аналогии используются и все остальные магические методы: sub, mul, truediv, floordiv, mod."
   ]
  }
 ],
 "metadata": {
  "kernelspec": {
   "display_name": "Python 3 (ipykernel)",
   "language": "python",
   "name": "python3"
  },
  "language_info": {
   "codemirror_mode": {
    "name": "ipython",
    "version": 3
   },
   "file_extension": ".py",
   "mimetype": "text/x-python",
   "name": "python",
   "nbconvert_exporter": "python",
   "pygments_lexer": "ipython3",
   "version": "3.9.13"
  }
 },
 "nbformat": 4,
 "nbformat_minor": 5
}
