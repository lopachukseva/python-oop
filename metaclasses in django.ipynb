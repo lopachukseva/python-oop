{
 "cells": [
  {
   "cell_type": "markdown",
   "id": "b45fa84a",
   "metadata": {},
   "source": [
    "## Метаклассы в API ORM Django"
   ]
  },
  {
   "cell_type": "markdown",
   "id": "da3952f0",
   "metadata": {},
   "source": [
    "Django использует метаклассы для связи объектов с записями базы данных. Т.е. метаклассы используются для реализации API ORM Django. В частности, он делает следующее:"
   ]
  },
  {
   "cell_type": "markdown",
   "id": "625d16da",
   "metadata": {},
   "source": [
    "Можно определить некий класс модели с набором атрибутов, причем эти атрибуты совпадают с соответствующими полями таблицы в базе данных."
   ]
  },
  {
   "cell_type": "code",
   "execution_count": 1,
   "id": "0dcaa486",
   "metadata": {},
   "outputs": [],
   "source": [
    "class Meta(type):\n",
    "    def create_local_attrs(self, *args, **kwargs):\n",
    "        for key, value in self.class_attrs.items():\n",
    "            self.__dict__[key] = value\n",
    "    \n",
    "    def __init__(cls, name, base, attrs):\n",
    "        cls.class_attrs = attrs\n",
    "        cls.__init__ = Meta.create_local_attrs"
   ]
  },
  {
   "cell_type": "code",
   "execution_count": 2,
   "id": "31586c18",
   "metadata": {},
   "outputs": [],
   "source": [
    "class Person(metaclass=Meta):\n",
    "    name = 'person name'\n",
    "    photo = 'person photo'"
   ]
  },
  {
   "cell_type": "code",
   "execution_count": 3,
   "id": "680401f3",
   "metadata": {},
   "outputs": [],
   "source": [
    "p1 = Person()"
   ]
  },
  {
   "cell_type": "code",
   "execution_count": 4,
   "id": "57174816",
   "metadata": {
    "scrolled": true
   },
   "outputs": [
    {
     "data": {
      "text/plain": [
       "{'__module__': '__main__',\n",
       " '__qualname__': 'Person',\n",
       " 'name': 'person name',\n",
       " 'photo': 'person photo'}"
      ]
     },
     "execution_count": 4,
     "metadata": {},
     "output_type": "execute_result"
    }
   ],
   "source": [
    "p1.__dict__"
   ]
  },
  {
   "cell_type": "markdown",
   "id": "e8b47f65",
   "metadata": {},
   "source": [
    "С помощью метакласса у экземпляра класса Person формируются локальные атрибуты, которые совпадают с атрибутами класса Person. "
   ]
  }
 ],
 "metadata": {
  "kernelspec": {
   "display_name": "Python 3 (ipykernel)",
   "language": "python",
   "name": "python3"
  },
  "language_info": {
   "codemirror_mode": {
    "name": "ipython",
    "version": 3
   },
   "file_extension": ".py",
   "mimetype": "text/x-python",
   "name": "python",
   "nbconvert_exporter": "python",
   "pygments_lexer": "ipython3",
   "version": "3.9.13"
  }
 },
 "nbformat": 4,
 "nbformat_minor": 5
}
