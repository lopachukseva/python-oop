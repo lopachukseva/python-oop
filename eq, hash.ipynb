{
 "cells": [
  {
   "cell_type": "markdown",
   "id": "4acf65f3",
   "metadata": {},
   "source": [
    "## Функция hash() и хэши объектов"
   ]
  },
  {
   "cell_type": "markdown",
   "id": "923911f6",
   "metadata": {},
   "source": [
    "В Python есть специальная функция hash, позволяющая вычислять хэш по определенному алгоритму для неизменяемых объектов. Для равных объектов на выходе будет получаться одинаковый хэш."
   ]
  },
  {
   "cell_type": "markdown",
   "id": "3da2e82e",
   "metadata": {},
   "source": [
    "К примеру, можно вычислить хэш целого числа:"
   ]
  },
  {
   "cell_type": "code",
   "execution_count": 1,
   "id": "53ac14ba",
   "metadata": {},
   "outputs": [
    {
     "data": {
      "text/plain": [
       "123"
      ]
     },
     "execution_count": 1,
     "metadata": {},
     "output_type": "execute_result"
    }
   ],
   "source": [
    "hash(123)"
   ]
  },
  {
   "cell_type": "markdown",
   "id": "3095b720",
   "metadata": {},
   "source": [
    "Или строки:"
   ]
  },
  {
   "cell_type": "code",
   "execution_count": 2,
   "id": "f4d52b93",
   "metadata": {},
   "outputs": [
    {
     "data": {
      "text/plain": [
       "-3742965780803970851"
      ]
     },
     "execution_count": 2,
     "metadata": {},
     "output_type": "execute_result"
    }
   ],
   "source": [
    "hash('Python')"
   ]
  },
  {
   "cell_type": "markdown",
   "id": "1eac4940",
   "metadata": {},
   "source": [
    "И если снова вычислить хэш для этой строки, результат будет идентичным:"
   ]
  },
  {
   "cell_type": "code",
   "execution_count": 3,
   "id": "6464a092",
   "metadata": {},
   "outputs": [
    {
     "data": {
      "text/plain": [
       "-3742965780803970851"
      ]
     },
     "execution_count": 3,
     "metadata": {},
     "output_type": "execute_result"
    }
   ],
   "source": [
    "hash('Python')"
   ]
  },
  {
   "cell_type": "markdown",
   "id": "93a0b343",
   "metadata": {},
   "source": [
    "Аналогично и с кортежем:"
   ]
  },
  {
   "cell_type": "code",
   "execution_count": 4,
   "id": "0166bf0d",
   "metadata": {},
   "outputs": [
    {
     "data": {
      "text/plain": [
       "529344067295497451"
      ]
     },
     "execution_count": 4,
     "metadata": {},
     "output_type": "execute_result"
    }
   ],
   "source": [
    "hash((1, 2, 3))"
   ]
  },
  {
   "cell_type": "code",
   "execution_count": 5,
   "id": "4d4bc902",
   "metadata": {},
   "outputs": [
    {
     "data": {
      "text/plain": [
       "529344067295497451"
      ]
     },
     "execution_count": 5,
     "metadata": {},
     "output_type": "execute_result"
    }
   ],
   "source": [
    "hash((1, 2, 3))"
   ]
  },
  {
   "cell_type": "markdown",
   "id": "c8fc96e5",
   "metadata": {},
   "source": [
    "Т.е. для одинаковых объектов хэши одинаковы. Но обратное утвержение неверно: если хэши одинаковые, то это не значит, что объекты одинаковы."
   ]
  },
  {
   "cell_type": "markdown",
   "id": "bd617e16",
   "metadata": {},
   "source": [
    "Если объекты a == b (равны), то равен и их хэш. <br>\n",
    "Равные хэши hash(a) == hash(b) не гарантируют равенство объектов.<br>\n",
    "Если хэши не равны: hash(a) != hash(b), то объекты точно не равны.<br>"
   ]
  },
  {
   "cell_type": "markdown",
   "id": "93fa9554",
   "metadata": {},
   "source": [
    "Хэши можно вычислять только для неизменяемых объектов. Если попытаться выхвать хэш, к примеру, для списка, то будет ошибка: unhashable type. Изменяемые объекты являются нехэшируемыми."
   ]
  },
  {
   "cell_type": "markdown",
   "id": "e64dab71",
   "metadata": {},
   "source": [
    "Некоторые объекты в Python (например, словари) используют хэш в качестве своих ключей. Когда у словаря прописывается какой либо ключ - он должен быть не изменяемым объектом. Если попробовать использовать в качестве ключа изменяемый объект - будет ошибка. Словарь хранит ключи в виде коллекции: (хэш ключа, ключ). Это нужно для оптимизации поиска - реализован алгоритм, который быстро это делает именно при помощи хэша. Если вдруг встречаются равные хэши - то алгоритм смотрит на ключ, после чего поиск нужного значения завершается."
   ]
  },
  {
   "cell_type": "markdown",
   "id": "9dd14556",
   "metadata": {},
   "source": [
    "Объекты пользовательского класса считаются неизменяемыми, и для них можно вычислить хэш:"
   ]
  },
  {
   "cell_type": "code",
   "execution_count": 6,
   "id": "5e880f7c",
   "metadata": {},
   "outputs": [],
   "source": [
    "class Point:\n",
    "    def __init__(self, x, y):\n",
    "        self.x = x\n",
    "        self.y = y"
   ]
  },
  {
   "cell_type": "markdown",
   "id": "73faefcb",
   "metadata": {},
   "source": [
    "Не смотря на то, что два объекта с одинаковыми параметрами:"
   ]
  },
  {
   "cell_type": "code",
   "execution_count": 7,
   "id": "481daf90",
   "metadata": {},
   "outputs": [],
   "source": [
    "p1 = Point(1, 2)\n",
    "p2 = Point(1, 2)"
   ]
  },
  {
   "cell_type": "markdown",
   "id": "cb0cc72d",
   "metadata": {},
   "source": [
    "Хэши у них разные:"
   ]
  },
  {
   "cell_type": "code",
   "execution_count": 8,
   "id": "a1981afb",
   "metadata": {},
   "outputs": [
    {
     "name": "stdout",
     "output_type": "stream",
     "text": [
      "111260066118\n",
      "111260066292\n"
     ]
    }
   ],
   "source": [
    "print(hash(p1), hash(p2), sep='\\n')"
   ]
  },
  {
   "cell_type": "markdown",
   "id": "93869ad2",
   "metadata": {},
   "source": [
    "Функция понимает, что объекты разные благодаря такому сравнению:"
   ]
  },
  {
   "cell_type": "code",
   "execution_count": 9,
   "id": "14a3d2d9",
   "metadata": {},
   "outputs": [
    {
     "data": {
      "text/plain": [
       "False"
      ]
     },
     "execution_count": 9,
     "metadata": {},
     "output_type": "execute_result"
    }
   ],
   "source": [
    "p1 == p2"
   ]
  },
  {
   "cell_type": "markdown",
   "id": "74b85704",
   "metadata": {},
   "source": [
    "Так как если объекты равны - их хеш должен быть одинаковым."
   ]
  },
  {
   "cell_type": "markdown",
   "id": "01d5f673",
   "metadata": {},
   "source": [
    "Но если определить магический метод eq, который отвечает за сравнение объектов:"
   ]
  },
  {
   "cell_type": "code",
   "execution_count": 10,
   "id": "a35611a9",
   "metadata": {},
   "outputs": [],
   "source": [
    "class Point:\n",
    "    def __init__(self, x, y):\n",
    "        self.x = x\n",
    "        self.y = y\n",
    "        \n",
    "    def __eq__(self, other):\n",
    "        return (self.x == other.x and self.y == other.y)"
   ]
  },
  {
   "cell_type": "code",
   "execution_count": 11,
   "id": "8c0c3ea9",
   "metadata": {},
   "outputs": [],
   "source": [
    "p1 = Point(1, 2)\n",
    "p2 = Point(1, 2)"
   ]
  },
  {
   "cell_type": "code",
   "execution_count": 12,
   "id": "1d1b7194",
   "metadata": {},
   "outputs": [
    {
     "data": {
      "text/plain": [
       "True"
      ]
     },
     "execution_count": 12,
     "metadata": {},
     "output_type": "execute_result"
    }
   ],
   "source": [
    "p1 == p2"
   ]
  },
  {
   "cell_type": "markdown",
   "id": "3d85a4e5",
   "metadata": {},
   "source": [
    "То функция hash работать перестанет. Для того, чтобы восстановить ее работу, нужно переопределить магический метод hash, который и вызывается при вычислении хэша, а внутри вызвать фунцию hash, но уже не от самого объекта, а от его параметров:"
   ]
  },
  {
   "cell_type": "code",
   "execution_count": 13,
   "id": "06d59808",
   "metadata": {},
   "outputs": [],
   "source": [
    "class Point:\n",
    "    def __init__(self, x, y):\n",
    "        self.x = x\n",
    "        self.y = y\n",
    "        \n",
    "    def __eq__(self, other):\n",
    "        return (self.x == other.x and self.y == other.y)\n",
    "    \n",
    "    def __hash__(self):\n",
    "        return hash((self.x, self.y))"
   ]
  },
  {
   "cell_type": "code",
   "execution_count": 14,
   "id": "1634036f",
   "metadata": {},
   "outputs": [],
   "source": [
    "p1 = Point(1, 2)\n",
    "p2 = Point(1, 2)"
   ]
  },
  {
   "cell_type": "code",
   "execution_count": 15,
   "id": "49108509",
   "metadata": {
    "scrolled": true
   },
   "outputs": [
    {
     "name": "stdout",
     "output_type": "stream",
     "text": [
      "-3550055125485641917\n",
      "-3550055125485641917\n"
     ]
    }
   ],
   "source": [
    "print(hash(p1), hash(p2), sep='\\n')"
   ]
  },
  {
   "cell_type": "markdown",
   "id": "5352da59",
   "metadata": {},
   "source": [
    "И хэши этих объектов будут равны, так как параметры этих объектов равны."
   ]
  },
  {
   "cell_type": "markdown",
   "id": "931c2cb8",
   "metadata": {},
   "source": [
    "Теперь если сформировать словарь:"
   ]
  },
  {
   "cell_type": "code",
   "execution_count": 16,
   "id": "3940eb05",
   "metadata": {},
   "outputs": [],
   "source": [
    "d = {}"
   ]
  },
  {
   "cell_type": "markdown",
   "id": "d8f20b0d",
   "metadata": {},
   "source": [
    "И в качестве ключей указать эти объекты:"
   ]
  },
  {
   "cell_type": "code",
   "execution_count": 17,
   "id": "a7132996",
   "metadata": {},
   "outputs": [],
   "source": [
    "d[p1] = 1\n",
    "d[p2] = 2"
   ]
  },
  {
   "cell_type": "markdown",
   "id": "a2e53fcb",
   "metadata": {},
   "source": [
    "То в этом словаре будет один ключ со значением 2:"
   ]
  },
  {
   "cell_type": "code",
   "execution_count": 18,
   "id": "f1ee49d8",
   "metadata": {},
   "outputs": [
    {
     "data": {
      "text/plain": [
       "{<__main__.Point at 0x19e79e3b8b0>: 2}"
      ]
     },
     "execution_count": 18,
     "metadata": {},
     "output_type": "execute_result"
    }
   ],
   "source": [
    "d"
   ]
  },
  {
   "cell_type": "markdown",
   "id": "c60776fe",
   "metadata": {},
   "source": [
    "Это говорит о том, что объекты p1 и p2 воспринимаются как один и тот же ключ, так как их хэши равны и оператор сравнения на равенство этих объектов также выдает True: то есть для словаря это один и тот же ключ."
   ]
  }
 ],
 "metadata": {
  "kernelspec": {
   "display_name": "Python 3 (ipykernel)",
   "language": "python",
   "name": "python3"
  },
  "language_info": {
   "codemirror_mode": {
    "name": "ipython",
    "version": 3
   },
   "file_extension": ".py",
   "mimetype": "text/x-python",
   "name": "python",
   "nbconvert_exporter": "python",
   "pygments_lexer": "ipython3",
   "version": "3.9.13"
  }
 },
 "nbformat": 4,
 "nbformat_minor": 5
}
