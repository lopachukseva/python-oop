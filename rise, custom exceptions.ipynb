{
 "cells": [
  {
   "cell_type": "markdown",
   "id": "a8dad12c",
   "metadata": {},
   "source": [
    "## Инструкция raise"
   ]
  },
  {
   "cell_type": "markdown",
   "id": "2f6bbd21",
   "metadata": {},
   "source": [
    "С помощью оператора raise можно генерировать все исключения:"
   ]
  },
  {
   "cell_type": "code",
   "execution_count": 1,
   "id": "6a5103cf",
   "metadata": {},
   "outputs": [],
   "source": [
    "# raise ZeroDivisionError"
   ]
  },
  {
   "cell_type": "markdown",
   "id": "38671cff",
   "metadata": {},
   "source": [
    "И это произошло не потому, что произошло деление на ноль: исключение было вызвано именно при помощи raise. Также в круглых скобках можно прописать конкретное сообщение, которое будет выводится:"
   ]
  },
  {
   "cell_type": "code",
   "execution_count": 2,
   "id": "7cf45bde",
   "metadata": {},
   "outputs": [],
   "source": [
    "# raise ZeroDivisionError(\"Деление на ноль\")"
   ]
  },
  {
   "cell_type": "markdown",
   "id": "cf441e1e",
   "metadata": {},
   "source": [
    "Т.е. после оператора raise прописывается класс исключения, и опционально - расшифровка. Можно сделать и другим способом: присвоить этот класс переменной, а затем приписать эту переменную после raise:"
   ]
  },
  {
   "cell_type": "code",
   "execution_count": 3,
   "id": "034b9e05",
   "metadata": {},
   "outputs": [],
   "source": [
    "# e = ZeroDivisionError(\"Деление на ноль\")\n",
    "# raise e"
   ]
  },
  {
   "cell_type": "markdown",
   "id": "f3e5275a",
   "metadata": {},
   "source": [
    "## Пользовательские исключения"
   ]
  },
  {
   "cell_type": "markdown",
   "id": "22769fd4",
   "metadata": {},
   "source": [
    "Пользовательские классы исключений должны основываться на классе Exception."
   ]
  },
  {
   "cell_type": "code",
   "execution_count": 4,
   "id": "96740ab4",
   "metadata": {},
   "outputs": [],
   "source": [
    "class MyException(Exception):\n",
    "    '''Класс исключений для ...'''\n",
    "    pass\n",
    "\n",
    "\n",
    "# raise MyException"
   ]
  },
  {
   "cell_type": "markdown",
   "id": "7687ee3d",
   "metadata": {},
   "source": [
    "Так как этот класс наследуется на от класса Exception, базовый функционал сохранен. К примеру, можно по прежнему писать комментарии:"
   ]
  },
  {
   "cell_type": "code",
   "execution_count": 5,
   "id": "7cd09559",
   "metadata": {},
   "outputs": [],
   "source": [
    "# raise MyException('Комментарий')"
   ]
  },
  {
   "cell_type": "markdown",
   "id": "7bd02fd3",
   "metadata": {},
   "source": [
    "И такое исключение можно обрабатывать:"
   ]
  },
  {
   "cell_type": "code",
   "execution_count": 6,
   "id": "2365fbd9",
   "metadata": {},
   "outputs": [],
   "source": [
    "a = False\n",
    "def MyFunction(a):\n",
    "    if not a:\n",
    "        raise MyException('Исключение MyException')"
   ]
  },
  {
   "cell_type": "code",
   "execution_count": 7,
   "id": "9edcf57e",
   "metadata": {},
   "outputs": [
    {
     "name": "stdout",
     "output_type": "stream",
     "text": [
      "Обработка исключения MyException\n"
     ]
    }
   ],
   "source": [
    "try:\n",
    "    MyFunction(a)\n",
    "except MyException:\n",
    "    print('Обработка исключения MyException')"
   ]
  },
  {
   "cell_type": "markdown",
   "id": "d529e211",
   "metadata": {},
   "source": [
    "Ценность собственного класса исключений в том, что если отлавливать подобное исключение - можно точно знать, где оно возникло. Если же использовать вместо этого базовый класс Exception, будет идти обработка не только этой ошибки, но и остальных."
   ]
  },
  {
   "cell_type": "markdown",
   "id": "ea62369d",
   "metadata": {},
   "source": [
    "В классе исключений можно прописывать свой функционал:"
   ]
  },
  {
   "cell_type": "code",
   "execution_count": 8,
   "id": "9a5cdd08",
   "metadata": {},
   "outputs": [],
   "source": [
    "class MyException(Exception):\n",
    "    '''Класс исключений для ...'''\n",
    "    \n",
    "    def __init__(self, *args):\n",
    "        self.message = args[0] if args else None\n",
    "        \n",
    "    def __str__(self):\n",
    "        return f'Ошибка: {self.message}'"
   ]
  },
  {
   "cell_type": "markdown",
   "id": "1c0a706a",
   "metadata": {},
   "source": [
    "Также с помощью пользовательских классов исключений можно написать свою иерархию исключений. "
   ]
  }
 ],
 "metadata": {
  "kernelspec": {
   "display_name": "Python 3 (ipykernel)",
   "language": "python",
   "name": "python3"
  },
  "language_info": {
   "codemirror_mode": {
    "name": "ipython",
    "version": 3
   },
   "file_extension": ".py",
   "mimetype": "text/x-python",
   "name": "python",
   "nbconvert_exporter": "python",
   "pygments_lexer": "ipython3",
   "version": "3.9.13"
  }
 },
 "nbformat": 4,
 "nbformat_minor": 5
}
