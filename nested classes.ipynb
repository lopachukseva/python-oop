{
 "cells": [
  {
   "cell_type": "markdown",
   "id": "12dd5291",
   "metadata": {},
   "source": [
    "## Вложенные классы"
   ]
  },
  {
   "cell_type": "markdown",
   "id": "4acde7dc",
   "metadata": {},
   "source": [
    "В Python в один класс можно вкладывать другой:"
   ]
  },
  {
   "cell_type": "code",
   "execution_count": 1,
   "id": "03986e57",
   "metadata": {},
   "outputs": [],
   "source": [
    "class Person:\n",
    "    name = ''\n",
    "    photo = ''\n",
    "    ordering = 'ordering in class Person'\n",
    "    \n",
    "    class Meta:\n",
    "        ordering = 'ordering in class Meta'"
   ]
  },
  {
   "cell_type": "markdown",
   "id": "404d4caa",
   "metadata": {},
   "source": [
    "Тем самым вложенный класс Meta образует независимое от класса Person пространство имен."
   ]
  },
  {
   "cell_type": "markdown",
   "id": "f2e61398",
   "metadata": {},
   "source": [
    "И к ним можно обращаться следующим образом:"
   ]
  },
  {
   "cell_type": "code",
   "execution_count": 2,
   "id": "e1586d80",
   "metadata": {},
   "outputs": [
    {
     "data": {
      "text/plain": [
       "'ordering in class Person'"
      ]
     },
     "execution_count": 2,
     "metadata": {},
     "output_type": "execute_result"
    }
   ],
   "source": [
    "Person.ordering"
   ]
  },
  {
   "cell_type": "code",
   "execution_count": 3,
   "id": "9681ab22",
   "metadata": {},
   "outputs": [
    {
     "data": {
      "text/plain": [
       "'ordering in class Meta'"
      ]
     },
     "execution_count": 3,
     "metadata": {},
     "output_type": "execute_result"
    }
   ],
   "source": [
    "Person.Meta.ordering"
   ]
  },
  {
   "cell_type": "markdown",
   "id": "fa3fd840",
   "metadata": {},
   "source": [
    "Либо через экземпляр класса Women:"
   ]
  },
  {
   "cell_type": "code",
   "execution_count": 4,
   "id": "8eb5b4d6",
   "metadata": {},
   "outputs": [],
   "source": [
    "p = Person()"
   ]
  },
  {
   "cell_type": "code",
   "execution_count": 5,
   "id": "4d288559",
   "metadata": {},
   "outputs": [
    {
     "data": {
      "text/plain": [
       "'ordering in class Person'"
      ]
     },
     "execution_count": 5,
     "metadata": {},
     "output_type": "execute_result"
    }
   ],
   "source": [
    "p.ordering"
   ]
  },
  {
   "cell_type": "code",
   "execution_count": 6,
   "id": "320bc9f8",
   "metadata": {},
   "outputs": [
    {
     "data": {
      "text/plain": [
       "'ordering in class Meta'"
      ]
     },
     "execution_count": 6,
     "metadata": {},
     "output_type": "execute_result"
    }
   ],
   "source": [
    "p.Meta.ordering"
   ]
  },
  {
   "cell_type": "markdown",
   "id": "36d58172",
   "metadata": {},
   "source": [
    "При этом объект класса Meta не создается. Но его можно создать:"
   ]
  },
  {
   "cell_type": "code",
   "execution_count": 7,
   "id": "ea1cf5a0",
   "metadata": {},
   "outputs": [],
   "source": [
    "class Person:\n",
    "    name = ''\n",
    "    photo = ''\n",
    "    ordering = 'ordering in class Person'\n",
    "    \n",
    "    def __init__(self):\n",
    "        self.meta = self.Meta()\n",
    "    \n",
    "    class Meta:\n",
    "        ordering = 'ordering in class Meta'"
   ]
  },
  {
   "cell_type": "code",
   "execution_count": 8,
   "id": "6306c52d",
   "metadata": {},
   "outputs": [],
   "source": [
    "p = Person()"
   ]
  },
  {
   "cell_type": "code",
   "execution_count": 9,
   "id": "d262f86c",
   "metadata": {},
   "outputs": [
    {
     "data": {
      "text/plain": [
       "{'meta': <__main__.Person.Meta at 0x187ec77e610>}"
      ]
     },
     "execution_count": 9,
     "metadata": {},
     "output_type": "execute_result"
    }
   ],
   "source": [
    "p.__dict__"
   ]
  },
  {
   "cell_type": "markdown",
   "id": "14f15a37",
   "metadata": {},
   "source": [
    "Также из внешнего класса можно обращаться к атрибутам внутреннего, но наоборот - нельзя. В одних случаях это невозможно, а в других - может привести к ошибкам."
   ]
  },
  {
   "cell_type": "code",
   "execution_count": 10,
   "id": "83aa3ae8",
   "metadata": {},
   "outputs": [],
   "source": [
    "class Person:\n",
    "    name = ''\n",
    "    photo = ''\n",
    "    ordering = 'ordering in class Person'\n",
    "    \n",
    "    def __init__(self, name, password):\n",
    "        self.name = name\n",
    "        self.password = password\n",
    "        self.meta = self.Meta(name)\n",
    "    \n",
    "    class Meta:\n",
    "        ordering = 'ordering in class Meta'\n",
    "        \n",
    "        def __init__(self, name):\n",
    "            self.access = f'{name}@yawl.io'"
   ]
  },
  {
   "cell_type": "code",
   "execution_count": 11,
   "id": "0e801117",
   "metadata": {},
   "outputs": [],
   "source": [
    "p = Person('Alex', '1234')"
   ]
  },
  {
   "cell_type": "code",
   "execution_count": 12,
   "id": "1685ccc0",
   "metadata": {},
   "outputs": [
    {
     "data": {
      "text/plain": [
       "{'name': 'Alex',\n",
       " 'password': '1234',\n",
       " 'meta': <__main__.Person.Meta at 0x187ec7cddc0>}"
      ]
     },
     "execution_count": 12,
     "metadata": {},
     "output_type": "execute_result"
    }
   ],
   "source": [
    "p.__dict__"
   ]
  },
  {
   "cell_type": "code",
   "execution_count": 13,
   "id": "55f85be3",
   "metadata": {},
   "outputs": [
    {
     "data": {
      "text/plain": [
       "{'access': 'Alex@yawl.io'}"
      ]
     },
     "execution_count": 13,
     "metadata": {},
     "output_type": "execute_result"
    }
   ],
   "source": [
    "p.meta.__dict__"
   ]
  }
 ],
 "metadata": {
  "kernelspec": {
   "display_name": "Python 3 (ipykernel)",
   "language": "python",
   "name": "python3"
  },
  "language_info": {
   "codemirror_mode": {
    "name": "ipython",
    "version": 3
   },
   "file_extension": ".py",
   "mimetype": "text/x-python",
   "name": "python",
   "nbconvert_exporter": "python",
   "pygments_lexer": "ipython3",
   "version": "3.9.13"
  }
 },
 "nbformat": 4,
 "nbformat_minor": 5
}
