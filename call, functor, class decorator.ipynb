{
 "cells": [
  {
   "cell_type": "markdown",
   "id": "65f0e8e7",
   "metadata": {},
   "source": [
    "## Магический метод call"
   ]
  },
  {
   "cell_type": "code",
   "execution_count": 1,
   "id": "360ccc02",
   "metadata": {},
   "outputs": [],
   "source": [
    "class Counter:\n",
    "    def __init__(self):\n",
    "        self.__counter = 0"
   ]
  },
  {
   "cell_type": "markdown",
   "id": "7c870661",
   "metadata": {},
   "source": [
    "При вызове класса запускается метод call и создается экземпляр этого класса:"
   ]
  },
  {
   "cell_type": "code",
   "execution_count": 2,
   "id": "a5a2f548",
   "metadata": {},
   "outputs": [],
   "source": [
    "c = Counter()"
   ]
  },
  {
   "cell_type": "markdown",
   "id": "38a1c84d",
   "metadata": {},
   "source": [
    "Т.е. когда прописываются круглые скобки после имени класса - автоматически вызывается метод call. Ему могут быть переданы какие либо параметры."
   ]
  },
  {
   "cell_type": "markdown",
   "id": "790c8256",
   "metadata": {},
   "source": [
    "В общем случае сначала отрабатывает метод new, а затем - метод init:"
   ]
  },
  {
   "cell_type": "code",
   "execution_count": 3,
   "id": "c18e6a91",
   "metadata": {},
   "outputs": [],
   "source": [
    "# def __call__(self, *args, **kwargs):\n",
    "#     obj = self.__new__(self, *args, **kwargs)\n",
    "#     self.__init__(obj, *args, **kwargs)\n",
    "#     return obj"
   ]
  },
  {
   "cell_type": "markdown",
   "id": "4fb71f9f",
   "metadata": {},
   "source": [
    "Благодаря методу call класс можно вызывать подобно функциям. Вызывать экземпляр таким образом уже не получится, так как объект уже не является вызываемым: в нем нет функции call."
   ]
  },
  {
   "cell_type": "markdown",
   "id": "f7792ed0",
   "metadata": {},
   "source": [
    "Если определить в классе магический метод call:"
   ]
  },
  {
   "cell_type": "code",
   "execution_count": 4,
   "id": "4d5852f8",
   "metadata": {},
   "outputs": [],
   "source": [
    "class Counter:\n",
    "    def __init__(self):\n",
    "        self.__counter = 0\n",
    "        \n",
    "    def __call__(self, *args, **kwargs):\n",
    "        print('__call__')\n",
    "        self.__counter += 1\n",
    "        return self.__counter"
   ]
  },
  {
   "cell_type": "code",
   "execution_count": 5,
   "id": "e2761bec",
   "metadata": {},
   "outputs": [],
   "source": [
    "c = Counter()"
   ]
  },
  {
   "cell_type": "markdown",
   "id": "c54ace16",
   "metadata": {},
   "source": [
    "То экземпляр класса можно будет вызывать. И при вызове будет работать код, который содержится внутри магического метода call:"
   ]
  },
  {
   "cell_type": "code",
   "execution_count": 6,
   "id": "db34e589",
   "metadata": {},
   "outputs": [
    {
     "name": "stdout",
     "output_type": "stream",
     "text": [
      "__call__\n"
     ]
    },
    {
     "data": {
      "text/plain": [
       "1"
      ]
     },
     "execution_count": 6,
     "metadata": {},
     "output_type": "execute_result"
    }
   ],
   "source": [
    "c()"
   ]
  },
  {
   "cell_type": "code",
   "execution_count": 7,
   "id": "1ec6c387",
   "metadata": {},
   "outputs": [
    {
     "name": "stdout",
     "output_type": "stream",
     "text": [
      "__call__\n"
     ]
    },
    {
     "data": {
      "text/plain": [
       "2"
      ]
     },
     "execution_count": 7,
     "metadata": {},
     "output_type": "execute_result"
    }
   ],
   "source": [
    "c()"
   ]
  },
  {
   "cell_type": "markdown",
   "id": "4dec1bea",
   "metadata": {},
   "source": [
    "Классы, которые ведут себя подобным образом, называются функторами. Функциональные объекты (функторы) - объекты, которые можно вызывать подобно функциям"
   ]
  },
  {
   "cell_type": "markdown",
   "id": "dba04cf1",
   "metadata": {},
   "source": [
    "Можно реализовать несколько таких объектов, и они будут работать независимо друг от друга:"
   ]
  },
  {
   "cell_type": "code",
   "execution_count": 8,
   "id": "0388daaf",
   "metadata": {},
   "outputs": [],
   "source": [
    "c2 = Counter()"
   ]
  },
  {
   "cell_type": "code",
   "execution_count": 9,
   "id": "4b6b8e80",
   "metadata": {},
   "outputs": [
    {
     "name": "stdout",
     "output_type": "stream",
     "text": [
      "__call__\n"
     ]
    },
    {
     "data": {
      "text/plain": [
       "1"
      ]
     },
     "execution_count": 9,
     "metadata": {},
     "output_type": "execute_result"
    }
   ],
   "source": [
    "c2()"
   ]
  },
  {
   "cell_type": "markdown",
   "id": "5f8ed479",
   "metadata": {},
   "source": [
    "Пример использования: замена замыканий функций:"
   ]
  },
  {
   "cell_type": "code",
   "execution_count": 10,
   "id": "f829cba3",
   "metadata": {},
   "outputs": [],
   "source": [
    "class StripChars:\n",
    "    def __init__(self, ch):\n",
    "        self.ch = ch\n",
    "        \n",
    "    \n",
    "    def __call__(self, str, *args, **kwargs):\n",
    "        return str.strip(self.ch)"
   ]
  },
  {
   "cell_type": "code",
   "execution_count": 11,
   "id": "dbe5f729",
   "metadata": {},
   "outputs": [],
   "source": [
    "str1 = '   sdf    -----'"
   ]
  },
  {
   "cell_type": "code",
   "execution_count": 12,
   "id": "482a88c9",
   "metadata": {},
   "outputs": [],
   "source": [
    "str2 = '***dfdgfdfg***'"
   ]
  },
  {
   "cell_type": "code",
   "execution_count": 13,
   "id": "5d7edf39",
   "metadata": {},
   "outputs": [],
   "source": [
    "s1 = StripChars('*')"
   ]
  },
  {
   "cell_type": "code",
   "execution_count": 14,
   "id": "41b881d4",
   "metadata": {},
   "outputs": [
    {
     "data": {
      "text/plain": [
       "'   sdf    -----'"
      ]
     },
     "execution_count": 14,
     "metadata": {},
     "output_type": "execute_result"
    }
   ],
   "source": [
    "s1(str1)"
   ]
  },
  {
   "cell_type": "code",
   "execution_count": 15,
   "id": "4b179630",
   "metadata": {},
   "outputs": [
    {
     "data": {
      "text/plain": [
       "'dfdgfdfg'"
      ]
     },
     "execution_count": 15,
     "metadata": {},
     "output_type": "execute_result"
    }
   ],
   "source": [
    "s1(str2)"
   ]
  },
  {
   "cell_type": "code",
   "execution_count": 16,
   "id": "4af6e176",
   "metadata": {},
   "outputs": [],
   "source": [
    "s2 = StripChars(' -')"
   ]
  },
  {
   "cell_type": "code",
   "execution_count": 17,
   "id": "6205be5d",
   "metadata": {},
   "outputs": [
    {
     "data": {
      "text/plain": [
       "'sdf'"
      ]
     },
     "execution_count": 17,
     "metadata": {},
     "output_type": "execute_result"
    }
   ],
   "source": [
    "s2(str1)"
   ]
  },
  {
   "cell_type": "code",
   "execution_count": 18,
   "id": "0abd9146",
   "metadata": {},
   "outputs": [
    {
     "data": {
      "text/plain": [
       "'***dfdgfdfg***'"
      ]
     },
     "execution_count": 18,
     "metadata": {},
     "output_type": "execute_result"
    }
   ],
   "source": [
    "s2(str2)"
   ]
  },
  {
   "cell_type": "code",
   "execution_count": 19,
   "id": "204c317f",
   "metadata": {},
   "outputs": [],
   "source": [
    "s3 = StripChars(' *-')"
   ]
  },
  {
   "cell_type": "code",
   "execution_count": 20,
   "id": "821bb144",
   "metadata": {},
   "outputs": [
    {
     "data": {
      "text/plain": [
       "'sdf'"
      ]
     },
     "execution_count": 20,
     "metadata": {},
     "output_type": "execute_result"
    }
   ],
   "source": [
    "s3(str1)"
   ]
  },
  {
   "cell_type": "code",
   "execution_count": 21,
   "id": "fc4c321c",
   "metadata": {
    "scrolled": true
   },
   "outputs": [
    {
     "data": {
      "text/plain": [
       "'dfdgfdfg'"
      ]
     },
     "execution_count": 21,
     "metadata": {},
     "output_type": "execute_result"
    }
   ],
   "source": [
    "s3(str2)"
   ]
  },
  {
   "cell_type": "markdown",
   "id": "042394c8",
   "metadata": {},
   "source": [
    "## Классы-декораторы"
   ]
  },
  {
   "cell_type": "markdown",
   "id": "34b0d38d",
   "metadata": {},
   "source": [
    "Также с помощью метода call можно определить класс декоратор:"
   ]
  },
  {
   "cell_type": "code",
   "execution_count": 22,
   "id": "abcb0cad",
   "metadata": {},
   "outputs": [],
   "source": [
    "import time"
   ]
  },
  {
   "cell_type": "code",
   "execution_count": 23,
   "id": "9d9ecf37",
   "metadata": {},
   "outputs": [],
   "source": [
    "class Speed:\n",
    "    def __init__(self, func):\n",
    "        self.func = func\n",
    "        \n",
    "    def __call__(self, *args, **kwargs):\n",
    "        tb = time.time()\n",
    "        res = self.func(*args, **kwargs)\n",
    "        ta = time.time()\n",
    "        print(f'Время выполнения функции - {ta-tb} секунд')\n",
    "        return res"
   ]
  },
  {
   "cell_type": "code",
   "execution_count": 24,
   "id": "9336c9c8",
   "metadata": {},
   "outputs": [],
   "source": [
    "# def factorial(x):\n",
    "#     res = 1\n",
    "#     for i in range(1, x+1):\n",
    "#         res *= i\n",
    "        \n",
    "# factorial = Speed(factorial)"
   ]
  },
  {
   "cell_type": "code",
   "execution_count": 25,
   "id": "54638e82",
   "metadata": {},
   "outputs": [],
   "source": [
    "@Speed\n",
    "def factorial(x):\n",
    "    res = 1\n",
    "    for i in range(1, x+1):\n",
    "        res *= i"
   ]
  },
  {
   "cell_type": "code",
   "execution_count": 26,
   "id": "db886cec",
   "metadata": {},
   "outputs": [
    {
     "name": "stdout",
     "output_type": "stream",
     "text": [
      "Время выполнения функции - 0.02886509895324707 секунд\n"
     ]
    }
   ],
   "source": [
    "factorial(10000)"
   ]
  }
 ],
 "metadata": {
  "kernelspec": {
   "display_name": "Python 3 (ipykernel)",
   "language": "python",
   "name": "python3"
  },
  "language_info": {
   "codemirror_mode": {
    "name": "ipython",
    "version": 3
   },
   "file_extension": ".py",
   "mimetype": "text/x-python",
   "name": "python",
   "nbconvert_exporter": "python",
   "pygments_lexer": "ipython3",
   "version": "3.9.13"
  }
 },
 "nbformat": 4,
 "nbformat_minor": 5
}
