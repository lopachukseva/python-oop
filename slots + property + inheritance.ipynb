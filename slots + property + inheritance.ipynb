{
 "cells": [
  {
   "cell_type": "markdown",
   "id": "82af27a7",
   "metadata": {},
   "source": [
    "## Работа slots с property"
   ]
  },
  {
   "cell_type": "markdown",
   "id": "f8726d3a",
   "metadata": {},
   "source": [
    "Коллекция slots позволяет ограничивать список локальных свойств в экземплярах класса, в котором определена."
   ]
  },
  {
   "cell_type": "code",
   "execution_count": 1,
   "id": "136404a0",
   "metadata": {},
   "outputs": [],
   "source": [
    "class Point2D:\n",
    "    __slots__ = ('x', 'y', 'length')\n",
    "    \n",
    "    def __init__(self, x, y):\n",
    "        self.x = x\n",
    "        self.y = y\n",
    "        self.length = (x * x + y * y) ** 0.5"
   ]
  },
  {
   "cell_type": "code",
   "execution_count": 2,
   "id": "9ca013d2",
   "metadata": {},
   "outputs": [],
   "source": [
    "p = Point2D(4, 3)"
   ]
  },
  {
   "cell_type": "code",
   "execution_count": 3,
   "id": "aef714e3",
   "metadata": {
    "scrolled": true
   },
   "outputs": [
    {
     "data": {
      "text/plain": [
       "5.0"
      ]
     },
     "execution_count": 3,
     "metadata": {},
     "output_type": "execute_result"
    }
   ],
   "source": [
    "p.length"
   ]
  },
  {
   "cell_type": "markdown",
   "id": "f5714221",
   "metadata": {},
   "source": [
    "Если локальное свойство length будет закрытым, и для него будет определено property:"
   ]
  },
  {
   "cell_type": "code",
   "execution_count": 4,
   "id": "1c216e7c",
   "metadata": {},
   "outputs": [],
   "source": [
    "class Point2D:\n",
    "    __slots__ = ('x', 'y', '__length')\n",
    "    \n",
    "    def __init__(self, x, y):\n",
    "        self.x = x\n",
    "        self.y = y\n",
    "        self.__length = (x * x + y * y) ** 0.5\n",
    "        \n",
    "    @property\n",
    "    def length(self):\n",
    "        return self.__length\n",
    "    \n",
    "    @length.setter\n",
    "    def length(self, value):\n",
    "        self.__length = value"
   ]
  },
  {
   "cell_type": "code",
   "execution_count": 5,
   "id": "e0c51501",
   "metadata": {},
   "outputs": [],
   "source": [
    "p = Point2D(4, 6)"
   ]
  },
  {
   "cell_type": "markdown",
   "id": "866db6fa",
   "metadata": {},
   "source": [
    "То к локальным свойствам можно спокойно обращаться через property, не смотря на то, что его имя не прописано в коллекции slots:"
   ]
  },
  {
   "cell_type": "code",
   "execution_count": 6,
   "id": "5f66dda1",
   "metadata": {},
   "outputs": [
    {
     "data": {
      "text/plain": [
       "7.211102550927978"
      ]
     },
     "execution_count": 6,
     "metadata": {},
     "output_type": "execute_result"
    }
   ],
   "source": [
    "p.length"
   ]
  },
  {
   "cell_type": "code",
   "execution_count": 7,
   "id": "a8e2df89",
   "metadata": {},
   "outputs": [],
   "source": [
    "p.length = 10"
   ]
  },
  {
   "cell_type": "code",
   "execution_count": 8,
   "id": "87ac8171",
   "metadata": {},
   "outputs": [
    {
     "data": {
      "text/plain": [
       "10"
      ]
     },
     "execution_count": 8,
     "metadata": {},
     "output_type": "execute_result"
    }
   ],
   "source": [
    "p.length"
   ]
  },
  {
   "cell_type": "markdown",
   "id": "92dd4801",
   "metadata": {},
   "source": [
    "Все потому, что property - атрибут класса, а коллекция slots накладывает ограничение именно на локальные свойства экземпляра класса. Именно поэтому свойства property можно создавать и использовать, не обращая внимание на коллекцию slots."
   ]
  },
  {
   "cell_type": "markdown",
   "id": "b99b3041",
   "metadata": {},
   "source": [
    "## Работа slots с наследованием классов"
   ]
  },
  {
   "cell_type": "markdown",
   "id": "bf63f78d",
   "metadata": {},
   "source": [
    "Предположим, что есть класс Point2D, в котором прописана коллекция slots:"
   ]
  },
  {
   "cell_type": "code",
   "execution_count": 9,
   "id": "822de68f",
   "metadata": {},
   "outputs": [],
   "source": [
    "class Point2D:\n",
    "    __slots__ = ('x', 'y')\n",
    "    \n",
    "    def __init__(self, x, y):\n",
    "        self.x = x\n",
    "        self.y = y\n",
    "        "
   ]
  },
  {
   "cell_type": "markdown",
   "id": "84e0e491",
   "metadata": {},
   "source": [
    "И от этого класса наследуется класс Point3D:"
   ]
  },
  {
   "cell_type": "code",
   "execution_count": 10,
   "id": "83bc08fb",
   "metadata": {},
   "outputs": [],
   "source": [
    "class Point3D(Point2D):\n",
    "    pass"
   ]
  },
  {
   "cell_type": "code",
   "execution_count": 11,
   "id": "f50cb5cc",
   "metadata": {},
   "outputs": [],
   "source": [
    "pt = Point3D(3, 4)"
   ]
  },
  {
   "cell_type": "markdown",
   "id": "e60bf4b6",
   "metadata": {},
   "source": [
    "В таком случае, не смотря на наличие в базовом классе коллекции slots, можно создавать новые свойства без ограничений:"
   ]
  },
  {
   "cell_type": "code",
   "execution_count": 12,
   "id": "42cae49a",
   "metadata": {},
   "outputs": [],
   "source": [
    "pt.z = 1"
   ]
  },
  {
   "cell_type": "markdown",
   "id": "23fe672c",
   "metadata": {},
   "source": [
    "И у объекта такого класса есть коллекция dict: но в ней содержится только те свойства, которые выходят за рамки коллекции slots базового класса:"
   ]
  },
  {
   "cell_type": "code",
   "execution_count": 13,
   "id": "0cecb432",
   "metadata": {
    "scrolled": true
   },
   "outputs": [
    {
     "data": {
      "text/plain": [
       "{'z': 1}"
      ]
     },
     "execution_count": 13,
     "metadata": {},
     "output_type": "execute_result"
    }
   ],
   "source": [
    "pt.__dict__"
   ]
  },
  {
   "cell_type": "code",
   "execution_count": 14,
   "id": "48032474",
   "metadata": {},
   "outputs": [
    {
     "data": {
      "text/plain": [
       "('x', 'y')"
      ]
     },
     "execution_count": 14,
     "metadata": {},
     "output_type": "execute_result"
    }
   ],
   "source": [
    "pt.__slots__"
   ]
  },
  {
   "cell_type": "markdown",
   "id": "70468443",
   "metadata": {},
   "source": [
    "И даже если свойство из коллекции slots удалить и снова создать, оно будет в коллекции slots:"
   ]
  },
  {
   "cell_type": "code",
   "execution_count": 15,
   "id": "bd3c463e",
   "metadata": {},
   "outputs": [],
   "source": [
    "del pt.x"
   ]
  },
  {
   "cell_type": "code",
   "execution_count": 16,
   "id": "a21cbcca",
   "metadata": {},
   "outputs": [],
   "source": [
    "pt.x = 20"
   ]
  },
  {
   "cell_type": "code",
   "execution_count": 17,
   "id": "c7cf1159",
   "metadata": {},
   "outputs": [
    {
     "data": {
      "text/plain": [
       "('x', 'y')"
      ]
     },
     "execution_count": 17,
     "metadata": {},
     "output_type": "execute_result"
    }
   ],
   "source": [
    "pt.__slots__"
   ]
  },
  {
   "cell_type": "code",
   "execution_count": 18,
   "id": "b4489170",
   "metadata": {
    "scrolled": true
   },
   "outputs": [
    {
     "data": {
      "text/plain": [
       "{'z': 1}"
      ]
     },
     "execution_count": 18,
     "metadata": {},
     "output_type": "execute_result"
    }
   ],
   "source": [
    "pt.__dict__"
   ]
  },
  {
   "cell_type": "markdown",
   "id": "2f3ec01d",
   "metadata": {},
   "source": [
    "То есть коллекция slots наследуется, но не накладывает ограничений на создание новых локальных свойств. Если ее прописать (в том числе, ее можно оставить пустой) то такое ограничение появится:"
   ]
  },
  {
   "cell_type": "code",
   "execution_count": 19,
   "id": "229ae9b2",
   "metadata": {},
   "outputs": [],
   "source": [
    "class Point3D(Point2D):\n",
    "    slots = ()"
   ]
  },
  {
   "cell_type": "code",
   "execution_count": 20,
   "id": "75f64e57",
   "metadata": {},
   "outputs": [],
   "source": [
    "class Point3D(Point2D):\n",
    "    slots = ('z',)"
   ]
  },
  {
   "cell_type": "code",
   "execution_count": 21,
   "id": "0433d215",
   "metadata": {},
   "outputs": [],
   "source": [
    "pt = Point3D(3, 4)"
   ]
  },
  {
   "cell_type": "markdown",
   "id": "016bcced",
   "metadata": {},
   "source": [
    "Свойство z создать можно:"
   ]
  },
  {
   "cell_type": "code",
   "execution_count": 22,
   "id": "9ca11c22",
   "metadata": {},
   "outputs": [],
   "source": [
    "pt.z = 8"
   ]
  },
  {
   "cell_type": "markdown",
   "id": "e47eb9f1",
   "metadata": {},
   "source": [
    "Но другие - уже не получится, так как они отсутствуют в коллекции slots. Итого коллекция slots для дочернего класса состоит из трех элементов - двух из базового класса - x и y, и одного из дочернего - z."
   ]
  },
  {
   "cell_type": "markdown",
   "id": "e125ab14",
   "metadata": {},
   "source": [
    "! Коллекция slots дочернего класса не должна содержать свойства базового, так как она наследуется."
   ]
  },
  {
   "cell_type": "markdown",
   "id": "5c07e95d",
   "metadata": {},
   "source": [
    "--------------------------------------------------------------------------------------------"
   ]
  },
  {
   "cell_type": "code",
   "execution_count": 23,
   "id": "043b149f",
   "metadata": {},
   "outputs": [],
   "source": [
    "class Point2D:\n",
    "    __slots__ = ('x', 'y')\n",
    "    \n",
    "    def __init__(self, x, y):\n",
    "        self.x = x\n",
    "        self.y = y\n",
    "\n",
    "\n",
    "class Point3D(Point2D):\n",
    "    __slots__ = ('z',)\n",
    "    def __init__(self, x, y, z):\n",
    "        super().__init__(x, y)\n",
    "        self.z = z"
   ]
  },
  {
   "cell_type": "code",
   "execution_count": 24,
   "id": "449fd100",
   "metadata": {},
   "outputs": [],
   "source": [
    "p = Point3D(5, 3, 6)"
   ]
  },
  {
   "cell_type": "code",
   "execution_count": 25,
   "id": "48c33479",
   "metadata": {},
   "outputs": [
    {
     "data": {
      "text/plain": [
       "5"
      ]
     },
     "execution_count": 25,
     "metadata": {},
     "output_type": "execute_result"
    }
   ],
   "source": [
    "p.x"
   ]
  },
  {
   "cell_type": "code",
   "execution_count": 26,
   "id": "df6c289d",
   "metadata": {},
   "outputs": [
    {
     "data": {
      "text/plain": [
       "3"
      ]
     },
     "execution_count": 26,
     "metadata": {},
     "output_type": "execute_result"
    }
   ],
   "source": [
    "p.y"
   ]
  },
  {
   "cell_type": "code",
   "execution_count": 27,
   "id": "6432c9f6",
   "metadata": {},
   "outputs": [
    {
     "data": {
      "text/plain": [
       "6"
      ]
     },
     "execution_count": 27,
     "metadata": {},
     "output_type": "execute_result"
    }
   ],
   "source": [
    "p.z"
   ]
  },
  {
   "cell_type": "code",
   "execution_count": 28,
   "id": "81f132b2",
   "metadata": {},
   "outputs": [
    {
     "data": {
      "text/plain": [
       "('z',)"
      ]
     },
     "execution_count": 28,
     "metadata": {},
     "output_type": "execute_result"
    }
   ],
   "source": [
    "p.__slots__"
   ]
  }
 ],
 "metadata": {
  "kernelspec": {
   "display_name": "Python 3 (ipykernel)",
   "language": "python",
   "name": "python3"
  },
  "language_info": {
   "codemirror_mode": {
    "name": "ipython",
    "version": 3
   },
   "file_extension": ".py",
   "mimetype": "text/x-python",
   "name": "python",
   "nbconvert_exporter": "python",
   "pygments_lexer": "ipython3",
   "version": "3.9.13"
  }
 },
 "nbformat": 4,
 "nbformat_minor": 5
}
