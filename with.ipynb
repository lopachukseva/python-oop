{
 "cells": [
  {
   "cell_type": "markdown",
   "id": "e67e87b1",
   "metadata": {},
   "source": [
    "## Менеджеры контекстов"
   ]
  },
  {
   "cell_type": "markdown",
   "id": "e8a9489a",
   "metadata": {},
   "source": [
    "Менеджер контекста - класс, в котором реализованы два магических метода:<br>\n",
    "1) enter - срабатывает в момент создания объекта менеджера контекста<br>\n",
    "2) exit - срабатывает в момент завершения работы менеджера контекста или возникновения исключения<br>"
   ]
  },
  {
   "cell_type": "markdown",
   "id": "6f169204",
   "metadata": {},
   "source": [
    "Общий синтаксис для вызова менеджера контекста выглядит следующим образом:"
   ]
  },
  {
   "cell_type": "code",
   "execution_count": 1,
   "id": "903fdf2d",
   "metadata": {},
   "outputs": [],
   "source": [
    "# with <менеджер контекста> as <переменная>:\n",
    "#     <конструкция языка Python>"
   ]
  },
  {
   "cell_type": "markdown",
   "id": "3fc9b16f",
   "metadata": {},
   "source": [
    "где менеджер констекста - класс, а переменная будет ссылаться на объект."
   ]
  },
  {
   "cell_type": "markdown",
   "id": "c989282a",
   "metadata": {},
   "source": [
    "Либо можно использовать такую конструкцию:"
   ]
  },
  {
   "cell_type": "code",
   "execution_count": 2,
   "id": "68dde23f",
   "metadata": {},
   "outputs": [],
   "source": [
    "# with <менеджер контекста>:\n",
    "#     <конструкция языка Python>"
   ]
  },
  {
   "cell_type": "markdown",
   "id": "cc4e252a",
   "metadata": {},
   "source": [
    "Но в таком случае внутри не получится взаимодействовать с объектом менеджера контекста."
   ]
  },
  {
   "cell_type": "markdown",
   "id": "16d490ca",
   "metadata": {},
   "source": [
    "Предположим, что существует вектор:"
   ]
  },
  {
   "cell_type": "code",
   "execution_count": 3,
   "id": "86dafc86",
   "metadata": {},
   "outputs": [],
   "source": [
    "v1 = [1, 2, 3]"
   ]
  },
  {
   "cell_type": "markdown",
   "id": "bb88e9e1",
   "metadata": {},
   "source": [
    "Который возможно заменить на другой:"
   ]
  },
  {
   "cell_type": "code",
   "execution_count": 4,
   "id": "9a9bb2c1",
   "metadata": {},
   "outputs": [],
   "source": [
    "v2 = [7, 2]\n",
    "v3 = [4, 2, 1]"
   ]
  },
  {
   "cell_type": "markdown",
   "id": "7b77da5b",
   "metadata": {},
   "source": [
    "И мы хотим создать менеджер контекста, который в случае, если вектор заменяется без ошибок, будет это делать. А в противном случае оставит все, как было:"
   ]
  },
  {
   "cell_type": "code",
   "execution_count": 5,
   "id": "2521e4b0",
   "metadata": {},
   "outputs": [],
   "source": [
    "class DefenedVector:\n",
    "    def __init__(self, v): # принимает в качестве аргумента вектор\n",
    "        self.v = v\n",
    "        \n",
    "    def __enter__(self): # в момент создания объекта менеджера контекста создает переменную, которая ссылается на копию вектора\n",
    "        self.tmp = self.v[:]\n",
    "        return self.tmp # возвращает копию вектора\n",
    "        \n",
    "    def __exit__(self, exc_type, exc_value, exc_tb):\n",
    "        if exc_type is None:\n",
    "            self.v[:] = self.tmp\n",
    "            \n",
    "        return False"
   ]
  },
  {
   "cell_type": "markdown",
   "id": "6f27aa21",
   "metadata": {},
   "source": [
    "exc_type принимает значение None, если не возникло никаких ошибок. Соответственно, если эта переменная - None, то в вектор копируется содержимое tmp."
   ]
  },
  {
   "cell_type": "markdown",
   "id": "88d846b2",
   "metadata": {},
   "source": [
    "Если метод exit возвращает значение False, то исключения, которые возникли внутри менеджера контекста, обрабатываться не будут. А если True - то исключения не выходят за его пределы (обрабатываются внутри менеджера контекста)."
   ]
  },
  {
   "cell_type": "markdown",
   "id": "fede765b",
   "metadata": {},
   "source": [
    "Если запустить в таком состоянии, то произойдет ошибка, так как в векторах v1 и v2 разное число элементов:"
   ]
  },
  {
   "cell_type": "code",
   "execution_count": 6,
   "id": "e4180215",
   "metadata": {},
   "outputs": [
    {
     "name": "stdout",
     "output_type": "stream",
     "text": [
      "Ошибка\n"
     ]
    }
   ],
   "source": [
    "try:\n",
    "    with DefenedVector(v1) as dv:\n",
    "        for i, e in enumerate(dv):\n",
    "            dv[i] += v2[i]\n",
    "except:\n",
    "    print('Ошибка')"
   ]
  },
  {
   "cell_type": "markdown",
   "id": "39d39cbd",
   "metadata": {},
   "source": [
    "А здесь ошибки не будет, так как число элементов одинаковое:"
   ]
  },
  {
   "cell_type": "code",
   "execution_count": 7,
   "id": "2c4f433c",
   "metadata": {},
   "outputs": [],
   "source": [
    "try:\n",
    "    with DefenedVector(v1) as dv:\n",
    "        for i, e in enumerate(dv):\n",
    "            dv[i] += v3[i]\n",
    "except:\n",
    "    print('Ошибка')"
   ]
  },
  {
   "cell_type": "code",
   "execution_count": 8,
   "id": "7f04ec6c",
   "metadata": {},
   "outputs": [
    {
     "name": "stdout",
     "output_type": "stream",
     "text": [
      "[5, 4, 4]\n"
     ]
    }
   ],
   "source": [
    "print(v1)"
   ]
  },
  {
   "cell_type": "markdown",
   "id": "7382d764",
   "metadata": {},
   "source": [
    "Если менеджера контекста не будет, то в первом случае ошибка возникнет, но будет обработана и ветор изменится не смотря на нее:"
   ]
  },
  {
   "cell_type": "code",
   "execution_count": 9,
   "id": "dd24ca41",
   "metadata": {},
   "outputs": [
    {
     "name": "stdout",
     "output_type": "stream",
     "text": [
      "[5, 4, 4] [7, 2]\n"
     ]
    }
   ],
   "source": [
    "print(v1, v2)"
   ]
  },
  {
   "cell_type": "code",
   "execution_count": 10,
   "id": "a56a0f52",
   "metadata": {},
   "outputs": [
    {
     "name": "stdout",
     "output_type": "stream",
     "text": [
      "Ошибка\n"
     ]
    }
   ],
   "source": [
    "try:\n",
    "    for i, e in enumerate(v1):\n",
    "        v1[i] += v2[i]\n",
    "except:\n",
    "    print('Ошибка')"
   ]
  },
  {
   "cell_type": "code",
   "execution_count": 11,
   "id": "1e6e32c3",
   "metadata": {
    "scrolled": true
   },
   "outputs": [
    {
     "name": "stdout",
     "output_type": "stream",
     "text": [
      "[12, 6, 4]\n"
     ]
    }
   ],
   "source": [
    "print(v1)"
   ]
  }
 ],
 "metadata": {
  "kernelspec": {
   "display_name": "Python 3 (ipykernel)",
   "language": "python",
   "name": "python3"
  },
  "language_info": {
   "codemirror_mode": {
    "name": "ipython",
    "version": 3
   },
   "file_extension": ".py",
   "mimetype": "text/x-python",
   "name": "python",
   "nbconvert_exporter": "python",
   "pygments_lexer": "ipython3",
   "version": "3.9.13"
  }
 },
 "nbformat": 4,
 "nbformat_minor": 5
}
