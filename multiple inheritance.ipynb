{
 "cells": [
  {
   "cell_type": "markdown",
   "id": "3c621a43",
   "metadata": {},
   "source": [
    "## Множественное наследование"
   ]
  },
  {
   "cell_type": "markdown",
   "id": "e0fde2f6",
   "metadata": {},
   "source": [
    "В языке Python допускается множественное наследование, когда дочерний класс наследуется от нескольких родительских (базовых). Множественное наследование применяется не так часто, как обычное, но некоторые подходы к программированию его активно используют. Например, идея миксинов в Python реализуется как раз через множественное наследование."
   ]
  },
  {
   "cell_type": "markdown",
   "id": "468b98ba",
   "metadata": {},
   "source": [
    "Предположим, что каждый товар в интернет магазине описывается классом, который наследуется от базового класса Goods:"
   ]
  },
  {
   "cell_type": "code",
   "execution_count": 1,
   "id": "d486c631",
   "metadata": {},
   "outputs": [],
   "source": [
    "class Goods:\n",
    "    def __init__(self, name, weight, price):\n",
    "        print('init MixinLog')\n",
    "        self.name = name\n",
    "        self.weight = weight\n",
    "        self.price = price\n",
    "        \n",
    "    def print_info(self):\n",
    "        print(f'{self.name}, {self.weight}, {self.price}')\n",
    "\n",
    "class NoteBook(Goods):\n",
    "    pass"
   ]
  },
  {
   "cell_type": "code",
   "execution_count": 2,
   "id": "48464c10",
   "metadata": {},
   "outputs": [
    {
     "name": "stdout",
     "output_type": "stream",
     "text": [
      "init MixinLog\n"
     ]
    }
   ],
   "source": [
    "n = NoteBook('Asus', 1.7, 2199)"
   ]
  },
  {
   "cell_type": "code",
   "execution_count": 3,
   "id": "fa15a52f",
   "metadata": {},
   "outputs": [
    {
     "name": "stdout",
     "output_type": "stream",
     "text": [
      "Asus, 1.7, 2199\n"
     ]
    }
   ],
   "source": [
    "n.print_info()"
   ]
  },
  {
   "cell_type": "markdown",
   "id": "f4eef772",
   "metadata": {},
   "source": [
    "Необходимо добавить функционал логирования товаров. Это можно сделать с помощью отдельного класса:"
   ]
  },
  {
   "cell_type": "code",
   "execution_count": 4,
   "id": "a7cb903b",
   "metadata": {},
   "outputs": [],
   "source": [
    "class MixinLog:\n",
    "    ID = 0\n",
    "    \n",
    "    def __init__(self):\n",
    "        print('init MixinLog')\n",
    "        MixinLog.ID += 1\n",
    "        self.id = MixinLog.ID\n",
    "    \n",
    "    def save_sell_log(self):\n",
    "        print(f'Товар с id= {self.id} был продан')"
   ]
  },
  {
   "cell_type": "markdown",
   "id": "69fc214d",
   "metadata": {},
   "source": [
    "Данный класс работает совершенно независимо от других классов и лишь добавляет функционал по логированию товаров с использованием их id. Такие классы называются миксины (примеси)."
   ]
  },
  {
   "cell_type": "markdown",
   "id": "38fec486",
   "metadata": {},
   "source": [
    "Его можно поместить в цепочку наследований класса NoteBook. Теперь получается, что класс NoteBook наследуется от двух классов: Goods и MixinLog:"
   ]
  },
  {
   "cell_type": "code",
   "execution_count": 5,
   "id": "a6bdcd22",
   "metadata": {},
   "outputs": [],
   "source": [
    "class NoteBook(Goods, MixinLog):\n",
    "    pass"
   ]
  },
  {
   "cell_type": "markdown",
   "id": "ac866157",
   "metadata": {},
   "source": [
    "И функционал этого класса содержит функционал обоих классов."
   ]
  },
  {
   "cell_type": "markdown",
   "id": "5b904538",
   "metadata": {},
   "source": [
    "Для того, чтобы сработал инициализатор класса MixinLog, необходимо вызвать его в базовом классе через объект посредник super:"
   ]
  },
  {
   "cell_type": "code",
   "execution_count": 6,
   "id": "d6edb052",
   "metadata": {},
   "outputs": [],
   "source": [
    "class Goods:\n",
    "    def __init__(self, name, weight, price):\n",
    "        print('init Goods')\n",
    "        super().__init__()\n",
    "        self.name = name\n",
    "        self.weight = weight\n",
    "        self.price = price\n",
    "        \n",
    "    def print_info(self):\n",
    "        print(f'{self.name}, {self.weight}, {self.price}')\n",
    "        \n",
    "class MixinLog:\n",
    "    ID = 0\n",
    "    \n",
    "    def __init__(self):\n",
    "        print('init MixinLog')\n",
    "        MixinLog.ID += 1\n",
    "        self.id = MixinLog.ID\n",
    "    \n",
    "    def save_sell_log(self):\n",
    "        print(f'Товар с id = {self.id} был продан')\n",
    "\n",
    "class NoteBook(Goods, MixinLog):\n",
    "    pass"
   ]
  },
  {
   "cell_type": "code",
   "execution_count": 7,
   "id": "5bbf147a",
   "metadata": {},
   "outputs": [
    {
     "name": "stdout",
     "output_type": "stream",
     "text": [
      "init Goods\n",
      "init MixinLog\n",
      "init Goods\n",
      "init MixinLog\n",
      "init Goods\n",
      "init MixinLog\n"
     ]
    }
   ],
   "source": [
    "n1 = NoteBook('Asus', 1.7, 2199)\n",
    "n2 = NoteBook('Asus', 1.7, 2199)\n",
    "n3 = NoteBook('Asus', 1.7, 2199)"
   ]
  },
  {
   "cell_type": "code",
   "execution_count": 8,
   "id": "578d729d",
   "metadata": {},
   "outputs": [
    {
     "name": "stdout",
     "output_type": "stream",
     "text": [
      "Товар с id = 1 был продан\n"
     ]
    }
   ],
   "source": [
    "n1.save_sell_log()"
   ]
  },
  {
   "cell_type": "markdown",
   "id": "a68a91f0",
   "metadata": {},
   "source": [
    "При создании объекта класса NoteBook инициализатор сначала ищется в самом классе, а если его нет - то в первом базовом. Если его не оказалось и там - то во втором и так далее. Из-за того, что инициализатор есть в первом базовом классе, до второго (которым и является класс MixinLog) поиск не доходит. Именно поэтому необходимо вызывать его в инициализаторе вручную."
   ]
  },
  {
   "cell_type": "markdown",
   "id": "ef2918dd",
   "metadata": {},
   "source": [
    "Но почему вызывается метод из второго базового класса, а не из класса, от которого наследуется класс Goods - object?"
   ]
  },
  {
   "cell_type": "markdown",
   "id": "02da6cdc",
   "metadata": {},
   "source": [
    "В Python существует специальный алгоритм обхода базовых классов при множественном наследовании. Сокращенно он называется MRO.  MRO - Method Resolution Order. В данном случае алгоритм MRO будет обходить базовые классы в следующем порядке: NoteBook => Goods => MixinLog => object. Эту цепочку можно посмотреть для любого класса следующим образом:"
   ]
  },
  {
   "cell_type": "code",
   "execution_count": 9,
   "id": "bfafc51b",
   "metadata": {},
   "outputs": [
    {
     "data": {
      "text/plain": [
       "(__main__.NoteBook, __main__.Goods, __main__.MixinLog, object)"
      ]
     },
     "execution_count": 9,
     "metadata": {},
     "output_type": "execute_result"
    }
   ],
   "source": [
    "NoteBook.__mro__"
   ]
  },
  {
   "cell_type": "markdown",
   "id": "03b51f2d",
   "metadata": {},
   "source": [
    "Для того, чтобы избежать ошибок, в инициализаторах дополнительных базовых классов принято не использовать никаких параметров помимо self."
   ]
  },
  {
   "cell_type": "markdown",
   "id": "3947d710",
   "metadata": {},
   "source": [
    "Если в классах прописаны методы с одинаковыми именами, то будет вызван тот метод, который находится ближе по иерархии наслевадования к тому классу, от объекта которого он был вызыван:"
   ]
  },
  {
   "cell_type": "code",
   "execution_count": 10,
   "id": "bf5211ff",
   "metadata": {},
   "outputs": [],
   "source": [
    "class Goods:\n",
    "    def __init__(self, name, weight, price):\n",
    "        print('init Goods')\n",
    "        super().__init__()\n",
    "        self.name = name\n",
    "        self.weight = weight\n",
    "        self.price = price\n",
    "        \n",
    "    def print_info(self):\n",
    "        print(f'{self.name}, {self.weight}, {self.price}')\n",
    "        \n",
    "class MixinLog:\n",
    "    ID = 0\n",
    "    \n",
    "    def __init__(self):\n",
    "        print('init MixinLog')\n",
    "        MixinLog.ID += 1\n",
    "        self.id = MixinLog.ID\n",
    "    \n",
    "    def save_sell_log(self):\n",
    "        print(f'Товар с id = {self.id} был продан')\n",
    "    \n",
    "    def print_info(self):\n",
    "        print('метод print_info класса MixinLog')\n",
    "\n",
    "class NoteBook(Goods, MixinLog):\n",
    "    pass"
   ]
  },
  {
   "cell_type": "code",
   "execution_count": 11,
   "id": "2aa280bc",
   "metadata": {},
   "outputs": [
    {
     "name": "stdout",
     "output_type": "stream",
     "text": [
      "init Goods\n",
      "init MixinLog\n"
     ]
    }
   ],
   "source": [
    "n = NoteBook('Asus', 1.7, 2199)"
   ]
  },
  {
   "cell_type": "code",
   "execution_count": 12,
   "id": "96db9040",
   "metadata": {},
   "outputs": [
    {
     "name": "stdout",
     "output_type": "stream",
     "text": [
      "Asus, 1.7, 2199\n"
     ]
    }
   ],
   "source": [
    "n.print_info()"
   ]
  },
  {
   "cell_type": "markdown",
   "id": "efa81a80",
   "metadata": {},
   "source": [
    "Изменить это можно двумя способами. Или явно вызвать метод у класса MixinLog и передать ему объект:"
   ]
  },
  {
   "cell_type": "code",
   "execution_count": 13,
   "id": "3059e577",
   "metadata": {},
   "outputs": [
    {
     "name": "stdout",
     "output_type": "stream",
     "text": [
      "метод print_info класса MixinLog\n"
     ]
    }
   ],
   "source": [
    "MixinLog.print_info(n)"
   ]
  },
  {
   "cell_type": "markdown",
   "id": "78aff4d9",
   "metadata": {},
   "source": [
    "Либо же переопределить метод в классе NoteBook, и внутри этого метода вызывать метод класса MixinLog:"
   ]
  },
  {
   "cell_type": "code",
   "execution_count": 14,
   "id": "3a95a403",
   "metadata": {},
   "outputs": [],
   "source": [
    "class NoteBook(Goods, MixinLog):\n",
    "    def print_info(self):\n",
    "        MixinLog.print_info(self)"
   ]
  },
  {
   "cell_type": "code",
   "execution_count": 15,
   "id": "aa6e4c95",
   "metadata": {},
   "outputs": [
    {
     "name": "stdout",
     "output_type": "stream",
     "text": [
      "init Goods\n",
      "init MixinLog\n"
     ]
    }
   ],
   "source": [
    "n = NoteBook('Asus', 1.7, 2199)"
   ]
  },
  {
   "cell_type": "code",
   "execution_count": 16,
   "id": "2a77b32d",
   "metadata": {},
   "outputs": [
    {
     "name": "stdout",
     "output_type": "stream",
     "text": [
      "метод print_info класса MixinLog\n"
     ]
    }
   ],
   "source": [
    "n.print_info()"
   ]
  }
 ],
 "metadata": {
  "kernelspec": {
   "display_name": "Python 3 (ipykernel)",
   "language": "python",
   "name": "python3"
  },
  "language_info": {
   "codemirror_mode": {
    "name": "ipython",
    "version": 3
   },
   "file_extension": ".py",
   "mimetype": "text/x-python",
   "name": "python",
   "nbconvert_exporter": "python",
   "pygments_lexer": "ipython3",
   "version": "3.9.13"
  }
 },
 "nbformat": 4,
 "nbformat_minor": 5
}
