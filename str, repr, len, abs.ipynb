{
 "cells": [
  {
   "cell_type": "markdown",
   "id": "8de072a6",
   "metadata": {},
   "source": [
    "## Магические методы str, repr, len, abs"
   ]
  },
  {
   "cell_type": "code",
   "execution_count": 1,
   "id": "f928d579",
   "metadata": {},
   "outputs": [],
   "source": [
    "class Cat:\n",
    "    def __init__(self, name):\n",
    "        self.name = name"
   ]
  },
  {
   "cell_type": "code",
   "execution_count": 2,
   "id": "32f52cde",
   "metadata": {
    "scrolled": false
   },
   "outputs": [],
   "source": [
    "c = Cat('Иннокентий')"
   ]
  },
  {
   "cell_type": "code",
   "execution_count": 3,
   "id": "a22a0a57",
   "metadata": {},
   "outputs": [
    {
     "data": {
      "text/plain": [
       "<__main__.Cat at 0x1e230736520>"
      ]
     },
     "execution_count": 3,
     "metadata": {},
     "output_type": "execute_result"
    }
   ],
   "source": [
    "c"
   ]
  },
  {
   "cell_type": "markdown",
   "id": "a433efcf",
   "metadata": {},
   "source": [
    "Если нужно переопределить эту информацию в другом виде, необходимо воспрользоваться методом str или repr."
   ]
  },
  {
   "cell_type": "markdown",
   "id": "0c11edc4",
   "metadata": {},
   "source": [
    "### repr"
   ]
  },
  {
   "cell_type": "markdown",
   "id": "4ce7e8d0",
   "metadata": {},
   "source": [
    "Магический метод repr служит для отображения информации об объекте класса в режиме отладки (для разработчиков):"
   ]
  },
  {
   "cell_type": "code",
   "execution_count": 4,
   "id": "b5e12859",
   "metadata": {},
   "outputs": [],
   "source": [
    "class Cat:\n",
    "    def __init__(self, name):\n",
    "        self.name = name\n",
    "    \n",
    "    def __repr__(self):\n",
    "        return f\"{self.__class__}: {self.name}\""
   ]
  },
  {
   "cell_type": "code",
   "execution_count": 5,
   "id": "56ae5bed",
   "metadata": {},
   "outputs": [],
   "source": [
    "c = Cat('Иннокентий')"
   ]
  },
  {
   "cell_type": "markdown",
   "id": "1e7cfc33",
   "metadata": {},
   "source": [
    "Теперь при выводе информации для отладки отрабатывает метод repr:"
   ]
  },
  {
   "cell_type": "code",
   "execution_count": 6,
   "id": "184fe5de",
   "metadata": {},
   "outputs": [
    {
     "data": {
      "text/plain": [
       "<class '__main__.Cat'>: Иннокентий"
      ]
     },
     "execution_count": 6,
     "metadata": {},
     "output_type": "execute_result"
    }
   ],
   "source": [
    "c"
   ]
  },
  {
   "cell_type": "markdown",
   "id": "c4b1dedd",
   "metadata": {},
   "source": [
    "Но он же и отрабатывает, когда выводится информация для пользователя:"
   ]
  },
  {
   "cell_type": "code",
   "execution_count": 7,
   "id": "3f8b10fe",
   "metadata": {
    "scrolled": true
   },
   "outputs": [
    {
     "name": "stdout",
     "output_type": "stream",
     "text": [
      "<class '__main__.Cat'>: Иннокентий\n"
     ]
    }
   ],
   "source": [
    "print(c)"
   ]
  },
  {
   "cell_type": "code",
   "execution_count": 8,
   "id": "97082bd7",
   "metadata": {},
   "outputs": [
    {
     "data": {
      "text/plain": [
       "\"<class '__main__.Cat'>: Иннокентий\""
      ]
     },
     "execution_count": 8,
     "metadata": {},
     "output_type": "execute_result"
    }
   ],
   "source": [
    "str(c)"
   ]
  },
  {
   "cell_type": "markdown",
   "id": "22ea4c4a",
   "metadata": {},
   "source": [
    "Это происходит потому, что не определен метод str. Когда в классе не определен магический метод str, вместо него отрабатывает метод repr."
   ]
  },
  {
   "cell_type": "markdown",
   "id": "c4b6cfb8",
   "metadata": {},
   "source": [
    "### str"
   ]
  },
  {
   "cell_type": "markdown",
   "id": "8a0844dd",
   "metadata": {},
   "source": [
    "Магический метод str служит для отображения информации об объекте класса для пользователей (например, для функций print, str):"
   ]
  },
  {
   "cell_type": "code",
   "execution_count": 9,
   "id": "bbcb1bcc",
   "metadata": {},
   "outputs": [],
   "source": [
    "c = Cat('Иннокентий')"
   ]
  },
  {
   "cell_type": "code",
   "execution_count": 10,
   "id": "b981026b",
   "metadata": {},
   "outputs": [],
   "source": [
    "class Cat:\n",
    "    def __init__(self, name):\n",
    "        self.name = name\n",
    "    \n",
    "    def __repr__(self):\n",
    "        return f\"{self.__class__}: {self.name}\"\n",
    "    \n",
    "    def __str__(self):\n",
    "        return f\"{self.name}\""
   ]
  },
  {
   "cell_type": "code",
   "execution_count": 11,
   "id": "8d03f1e0",
   "metadata": {},
   "outputs": [],
   "source": [
    "c = Cat('Иннокентий')"
   ]
  },
  {
   "cell_type": "markdown",
   "id": "073a3908",
   "metadata": {},
   "source": [
    "Теперь при выводе информации для разработчика будет отрабатывать метод repr:"
   ]
  },
  {
   "cell_type": "code",
   "execution_count": 12,
   "id": "c0c9947e",
   "metadata": {},
   "outputs": [
    {
     "data": {
      "text/plain": [
       "<class '__main__.Cat'>: Иннокентий"
      ]
     },
     "execution_count": 12,
     "metadata": {},
     "output_type": "execute_result"
    }
   ],
   "source": [
    "c"
   ]
  },
  {
   "cell_type": "markdown",
   "id": "15bffbfe",
   "metadata": {},
   "source": [
    "А при выводе информации для пользователя отрабатывает метод str:"
   ]
  },
  {
   "cell_type": "code",
   "execution_count": 13,
   "id": "2ab9e5d4",
   "metadata": {},
   "outputs": [
    {
     "name": "stdout",
     "output_type": "stream",
     "text": [
      "Иннокентий\n"
     ]
    }
   ],
   "source": [
    "print(c)"
   ]
  },
  {
   "cell_type": "code",
   "execution_count": 14,
   "id": "ee41a2b4",
   "metadata": {},
   "outputs": [
    {
     "data": {
      "text/plain": [
       "'Иннокентий'"
      ]
     },
     "execution_count": 14,
     "metadata": {},
     "output_type": "execute_result"
    }
   ],
   "source": [
    "str(c)"
   ]
  },
  {
   "cell_type": "markdown",
   "id": "143e5a10",
   "metadata": {},
   "source": [
    "pepr служит для вывода отладочной информации, а str - пользовательской"
   ]
  },
  {
   "cell_type": "markdown",
   "id": "de158a62",
   "metadata": {},
   "source": [
    "### len"
   ]
  },
  {
   "cell_type": "markdown",
   "id": "0b457b6a",
   "metadata": {},
   "source": [
    "Магический метод len позволяет применять функцию len к экземплярам класса:"
   ]
  },
  {
   "cell_type": "code",
   "execution_count": 15,
   "id": "bc255899",
   "metadata": {},
   "outputs": [],
   "source": [
    "class Point:\n",
    "    def __init__(self, *args):\n",
    "        self.__coords = args\n",
    "        \n",
    "    def __len__(self):\n",
    "        return len(self.__coords)"
   ]
  },
  {
   "cell_type": "code",
   "execution_count": 16,
   "id": "1e6573b3",
   "metadata": {},
   "outputs": [],
   "source": [
    "p = Point(1, 2, 3)"
   ]
  },
  {
   "cell_type": "code",
   "execution_count": 17,
   "id": "548f06ec",
   "metadata": {},
   "outputs": [
    {
     "data": {
      "text/plain": [
       "3"
      ]
     },
     "execution_count": 17,
     "metadata": {},
     "output_type": "execute_result"
    }
   ],
   "source": [
    "len(p)"
   ]
  },
  {
   "cell_type": "markdown",
   "id": "052c67af",
   "metadata": {},
   "source": [
    "Когда вызывается метод len для экземпляра класса, автоматически срабатывает магический метод len. Если он не определен в классе - возникнет ошибка."
   ]
  },
  {
   "cell_type": "markdown",
   "id": "0c0e7df5",
   "metadata": {},
   "source": [
    "### abs"
   ]
  },
  {
   "cell_type": "markdown",
   "id": "fae7b3fa",
   "metadata": {},
   "source": [
    "Магический метод abs позволяет применять функцию abs к экземплярам класса:"
   ]
  },
  {
   "cell_type": "code",
   "execution_count": 18,
   "id": "dd9bc5a5",
   "metadata": {},
   "outputs": [],
   "source": [
    "class Point:\n",
    "    def __init__(self, *args):\n",
    "        self.__coords = args\n",
    "        \n",
    "    def __abs__(self):\n",
    "        return list(map(abs, self.__coords))"
   ]
  },
  {
   "cell_type": "code",
   "execution_count": 19,
   "id": "821c8386",
   "metadata": {},
   "outputs": [],
   "source": [
    "p = Point(-5, 6)"
   ]
  },
  {
   "cell_type": "code",
   "execution_count": 20,
   "id": "4d872bc8",
   "metadata": {},
   "outputs": [
    {
     "data": {
      "text/plain": [
       "[5, 6]"
      ]
     },
     "execution_count": 20,
     "metadata": {},
     "output_type": "execute_result"
    }
   ],
   "source": [
    "abs(p)"
   ]
  },
  {
   "cell_type": "markdown",
   "id": "ee1aeae0",
   "metadata": {},
   "source": [
    "Когда вызывается метод abs для экземпляра класса, автоматически срабатывает магический метод abs. Если он не определен в классе - возникнет ошибка."
   ]
  }
 ],
 "metadata": {
  "kernelspec": {
   "display_name": "Python 3 (ipykernel)",
   "language": "python",
   "name": "python3"
  },
  "language_info": {
   "codemirror_mode": {
    "name": "ipython",
    "version": 3
   },
   "file_extension": ".py",
   "mimetype": "text/x-python",
   "name": "python",
   "nbconvert_exporter": "python",
   "pygments_lexer": "ipython3",
   "version": "3.9.13"
  }
 },
 "nbformat": 4,
 "nbformat_minor": 5
}
