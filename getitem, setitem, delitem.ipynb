{
 "cells": [
  {
   "cell_type": "markdown",
   "id": "6e82bdc0",
   "metadata": {},
   "source": [
    "getitem(self, item) - получение значения по ключу item;<br>\n",
    "setitem(self, key, value) - запись значения value по ключу key;<br>\n",
    "delitem(self, key) - удаление элемента по ключу key;<br>"
   ]
  },
  {
   "cell_type": "code",
   "execution_count": 1,
   "id": "074b7677",
   "metadata": {},
   "outputs": [],
   "source": [
    "class Student:\n",
    "    def __init__(self, name, marks):\n",
    "        self.name = name\n",
    "        self.marks = marks"
   ]
  },
  {
   "cell_type": "code",
   "execution_count": 2,
   "id": "06670d81",
   "metadata": {},
   "outputs": [],
   "source": [
    "s1 = Student('Alexey', [5, 4, 4, 5, 3, 4])"
   ]
  },
  {
   "cell_type": "code",
   "execution_count": 3,
   "id": "9db27fc0",
   "metadata": {},
   "outputs": [
    {
     "data": {
      "text/plain": [
       "5"
      ]
     },
     "execution_count": 3,
     "metadata": {},
     "output_type": "execute_result"
    }
   ],
   "source": [
    "s1.marks[3]"
   ]
  },
  {
   "cell_type": "code",
   "execution_count": 4,
   "id": "aa6943b4",
   "metadata": {},
   "outputs": [],
   "source": [
    "class Student:\n",
    "    def __init__(self, name, marks):\n",
    "        self.name = name\n",
    "        self.marks = marks\n",
    "        \n",
    "    def __getitem__(self, item):\n",
    "        print('__getitem__')\n",
    "        return self.marks[item]"
   ]
  },
  {
   "cell_type": "code",
   "execution_count": 5,
   "id": "0a7a8751",
   "metadata": {},
   "outputs": [],
   "source": [
    "s1 = Student('Alexey', [5, 4, 4, 5, 3, 4])"
   ]
  },
  {
   "cell_type": "code",
   "execution_count": 6,
   "id": "d082d385",
   "metadata": {},
   "outputs": [
    {
     "name": "stdout",
     "output_type": "stream",
     "text": [
      "__getitem__\n"
     ]
    },
    {
     "data": {
      "text/plain": [
       "5"
      ]
     },
     "execution_count": 6,
     "metadata": {},
     "output_type": "execute_result"
    }
   ],
   "source": [
    "s1[3]"
   ]
  },
  {
   "cell_type": "code",
   "execution_count": 7,
   "id": "125b5a6b",
   "metadata": {},
   "outputs": [],
   "source": [
    "class Student:\n",
    "    def __init__(self, name, marks):\n",
    "        self.name = name\n",
    "        self.marks = marks\n",
    "        \n",
    "    def __getitem__(self, item):\n",
    "        print('__getitem__')\n",
    "        return self.marks[item]\n",
    "    \n",
    "    def __setitem__(self, key, value):\n",
    "        print('__setitem__')\n",
    "        self.marks[key] = value"
   ]
  },
  {
   "cell_type": "code",
   "execution_count": 8,
   "id": "f1e9e8ce",
   "metadata": {},
   "outputs": [
    {
     "name": "stdout",
     "output_type": "stream",
     "text": [
      "__setitem__\n",
      "__getitem__\n"
     ]
    },
    {
     "data": {
      "text/plain": [
       "4"
      ]
     },
     "execution_count": 8,
     "metadata": {},
     "output_type": "execute_result"
    }
   ],
   "source": [
    "s1 = Student('Alexey', [5, 4, 4, 5, 3, 4])\n",
    "s1[3] = 4\n",
    "s1[3]"
   ]
  },
  {
   "cell_type": "code",
   "execution_count": 9,
   "id": "a9f47078",
   "metadata": {},
   "outputs": [],
   "source": [
    "class Student:\n",
    "    def __init__(self, name, marks):\n",
    "        self.name = name\n",
    "        self.marks = marks\n",
    "        \n",
    "    def __getitem__(self, item):\n",
    "        print('__getitem__')\n",
    "        return self.marks[item]\n",
    "    \n",
    "    def __setitem__(self, key, value):\n",
    "        print('__setitem__')\n",
    "        self.marks[key] = value\n",
    "        \n",
    "    def __delitem__(self, key):\n",
    "        print('__delitem__')\n",
    "        del self.marks[key]"
   ]
  },
  {
   "cell_type": "code",
   "execution_count": 10,
   "id": "af428c1c",
   "metadata": {},
   "outputs": [
    {
     "name": "stdout",
     "output_type": "stream",
     "text": [
      "__delitem__\n"
     ]
    },
    {
     "data": {
      "text/plain": [
       "[5, 4, 4, 3, 4]"
      ]
     },
     "execution_count": 10,
     "metadata": {},
     "output_type": "execute_result"
    }
   ],
   "source": [
    "s1 = Student('Alexey', [5, 4, 4, 5, 3, 4])\n",
    "del s1[3]\n",
    "s1.marks"
   ]
  }
 ],
 "metadata": {
  "kernelspec": {
   "display_name": "Python 3 (ipykernel)",
   "language": "python",
   "name": "python3"
  },
  "language_info": {
   "codemirror_mode": {
    "name": "ipython",
    "version": 3
   },
   "file_extension": ".py",
   "mimetype": "text/x-python",
   "name": "python",
   "nbconvert_exporter": "python",
   "pygments_lexer": "ipython3",
   "version": "3.9.13"
  }
 },
 "nbformat": 4,
 "nbformat_minor": 5
}
