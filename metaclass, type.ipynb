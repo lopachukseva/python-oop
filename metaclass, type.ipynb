{
 "cells": [
  {
   "cell_type": "markdown",
   "id": "71b171ac",
   "metadata": {},
   "source": [
    "## Метаклассы, объект type"
   ]
  },
  {
   "cell_type": "markdown",
   "id": "a88f34b0",
   "metadata": {},
   "source": [
    "В языке Python числа, строки, списки, словари, кортежи и другие типы данных являются объектами, которые образованы от соответствующих классов. Но эти классы также являются объектами. И все, что есть в Python, будет являтся объектом. Классы позволяют создавать объекты. А если классы являются объектами, то должно быть нечто, что создает и их - метакласс. Метакласс также является объектом, но объектом особого рода - его нельзя динамически порождать другим классом. Он является вершиной, отправной точкой для создания обычных классов и их объектов. Метаклассом в языке Python является объект type."
   ]
  },
  {
   "cell_type": "markdown",
   "id": "cffd7fd2",
   "metadata": {},
   "source": [
    "Объект type используется для определения типов других объектов:"
   ]
  },
  {
   "cell_type": "code",
   "execution_count": 1,
   "id": "5bd8079f",
   "metadata": {},
   "outputs": [
    {
     "data": {
      "text/plain": [
       "str"
      ]
     },
     "execution_count": 1,
     "metadata": {},
     "output_type": "execute_result"
    }
   ],
   "source": [
    "type('wow')"
   ]
  },
  {
   "cell_type": "markdown",
   "id": "1fb6a0d5",
   "metadata": {},
   "source": [
    "Но если передать ему не один аргумент, а три:<br>\n",
    "\n",
    "type(name, bases, dct)<br>\n",
    "\n",
    "где:<br>\n",
    "name - имя класса,<br>\n",
    "bases - список родительских классов,<br>\n",
    "dct - словарь с атрибутами<br>\n",
    "\n",
    "то объект type начинает работать совершенно по другому: он создает динамически новый класс - новый тип данных. Все стандартные типы данных созданы метаклассом type. В этом можно убедится, передав класс любого типа данных в функцию type:<br>"
   ]
  },
  {
   "cell_type": "code",
   "execution_count": 2,
   "id": "9a0b7d68",
   "metadata": {
    "scrolled": false
   },
   "outputs": [
    {
     "data": {
      "text/plain": [
       "type"
      ]
     },
     "execution_count": 2,
     "metadata": {},
     "output_type": "execute_result"
    }
   ],
   "source": [
    "type(int)"
   ]
  },
  {
   "cell_type": "code",
   "execution_count": 3,
   "id": "9fc04858",
   "metadata": {},
   "outputs": [
    {
     "data": {
      "text/plain": [
       "type"
      ]
     },
     "execution_count": 3,
     "metadata": {},
     "output_type": "execute_result"
    }
   ],
   "source": [
    "type(str)"
   ]
  },
  {
   "cell_type": "markdown",
   "id": "9aa6e088",
   "metadata": {},
   "source": [
    "Даже если прописать свой собственный класс:"
   ]
  },
  {
   "cell_type": "code",
   "execution_count": 4,
   "id": "19a7e536",
   "metadata": {},
   "outputs": [],
   "source": [
    "class Point:\n",
    "    MIN_COORD = 0\n",
    "    MAX_COORD = 100\n",
    "\n",
    "    def __init__(self, x, y):\n",
    "        self.x = x\n",
    "        self.y = y\n",
    "        \n",
    "    @property\n",
    "    def x(self):\n",
    "        return self._x\n",
    "    \n",
    "    @x.setter\n",
    "    def x(self, value):\n",
    "        if self.MAX_COORD <= value <= self.MIN_COORD:\n",
    "            self._x = value\n",
    "        else: raise ValueError(f'Кордината должна быть от {self.MIN_COORD} до {self.MAX_COORD}')\n",
    "            \n",
    "    @property\n",
    "    def y(self):\n",
    "        return self._y\n",
    "    \n",
    "    @y.setter\n",
    "    def y(self, value):\n",
    "        if self.MAX_COORD <= value <= self.MIN_COORD:\n",
    "            self._y = value\n",
    "        else: raise ValueError(f'Кордината должна быть от {self.MIN_COORD} до {self.MAX_COORD}')"
   ]
  },
  {
   "cell_type": "markdown",
   "id": "52abbec5",
   "metadata": {},
   "source": [
    "То он также будет иметь тип type:"
   ]
  },
  {
   "cell_type": "code",
   "execution_count": 5,
   "id": "6912a2e3",
   "metadata": {
    "scrolled": true
   },
   "outputs": [
    {
     "data": {
      "text/plain": [
       "type"
      ]
     },
     "execution_count": 5,
     "metadata": {},
     "output_type": "execute_result"
    }
   ],
   "source": [
    "type(Point)"
   ]
  },
  {
   "cell_type": "markdown",
   "id": "1e3fc00b",
   "metadata": {},
   "source": [
    "Т.е. все, что порождается в языке Python, происходит с помощью метакласса type."
   ]
  },
  {
   "cell_type": "markdown",
   "id": "39fffc8f",
   "metadata": {},
   "source": [
    "Динамически создать новый класс можно следующим образом:"
   ]
  },
  {
   "cell_type": "code",
   "execution_count": 6,
   "id": "9f6318bd",
   "metadata": {},
   "outputs": [],
   "source": [
    "A = type('Point', (), {'MIN_COORD': 0, 'MAX_COORD': 100})"
   ]
  },
  {
   "cell_type": "markdown",
   "id": "d9db345b",
   "metadata": {},
   "source": [
    "А также создать его экземпляр:"
   ]
  },
  {
   "cell_type": "code",
   "execution_count": 7,
   "id": "8fe4b897",
   "metadata": {},
   "outputs": [],
   "source": [
    "p = A()"
   ]
  },
  {
   "cell_type": "code",
   "execution_count": 8,
   "id": "5357e495",
   "metadata": {},
   "outputs": [
    {
     "data": {
      "text/plain": [
       "<__main__.Point at 0x1eb8862cf40>"
      ]
     },
     "execution_count": 8,
     "metadata": {},
     "output_type": "execute_result"
    }
   ],
   "source": [
    "p"
   ]
  },
  {
   "cell_type": "code",
   "execution_count": 9,
   "id": "00d927b7",
   "metadata": {},
   "outputs": [
    {
     "data": {
      "text/plain": [
       "100"
      ]
     },
     "execution_count": 9,
     "metadata": {},
     "output_type": "execute_result"
    }
   ],
   "source": [
    "p.MAX_COORD"
   ]
  },
  {
   "cell_type": "markdown",
   "id": "63a5a480",
   "metadata": {},
   "source": [
    "И даже унаследовать этот класс от других:"
   ]
  },
  {
   "cell_type": "code",
   "execution_count": 10,
   "id": "4947e278",
   "metadata": {},
   "outputs": [],
   "source": [
    "class B1: pass\n",
    "class B2: pass"
   ]
  },
  {
   "cell_type": "code",
   "execution_count": 11,
   "id": "dd468853",
   "metadata": {},
   "outputs": [],
   "source": [
    "A = type('Point', (B1, B2), {'MIN_COORD': 0, 'MAX_COORD': 100})"
   ]
  },
  {
   "cell_type": "markdown",
   "id": "f63a8303",
   "metadata": {},
   "source": [
    "В этом можно убедится, посмотреть в коллекцию mro:"
   ]
  },
  {
   "cell_type": "code",
   "execution_count": 12,
   "id": "41e94464",
   "metadata": {},
   "outputs": [
    {
     "data": {
      "text/plain": [
       "(__main__.Point, __main__.B1, __main__.B2, object)"
      ]
     },
     "execution_count": 12,
     "metadata": {},
     "output_type": "execute_result"
    }
   ],
   "source": [
    "A.__mro__"
   ]
  },
  {
   "cell_type": "markdown",
   "id": "eaa1e776",
   "metadata": {},
   "source": [
    "И добавлять в него методы:"
   ]
  },
  {
   "cell_type": "code",
   "execution_count": 13,
   "id": "12636223",
   "metadata": {},
   "outputs": [],
   "source": [
    "def __init__(self, x, y):\n",
    "        self.x = x\n",
    "        self.y = y"
   ]
  },
  {
   "cell_type": "code",
   "execution_count": 14,
   "id": "af44c640",
   "metadata": {},
   "outputs": [],
   "source": [
    "A = type('Point', (B1, B2), {'MIN_COORD': 0, 'MAX_COORD': 100, '__init__': __init__})"
   ]
  },
  {
   "cell_type": "code",
   "execution_count": 15,
   "id": "546d1517",
   "metadata": {},
   "outputs": [],
   "source": [
    "p = A(1, 2)"
   ]
  },
  {
   "cell_type": "code",
   "execution_count": 16,
   "id": "68fccf70",
   "metadata": {},
   "outputs": [
    {
     "data": {
      "text/plain": [
       "{'x': 1, 'y': 2}"
      ]
     },
     "execution_count": 16,
     "metadata": {},
     "output_type": "execute_result"
    }
   ],
   "source": [
    "p.__dict__"
   ]
  },
  {
   "cell_type": "code",
   "execution_count": 17,
   "id": "76f7a024",
   "metadata": {},
   "outputs": [],
   "source": [
    "A = type('Point', (B1, B2), {'MIN_COORD': 0, 'MAX_COORD': 100, '__init__': __init__, 'methodL': lambda self: self.MAX_COORD})"
   ]
  },
  {
   "cell_type": "code",
   "execution_count": 18,
   "id": "09d23eaa",
   "metadata": {},
   "outputs": [],
   "source": [
    "p = A(1, 2)"
   ]
  },
  {
   "cell_type": "code",
   "execution_count": 19,
   "id": "95256361",
   "metadata": {},
   "outputs": [
    {
     "data": {
      "text/plain": [
       "100"
      ]
     },
     "execution_count": 19,
     "metadata": {},
     "output_type": "execute_result"
    }
   ],
   "source": [
    "p.methodL()"
   ]
  }
 ],
 "metadata": {
  "kernelspec": {
   "display_name": "Python 3 (ipykernel)",
   "language": "python",
   "name": "python3"
  },
  "language_info": {
   "codemirror_mode": {
    "name": "ipython",
    "version": 3
   },
   "file_extension": ".py",
   "mimetype": "text/x-python",
   "name": "python",
   "nbconvert_exporter": "python",
   "pygments_lexer": "ipython3",
   "version": "3.9.13"
  }
 },
 "nbformat": 4,
 "nbformat_minor": 5
}
