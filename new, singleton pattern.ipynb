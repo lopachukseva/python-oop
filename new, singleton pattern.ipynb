{
 "cells": [
  {
   "cell_type": "markdown",
   "id": "6e165c90",
   "metadata": {},
   "source": [
    "### Магический метод new"
   ]
  },
  {
   "cell_type": "markdown",
   "id": "2d0a1049",
   "metadata": {},
   "source": [
    "Магический метод new вызывается перед созданием экземпляра класса, а метод init - после создания объекта класса."
   ]
  },
  {
   "cell_type": "markdown",
   "id": "f0893d01",
   "metadata": {},
   "source": [
    "В методе new обязательным параметром является cls, а в методе init - self.<br> cls является ссылкой на класс, а self - ссылкой на экземпляр класса."
   ]
  },
  {
   "cell_type": "code",
   "execution_count": 1,
   "id": "1346f528",
   "metadata": {},
   "outputs": [],
   "source": [
    "class Point:\n",
    "    def __new__(cls, *args, **kwargs):\n",
    "        print(f'Вызов метода new для {str(cls)}')\n",
    "    \n",
    "    def __init__(self, x=0, y=0):\n",
    "        print(f'Вызов метода init для {str(self)}')\n",
    "        self.x = x\n",
    "        self.y = y"
   ]
  },
  {
   "cell_type": "markdown",
   "id": "2954c1fd",
   "metadata": {},
   "source": [
    "Если попробовать создать объект, будет вызван только метод new:"
   ]
  },
  {
   "cell_type": "code",
   "execution_count": 2,
   "id": "97980a50",
   "metadata": {},
   "outputs": [
    {
     "name": "stdout",
     "output_type": "stream",
     "text": [
      "Вызов метода new для <class '__main__.Point'>\n"
     ]
    }
   ],
   "source": [
    "pt = Point(1, 2)"
   ]
  },
  {
   "cell_type": "markdown",
   "id": "ad585468",
   "metadata": {},
   "source": [
    "Произошло это потому, что в данный момент экземпляр класса не был создан. В этом можно убедится если посмотреть, на что ссылается ссылка pt:"
   ]
  },
  {
   "cell_type": "code",
   "execution_count": 3,
   "id": "4b31d980",
   "metadata": {},
   "outputs": [
    {
     "name": "stdout",
     "output_type": "stream",
     "text": [
      "None\n"
     ]
    }
   ],
   "source": [
    "print(pt)"
   ]
  },
  {
   "cell_type": "markdown",
   "id": "770a0183",
   "metadata": {},
   "source": [
    "None говорит о том, что экземпляр не был создан. Дело в том, что магический метод new должен возвращать адрес нового созданного объекта, а в нашем случае он ничего не возвращает.  "
   ]
  },
  {
   "cell_type": "markdown",
   "id": "7a20baec",
   "metadata": {},
   "source": [
    "Для того, чтобы это произошло, нужно вызвать аналогичный метод new из базового класса:"
   ]
  },
  {
   "cell_type": "code",
   "execution_count": 4,
   "id": "2f32beb0",
   "metadata": {},
   "outputs": [],
   "source": [
    "class Point:\n",
    "    def __new__(cls, *args, **kwargs):\n",
    "        print(f'Вызов метода new для {str(cls)}')\n",
    "        return super().__new__(cls)\n",
    "    \n",
    "    def __init__(self, x=0, y=0):\n",
    "        print(f'Вызов метода init для {str(self)}')\n",
    "        self.x = x\n",
    "        self.y = y"
   ]
  },
  {
   "cell_type": "markdown",
   "id": "4c445aa7",
   "metadata": {},
   "source": [
    "super() - ссылка на базовый класс, из которого был вызван метод new, которому была передана ссылка на текущий класс Point. Начиная с версии Python 3 все классы автоматически и неявно наследуются от базового класса object. И именно из этого базового класса мы вызываем метод new. То есть когда мы вызываем функцию super в классе Point, мы получаем ссылку на базовый класс, и в этом базовом классе вызываем машический метод new, который и запускает процесс создания экземпляра класса и возвращает адрес нового созданного объекта."
   ]
  },
  {
   "cell_type": "markdown",
   "id": "5a6de449",
   "metadata": {},
   "source": [
    "Теперь при создании экземпляра класса сначала вызывается метод new, а затем - метод init. А сама переменная pt ссылается на экземпляр класса Point:"
   ]
  },
  {
   "cell_type": "code",
   "execution_count": 5,
   "id": "35eda550",
   "metadata": {},
   "outputs": [
    {
     "name": "stdout",
     "output_type": "stream",
     "text": [
      "Вызов метода new для <class '__main__.Point'>\n",
      "Вызов метода init для <__main__.Point object at 0x0000023A183C2F40>\n",
      "<__main__.Point object at 0x0000023A183C2F40>\n"
     ]
    }
   ],
   "source": [
    "pt = Point(1, 2)\n",
    "print(pt)"
   ]
  },
  {
   "cell_type": "markdown",
   "id": "525e1664",
   "metadata": {},
   "source": [
    "args и kwargs нужны для того, чтобы принимать аргументы, которые передаются при создании экземпляра класса. Перед init они сначала попадают в new, и если убрать args и kwargs - то будет ошибка. Более того, эти аргументы можно использовать в самом методе new, чтобы реализовать какую либо логику."
   ]
  },
  {
   "cell_type": "markdown",
   "id": "555b2c0b",
   "metadata": {},
   "source": [
    "### Паттерн Singleton"
   ]
  },
  {
   "cell_type": "markdown",
   "id": "b3064eee",
   "metadata": {},
   "source": [
    "Предположим, что существует класс DataBase, и в программе мы подразумеваем, что может существовать только один экземпляр данного класса. Т.е. два экземпляра класса в один момент существовать не может."
   ]
  },
  {
   "cell_type": "markdown",
   "id": "38bf0d3d",
   "metadata": {},
   "source": [
    "Для реализации этого паттерна можно поступить следующим образом:"
   ]
  },
  {
   "cell_type": "markdown",
   "id": "7b0357f3",
   "metadata": {},
   "source": [
    "Пропишем в классе DataBase один атрибут класса - instance. Он будет принимать значение None. Instance будет ссылкой на экземпляр класса. Если его нет - этот атрибут будет принимать значение None, а если он будет - то будет содержать ссылку на экземпляр класса. Таким образом можно будет контролировать, существует ли объект у этого класса или нет. А для управления созданием новых объектов нужно переопределить метод new: в случае, если instance принимает значение None, то атрибуту instance будет присвоен адрес нового созданного объекта, после чего метод new вернет адрес на этот объект. А в случае, если такой объект существует (instance не принимает значение None) - то будет просто возвращена ссылка на уже существующий объект. Таким образом будет гарантированно, что в программе существует ровно один объект класса DataBase. В финализаторе del, который запускается перед удалением объекта, необходимо указать, чтобы параметр instance принимал значение None в случае, если единственный объект будет удален. Таким образом можно будет повторно создать объект после его удаления:"
   ]
  },
  {
   "cell_type": "code",
   "execution_count": 6,
   "id": "f87b75cd",
   "metadata": {},
   "outputs": [],
   "source": [
    "class DataBase:\n",
    "    __instance = None\n",
    "    \n",
    "    def __new__(cls, *args, **kwargs):\n",
    "        print('Вызов new')\n",
    "        if cls.__instance is None:\n",
    "            cls.__instance = super().__new__(cls)\n",
    "            \n",
    "        return cls.__instance\n",
    "    \n",
    "    def __del__(self):\n",
    "        print('Вызов del')\n",
    "        DataBase.__instance = None\n",
    "        \n",
    "    def __init__(self, user, psw, port):\n",
    "        print('Вызов init')\n",
    "        self.user = user\n",
    "        self.psw = psw\n",
    "        self.port = port\n",
    "    \n",
    "    def connect(self):\n",
    "        print(f'Соединение с БД: {self.user}, {self.psw}, {self.port}')\n",
    "        \n",
    "    def close(self):\n",
    "        print('Закрытие соединения с базой данных')\n",
    "    \n",
    "    def read(self):\n",
    "        return 'Данные из базы данных'\n",
    "    \n",
    "    def write(self, data):\n",
    "        print(f'Запись информации {data} в базу данных')"
   ]
  },
  {
   "cell_type": "markdown",
   "id": "d6795e41",
   "metadata": {},
   "source": [
    "Пропробуем создать два экземпляра класса:"
   ]
  },
  {
   "cell_type": "code",
   "execution_count": 7,
   "id": "420e942e",
   "metadata": {
    "scrolled": true
   },
   "outputs": [
    {
     "name": "stdout",
     "output_type": "stream",
     "text": [
      "Вызов new\n",
      "Вызов init\n"
     ]
    }
   ],
   "source": [
    "db1 = DataBase('default_user', 'default_psw', 4040)"
   ]
  },
  {
   "cell_type": "code",
   "execution_count": 8,
   "id": "616fa285",
   "metadata": {
    "scrolled": true
   },
   "outputs": [
    {
     "name": "stdout",
     "output_type": "stream",
     "text": [
      "Вызов new\n",
      "Вызов init\n"
     ]
    }
   ],
   "source": [
    "db2 = DataBase('default_user', 'default_psw', 4044)"
   ]
  },
  {
   "cell_type": "markdown",
   "id": "8c1dcaf4",
   "metadata": {},
   "source": [
    "А потом выведем их id:"
   ]
  },
  {
   "cell_type": "code",
   "execution_count": 9,
   "id": "9b676cb5",
   "metadata": {},
   "outputs": [
    {
     "data": {
      "text/plain": [
       "2448537663856"
      ]
     },
     "execution_count": 9,
     "metadata": {},
     "output_type": "execute_result"
    }
   ],
   "source": [
    "id(db1)"
   ]
  },
  {
   "cell_type": "code",
   "execution_count": 10,
   "id": "57e09511",
   "metadata": {},
   "outputs": [
    {
     "data": {
      "text/plain": [
       "2448537663856"
      ]
     },
     "execution_count": 10,
     "metadata": {},
     "output_type": "execute_result"
    }
   ],
   "source": [
    "id(db2)"
   ]
  },
  {
   "cell_type": "markdown",
   "id": "1df385a8",
   "metadata": {},
   "source": [
    "id совпадают - это означает, что переменные db1 и db2 ссылаются на один объект:"
   ]
  },
  {
   "cell_type": "code",
   "execution_count": 11,
   "id": "09ed2f0c",
   "metadata": {
    "scrolled": true
   },
   "outputs": [
    {
     "data": {
      "text/plain": [
       "True"
      ]
     },
     "execution_count": 11,
     "metadata": {},
     "output_type": "execute_result"
    }
   ],
   "source": [
    "id(db1) == id(db2)"
   ]
  },
  {
   "cell_type": "markdown",
   "id": "75c0ea21",
   "metadata": {},
   "source": [
    "Это означает, что при попытке создания второго объекта он на самом деле не был создан, и переменная db2 ссылается на тот же объект, что был создан ранее - db1."
   ]
  },
  {
   "cell_type": "markdown",
   "id": "37212238",
   "metadata": {},
   "source": [
    "Но если вызвать метод connect у этих объектов, будет видно, что оба содержат параметры, которые были переданы при попытке создания второго экземпляра:"
   ]
  },
  {
   "cell_type": "code",
   "execution_count": 12,
   "id": "3b191eba",
   "metadata": {},
   "outputs": [
    {
     "name": "stdout",
     "output_type": "stream",
     "text": [
      "Соединение с БД: default_user, default_psw, 4044\n"
     ]
    }
   ],
   "source": [
    "db1.connect()"
   ]
  },
  {
   "cell_type": "code",
   "execution_count": 13,
   "id": "8d9aac0c",
   "metadata": {},
   "outputs": [
    {
     "name": "stdout",
     "output_type": "stream",
     "text": [
      "Соединение с БД: default_user, default_psw, 4044\n"
     ]
    }
   ],
   "source": [
    "db2.connect()"
   ]
  },
  {
   "cell_type": "markdown",
   "id": "5f1683b0",
   "metadata": {},
   "source": [
    "По хорошему, если ранее был создан объект, то должны оставаться те параметры, с которыми он был создан (если они явно не были изменены). Это происходит потому, что метод init во второй раз вызывается и меняет параметры в соответствии с новыми значениями. Это можно исправить, если дополнительно переопределить метод call, чтобы init при попытке создания второго объекта не вызывался."
   ]
  }
 ],
 "metadata": {
  "kernelspec": {
   "display_name": "Python 3 (ipykernel)",
   "language": "python",
   "name": "python3"
  },
  "language_info": {
   "codemirror_mode": {
    "name": "ipython",
    "version": 3
   },
   "file_extension": ".py",
   "mimetype": "text/x-python",
   "name": "python",
   "nbconvert_exporter": "python",
   "pygments_lexer": "ipython3",
   "version": "3.9.13"
  }
 },
 "nbformat": 4,
 "nbformat_minor": 5
}
