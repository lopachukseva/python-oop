{
 "cells": [
  {
   "cell_type": "markdown",
   "id": "b3d2acf6",
   "metadata": {},
   "source": [
    "Если необходимо работать с объектами исключений, это делается с помощью ключевого слова as:"
   ]
  },
  {
   "cell_type": "code",
   "execution_count": 1,
   "id": "6213304d",
   "metadata": {},
   "outputs": [
    {
     "name": "stdout",
     "output_type": "stream",
     "text": [
      "1 0\n",
      "Деление на ноль: division by zero\n"
     ]
    }
   ],
   "source": [
    "try:\n",
    "    x, y = map(int, input().split())\n",
    "    res = x / y\n",
    "except ZeroDivisionError as e:\n",
    "    print(\"Деление на ноль: \" + str(e))\n",
    "except ValueError as z:\n",
    "    print(\"Ошибка введенного значения: \" + str(z))"
   ]
  },
  {
   "cell_type": "markdown",
   "id": "dc9d3509",
   "metadata": {},
   "source": [
    "## try / except / finally / else"
   ]
  },
  {
   "cell_type": "markdown",
   "id": "c7dfb0da",
   "metadata": {},
   "source": [
    "Простой конструкции try except часто бывает недостаточно для корректной обработки исключений. Помимо них существуют необязательные блоки finally и else."
   ]
  },
  {
   "cell_type": "markdown",
   "id": "62be642f",
   "metadata": {},
   "source": [
    "### else"
   ]
  },
  {
   "cell_type": "markdown",
   "id": "a18dba0a",
   "metadata": {},
   "source": [
    "Блок else выполняется при штатном завершении кода внутри блока try:"
   ]
  },
  {
   "cell_type": "code",
   "execution_count": 2,
   "id": "2962a8a6",
   "metadata": {},
   "outputs": [
    {
     "name": "stdout",
     "output_type": "stream",
     "text": [
      "1 5\n",
      "Не произошло никаких исключений\n"
     ]
    }
   ],
   "source": [
    "try:\n",
    "    x, y = map(int, input().split())\n",
    "    res = x / y\n",
    "except ZeroDivisionError as e:\n",
    "    print(\"Деление на ноль: \" + str(e))\n",
    "except ValueError as z:\n",
    "    print(\"Ошибка введенного значения: \" + str(z))\n",
    "else:\n",
    "    print('Не произошло никаких исключений')"
   ]
  },
  {
   "cell_type": "markdown",
   "id": "6a9d4fa5",
   "metadata": {},
   "source": [
    "Но если произойдет какое либо исключение, блок else выполнен не будет:"
   ]
  },
  {
   "cell_type": "code",
   "execution_count": 3,
   "id": "1b687107",
   "metadata": {},
   "outputs": [
    {
     "name": "stdout",
     "output_type": "stream",
     "text": [
      "1 0\n",
      "Деление на ноль: division by zero\n"
     ]
    }
   ],
   "source": [
    "try:\n",
    "    x, y = map(int, input().split())\n",
    "    res = x / y\n",
    "except ZeroDivisionError as e:\n",
    "    print(\"Деление на ноль: \" + str(e))\n",
    "except ValueError as z:\n",
    "    print(\"Ошибка введенного значения: \" + str(z))\n",
    "else:\n",
    "    print('Не произошло никаких исключений')"
   ]
  },
  {
   "cell_type": "markdown",
   "id": "ed4ee411",
   "metadata": {},
   "source": [
    "Т.е. если в программе нужно выполнить какое либо действие в случае, если ошибок не произошло, используется блок else."
   ]
  },
  {
   "cell_type": "markdown",
   "id": "8f790b59",
   "metadata": {},
   "source": [
    "### finally"
   ]
  },
  {
   "cell_type": "markdown",
   "id": "f30fa7a2",
   "metadata": {},
   "source": [
    "Блок finally выполняется всегда, вне зависимости от того, произошли какие либо ошибки в блоке try или нет:"
   ]
  },
  {
   "cell_type": "code",
   "execution_count": 4,
   "id": "6a8b41aa",
   "metadata": {},
   "outputs": [
    {
     "name": "stdout",
     "output_type": "stream",
     "text": [
      "1 1\n",
      "Не произошло никаких исключений\n",
      "Блок finally выполняется всегда\n"
     ]
    }
   ],
   "source": [
    "try:\n",
    "    x, y = map(int, input().split())\n",
    "    res = x / y\n",
    "except ZeroDivisionError as e:\n",
    "    print(\"Деление на ноль: \" + str(e))\n",
    "except ValueError as z:\n",
    "    print(\"Ошибка введенного значения: \" + str(z))\n",
    "else:\n",
    "    print('Не произошло никаких исключений')\n",
    "finally:\n",
    "    print('Блок finally выполняется всегда')"
   ]
  },
  {
   "cell_type": "code",
   "execution_count": 5,
   "id": "1c466327",
   "metadata": {},
   "outputs": [
    {
     "name": "stdout",
     "output_type": "stream",
     "text": [
      "1 0\n",
      "Деление на ноль: division by zero\n",
      "Блок finally выполняется всегда\n"
     ]
    }
   ],
   "source": [
    "try:\n",
    "    x, y = map(int, input().split())\n",
    "    res = x / y\n",
    "except ZeroDivisionError as e:\n",
    "    print(\"Деление на ноль: \" + str(e))\n",
    "except ValueError as z:\n",
    "    print(\"Ошибка введенного значения: \" + str(z))\n",
    "else:\n",
    "    print('Не произошло никаких исключений')\n",
    "finally:\n",
    "    print('Блок finally выполняется всегда')"
   ]
  },
  {
   "cell_type": "markdown",
   "id": "376439cf",
   "metadata": {},
   "source": [
    "Т.е. блок finally отрабатывает всегда, и в последнюю очередь."
   ]
  },
  {
   "cell_type": "markdown",
   "id": "7984e42e",
   "metadata": {},
   "source": [
    "Если блок finally находится в функции, где присутствует return, блок finally будет выполняться до return:"
   ]
  },
  {
   "cell_type": "code",
   "execution_count": 6,
   "id": "e4ed540e",
   "metadata": {},
   "outputs": [
    {
     "name": "stdout",
     "output_type": "stream",
     "text": [
      "6 3\n",
      "Блок finally выполняется до return\n"
     ]
    },
    {
     "data": {
      "text/plain": [
       "(6, 3)"
      ]
     },
     "execution_count": 6,
     "metadata": {},
     "output_type": "execute_result"
    }
   ],
   "source": [
    "def get_values():\n",
    "    try:\n",
    "        x, y = map(int, input().split())\n",
    "        return x, y\n",
    "    except:\n",
    "        print('Ошибка')\n",
    "        return 0, 0\n",
    "    finally:\n",
    "        print('Блок finally выполняется до return')\n",
    "        \n",
    "get_values()"
   ]
  },
  {
   "cell_type": "code",
   "execution_count": 7,
   "id": "e1f78599",
   "metadata": {},
   "outputs": [
    {
     "name": "stdout",
     "output_type": "stream",
     "text": [
      "7 0\n",
      "Блок finally выполняется до return\n"
     ]
    },
    {
     "data": {
      "text/plain": [
       "(7, 0)"
      ]
     },
     "execution_count": 7,
     "metadata": {},
     "output_type": "execute_result"
    }
   ],
   "source": [
    "def get_values():\n",
    "    try:\n",
    "        x, y = map(int, input().split())\n",
    "        return x, y\n",
    "    except:\n",
    "        print('Ошибка')\n",
    "        return 0, 0\n",
    "    finally:\n",
    "        print('Блок finally выполняется до return')\n",
    "        \n",
    "get_values()"
   ]
  },
  {
   "cell_type": "markdown",
   "id": "7f97b5bb",
   "metadata": {},
   "source": [
    "Также можно прописывать вложенные блоки try/except:"
   ]
  },
  {
   "cell_type": "code",
   "execution_count": 8,
   "id": "5472f85a",
   "metadata": {},
   "outputs": [
    {
     "name": "stdout",
     "output_type": "stream",
     "text": [
      "1 0\n",
      "Деление на ноль\n"
     ]
    }
   ],
   "source": [
    "try:\n",
    "    x, y = map(int, input().split())\n",
    "    try:\n",
    "        res = x / y\n",
    "    except ZeroDivisionError as e:\n",
    "        print(\"Деление на ноль\")\n",
    "except:\n",
    "    print(\"Общая ошибка\")"
   ]
  }
 ],
 "metadata": {
  "kernelspec": {
   "display_name": "Python 3 (ipykernel)",
   "language": "python",
   "name": "python3"
  },
  "language_info": {
   "codemirror_mode": {
    "name": "ipython",
    "version": 3
   },
   "file_extension": ".py",
   "mimetype": "text/x-python",
   "name": "python",
   "nbconvert_exporter": "python",
   "pygments_lexer": "ipython3",
   "version": "3.9.13"
  }
 },
 "nbformat": 4,
 "nbformat_minor": 5
}
