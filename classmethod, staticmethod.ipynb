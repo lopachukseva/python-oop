{
 "cells": [
  {
   "cell_type": "code",
   "execution_count": 1,
   "id": "726539d4",
   "metadata": {},
   "outputs": [],
   "source": [
    "class Vector:\n",
    "    def __init__(self, x, y):\n",
    "        self.x = x\n",
    "        self.y = y\n",
    "    \n",
    "    def get_coord(self):\n",
    "        return self.x, self.y"
   ]
  },
  {
   "cell_type": "code",
   "execution_count": 2,
   "id": "6b1039e7",
   "metadata": {},
   "outputs": [],
   "source": [
    "v = Vector(1, 2)"
   ]
  },
  {
   "cell_type": "code",
   "execution_count": 3,
   "id": "b9d4aa72",
   "metadata": {},
   "outputs": [
    {
     "data": {
      "text/plain": [
       "(1, 2)"
      ]
     },
     "execution_count": 3,
     "metadata": {},
     "output_type": "execute_result"
    }
   ],
   "source": [
    "v.get_coord()"
   ]
  },
  {
   "cell_type": "markdown",
   "id": "04951a14",
   "metadata": {},
   "source": [
    "## Декораторы @classmethod и @staticmethod"
   ]
  },
  {
   "cell_type": "markdown",
   "id": "62bcb5ad",
   "metadata": {},
   "source": [
    "Помимо обычных методов (методов экземпляра класса) в теле класса можно определять еще два вида методов:\n",
    "- статические методы (определяются с помощью декоратора @staticmethod)\n",
    "- методы класса (определяются с помощью декоратора @classmethod)"
   ]
  },
  {
   "cell_type": "markdown",
   "id": "b8eaeb09",
   "metadata": {},
   "source": [
    "Метод класса работает с атрибутами класса, и не может работать с локальными атрибутами экземпляров классов. cls - ссылка на класс. "
   ]
  },
  {
   "cell_type": "code",
   "execution_count": 4,
   "id": "34befc03",
   "metadata": {},
   "outputs": [],
   "source": [
    "class Vector:\n",
    "    MIN_COORD = 0\n",
    "    MAX_COORD = 100\n",
    "    \n",
    "    @classmethod\n",
    "    def validate(cls, arg):\n",
    "        return cls.MIN_COORD <= arg <= cls.MAX_COORD\n",
    "    \n",
    "    def __init__(self, x, y):\n",
    "        self.x = x\n",
    "        self.y = y\n",
    "    \n",
    "    def get_coord(self):\n",
    "        return self.x, self.y"
   ]
  },
  {
   "cell_type": "code",
   "execution_count": 5,
   "id": "6bc31edf",
   "metadata": {},
   "outputs": [
    {
     "data": {
      "text/plain": [
       "True"
      ]
     },
     "execution_count": 5,
     "metadata": {},
     "output_type": "execute_result"
    }
   ],
   "source": [
    "Vector.validate(2)"
   ]
  },
  {
   "cell_type": "code",
   "execution_count": 6,
   "id": "602d406c",
   "metadata": {},
   "outputs": [
    {
     "data": {
      "text/plain": [
       "False"
      ]
     },
     "execution_count": 6,
     "metadata": {},
     "output_type": "execute_result"
    }
   ],
   "source": [
    "Vector.validate(101)"
   ]
  },
  {
   "cell_type": "markdown",
   "id": "436762ea",
   "metadata": {},
   "source": [
    "Метод класса можно вызывать от класса, он получает класс в качестве неявного первого аргумента, точно так же, как обычный метод экземпляра получает экземпляр."
   ]
  },
  {
   "cell_type": "code",
   "execution_count": 7,
   "id": "b215d4a3",
   "metadata": {},
   "outputs": [],
   "source": [
    "class Vector:\n",
    "    MIN_COORD = 0\n",
    "    MAX_COORD = 100\n",
    "    \n",
    "    @classmethod\n",
    "    def validate(cls, arg):\n",
    "        return cls.MIN_COORD <= arg <= cls.MAX_COORD\n",
    "    \n",
    "    def __init__(self, x, y):\n",
    "        self.x = self.y = 0\n",
    "        if self.validate(x) and self.validate(y):\n",
    "            self.x = x\n",
    "            self.y = y\n",
    "    \n",
    "    def get_coord(self):\n",
    "        return self.x, self.y"
   ]
  },
  {
   "cell_type": "code",
   "execution_count": 8,
   "id": "ef7b4cf7",
   "metadata": {},
   "outputs": [],
   "source": [
    "v2 = Vector(-9, 10)"
   ]
  },
  {
   "cell_type": "code",
   "execution_count": 9,
   "id": "3bfc74df",
   "metadata": {},
   "outputs": [
    {
     "data": {
      "text/plain": [
       "(0, 0)"
      ]
     },
     "execution_count": 9,
     "metadata": {},
     "output_type": "execute_result"
    }
   ],
   "source": [
    "v2.get_coord()"
   ]
  },
  {
   "cell_type": "code",
   "execution_count": 10,
   "id": "981bae56",
   "metadata": {},
   "outputs": [],
   "source": [
    "v2 = Vector(1, 4)"
   ]
  },
  {
   "cell_type": "code",
   "execution_count": 11,
   "id": "e64fb939",
   "metadata": {},
   "outputs": [
    {
     "data": {
      "text/plain": [
       "(1, 4)"
      ]
     },
     "execution_count": 11,
     "metadata": {},
     "output_type": "execute_result"
    }
   ],
   "source": [
    "v2.get_coord()"
   ]
  },
  {
   "cell_type": "markdown",
   "id": "759eb897",
   "metadata": {},
   "source": [
    "Статические методы определяются декоратором @staticmethod и не имеют доступа ни к атрибутам класса, ни к атрибутам его экземпляров. То есть создается независимая функция, объявленная внутри класса."
   ]
  },
  {
   "cell_type": "code",
   "execution_count": 12,
   "id": "9f10ef16",
   "metadata": {},
   "outputs": [],
   "source": [
    "class Vector:\n",
    "    MIN_COORD = 0\n",
    "    MAX_COORD = 100\n",
    "    \n",
    "    @classmethod\n",
    "    def validate(cls, arg):\n",
    "        return cls.MIN_COORD <= arg <= cls.MAX_COORD\n",
    "    \n",
    "    def __init__(self, x, y):\n",
    "        self.x = self.y = 0\n",
    "        if self.validate(x) and self.validate(y):\n",
    "            self.x = x\n",
    "            self.y = y\n",
    "    \n",
    "    def get_coord(self):\n",
    "        return self.x, self.y\n",
    "    \n",
    "    @staticmethod\n",
    "    def norm2(x, y):\n",
    "        return x*x + y*y"
   ]
  },
  {
   "cell_type": "code",
   "execution_count": 13,
   "id": "a750d0f8",
   "metadata": {},
   "outputs": [
    {
     "data": {
      "text/plain": [
       "20"
      ]
     },
     "execution_count": 13,
     "metadata": {},
     "output_type": "execute_result"
    }
   ],
   "source": [
    "Vector.norm2(4, 2)"
   ]
  },
  {
   "cell_type": "code",
   "execution_count": 14,
   "id": "4233f35e",
   "metadata": {},
   "outputs": [],
   "source": [
    "class Vector:\n",
    "    MIN_COORD = 0\n",
    "    MAX_COORD = 100\n",
    "    \n",
    "    @classmethod\n",
    "    def validate(cls, arg):\n",
    "        return cls.MIN_COORD <= arg <= cls.MAX_COORD\n",
    "    \n",
    "    def __init__(self, x, y):\n",
    "        self.x = self.y = 0\n",
    "        if self.validate(x) and self.validate(y):\n",
    "            self.x = x\n",
    "            self.y = y\n",
    "            \n",
    "        print(f'Квадратичная норма радиус вектора: {self.norm2(x, y)}')\n",
    "    \n",
    "    def get_coord(self):\n",
    "        return self.x, self.y\n",
    "    \n",
    "    @staticmethod\n",
    "    def norm2(x, y):\n",
    "        return x*x + y*y"
   ]
  },
  {
   "cell_type": "code",
   "execution_count": 15,
   "id": "631441fd",
   "metadata": {},
   "outputs": [
    {
     "name": "stdout",
     "output_type": "stream",
     "text": [
      "Квадратичная норма радиус вектора: 40\n"
     ]
    }
   ],
   "source": [
    "v3 = Vector(6, 2)"
   ]
  },
  {
   "cell_type": "markdown",
   "id": "6aaa6c93",
   "metadata": {},
   "source": [
    "В статическом методе следует использовать только те параметры, которые в нем прописаны."
   ]
  },
  {
   "cell_type": "markdown",
   "id": "697e7003",
   "metadata": {},
   "source": [
    "При объявлении обычных методов (методов экземпляра класса) предполагается, что они вызываются от экземпляров класса и работают с атрибутами этого экземпляра и с атрибутами самого класса (т.е. имеют доступ и к локальным свойствам экземпляра, и к атрибутам самого класса). Если же предполагается, что метод будет работать только с атрибутами класса, то его следует определять как метод класса. Работать с локальными свойствами экземпляров класса напрямую не получится, т.к. нет ссылки на соответствующий экземпляр. А если необходимо определить независимую, сервисную функцию, которая бы работала с параметрами, которые определяются непосредственно в ней, то ее следует определить как статическую. Она не может обращаться ни к атрибутам класса, ни к локальным атрибутам какого либо экземпляра класса."
   ]
  },
  {
   "cell_type": "markdown",
   "id": "49bce86a",
   "metadata": {},
   "source": [
    "Три вида методов:\n",
    "- метод экземпляра\n",
    "- метод класса\n",
    "- статический метод"
   ]
  }
 ],
 "metadata": {
  "kernelspec": {
   "display_name": "Python 3 (ipykernel)",
   "language": "python",
   "name": "python3"
  },
  "language_info": {
   "codemirror_mode": {
    "name": "ipython",
    "version": 3
   },
   "file_extension": ".py",
   "mimetype": "text/x-python",
   "name": "python",
   "nbconvert_exporter": "python",
   "pygments_lexer": "ipython3",
   "version": "3.9.13"
  }
 },
 "nbformat": 4,
 "nbformat_minor": 5
}
