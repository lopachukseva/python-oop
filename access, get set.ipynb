{
 "cells": [
  {
   "cell_type": "markdown",
   "id": "23ceafec",
   "metadata": {},
   "source": [
    "## Механизм инкапсуляции"
   ]
  },
  {
   "cell_type": "code",
   "execution_count": 1,
   "id": "508201c7",
   "metadata": {},
   "outputs": [],
   "source": [
    "class Point:\n",
    "    def __init__(self, x=0, y=0):\n",
    "        self.x = x\n",
    "        self.y = y"
   ]
  },
  {
   "cell_type": "code",
   "execution_count": 2,
   "id": "e2d1d813",
   "metadata": {},
   "outputs": [],
   "source": [
    "pt = Point(1, 4)"
   ]
  },
  {
   "cell_type": "code",
   "execution_count": 3,
   "id": "3369728f",
   "metadata": {},
   "outputs": [
    {
     "name": "stdout",
     "output_type": "stream",
     "text": [
      "10 20\n"
     ]
    }
   ],
   "source": [
    "pt.x = 10\n",
    "pt.y = 20\n",
    "print(pt.x, pt.y)"
   ]
  },
  {
   "cell_type": "markdown",
   "id": "80b12bd8",
   "metadata": {},
   "source": [
    "### Режимы доступа"
   ]
  },
  {
   "cell_type": "markdown",
   "id": "8cdbd429",
   "metadata": {},
   "source": [
    "attribute - режим доступа public (публичное свойство) <br>\n",
    "_attribute - режим доступа protected (служит для обращения внутри класса и во всех его дочерних классах) <br>\n",
    "__attribute - режим доступа private (служит для обращения только внутри класса)<br>"
   ]
  },
  {
   "cell_type": "code",
   "execution_count": 4,
   "id": "ee2e9c5c",
   "metadata": {},
   "outputs": [],
   "source": [
    "class Point:\n",
    "    def __init__(self, x=0, y=0):\n",
    "        self._x = x\n",
    "        self._y = y"
   ]
  },
  {
   "cell_type": "markdown",
   "id": "5c84075d",
   "metadata": {},
   "source": [
    "Нижнее подчеркивание только сигнализирует о том, что установлен режим доступа protected, но в реальности не ограничивает:"
   ]
  },
  {
   "cell_type": "code",
   "execution_count": 5,
   "id": "5795e20d",
   "metadata": {},
   "outputs": [
    {
     "name": "stdout",
     "output_type": "stream",
     "text": [
      "10 20\n"
     ]
    }
   ],
   "source": [
    "pt = Point(1, 2)\n",
    "pt._x = 10\n",
    "pt._y = 20\n",
    "print(pt._x, pt._y)"
   ]
  },
  {
   "cell_type": "markdown",
   "id": "90ed1850",
   "metadata": {},
   "source": [
    "В случае с двумя нижними подверкиваниями - режимом доступа private - ситуация иная. Обратиться к таким свойствам извне класса уже не получится, на внутри класса ими по прежнему можно пользоваться:"
   ]
  },
  {
   "cell_type": "code",
   "execution_count": 6,
   "id": "304ef39c",
   "metadata": {},
   "outputs": [],
   "source": [
    "class Point:\n",
    "    def __init__(self, x=0, y=0):\n",
    "        self.__x = x\n",
    "        self.__y = y\n",
    "        \n",
    "    def set_coord(self, x, y):\n",
    "        self.__x = x\n",
    "        self.__y = y\n",
    "    \n",
    "    def get_coord(self):\n",
    "        return self.__x, self.__y"
   ]
  },
  {
   "cell_type": "code",
   "execution_count": 7,
   "id": "0dd0bfe3",
   "metadata": {},
   "outputs": [
    {
     "data": {
      "text/plain": [
       "(33, 44)"
      ]
     },
     "execution_count": 7,
     "metadata": {},
     "output_type": "execute_result"
    }
   ],
   "source": [
    "pt = Point(11, 22)\n",
    "pt.set_coord(33, 44)\n",
    "pt.get_coord()"
   ]
  },
  {
   "cell_type": "markdown",
   "id": "69768a9e",
   "metadata": {},
   "source": [
    "Вспомогательные методы, которые работают с защищенными переменными, в объектно-ориентированном программировании называются сеттерами и геттерами (также их называют интерфейсными методами)."
   ]
  },
  {
   "cell_type": "markdown",
   "id": "98fe76fd",
   "metadata": {},
   "source": [
    "Класс стоит воспринимать как единое целое.И чтобы случайно или намеренно не нарушить целостность работы алгоритмов внутри этого класса, то следует взаимодействовать с ним только через публичные атрибуты (свойства и методы). В этом состоить суть принципа инкапсуляции."
   ]
  },
  {
   "cell_type": "markdown",
   "id": "086b8399",
   "metadata": {},
   "source": [
    "Назначение интерфейсных методов не только в том, чтобы передавать значение приватному элементу, но и в проверке корректности передаваемых значений. Например, если входящие переменные должны быть только целыми числами:"
   ]
  },
  {
   "cell_type": "code",
   "execution_count": 8,
   "id": "5f0715d1",
   "metadata": {},
   "outputs": [],
   "source": [
    "class Point:\n",
    "    def __init__(self, x=0, y=0):\n",
    "        self.__x = x\n",
    "        self.__y = y\n",
    "        \n",
    "    def set_coord(self, x, y):\n",
    "        if isinstance(x, int) and isinstance(y, int): \n",
    "            self.__x = x\n",
    "            self.__y = y\n",
    "        else: raise ValueError('Ошибка! Координаты должны быть целыми числами!')\n",
    "    \n",
    "    def get_coord(self):\n",
    "        return self.__x, self.__y"
   ]
  },
  {
   "cell_type": "markdown",
   "id": "fdbfb390",
   "metadata": {},
   "source": [
    "И теперь, если попробовать передать значение, отличное от типа int, будет генерироваться исключение:"
   ]
  },
  {
   "cell_type": "code",
   "execution_count": 9,
   "id": "dc4f886f",
   "metadata": {},
   "outputs": [],
   "source": [
    "# pt = Point()\n",
    "# pt.set_coord('st', 1)"
   ]
  },
  {
   "cell_type": "markdown",
   "id": "45211e60",
   "metadata": {},
   "source": [
    "Приватные методы объявляются так же, как и приватные свойства:"
   ]
  },
  {
   "cell_type": "code",
   "execution_count": 10,
   "id": "3b62bb00",
   "metadata": {},
   "outputs": [],
   "source": [
    "class Point:\n",
    "    def __init__(self, x=0, y=0):\n",
    "        self.__x = x\n",
    "        self.__y = y\n",
    "        \n",
    "    @classmethod    \n",
    "    def __check_value(cls, x):\n",
    "        return isinstance(x, int) \n",
    "        \n",
    "    def set_coord(self, x, y):\n",
    "        if self.__checkvalue(x) and self.__checkvalue(y): \n",
    "            self.__x = x\n",
    "            self.__y = y\n",
    "        else: raise ValueError('Ошибка! Координаты должны быть целыми числами!')\n",
    "    \n",
    "    def get_coord(self):\n",
    "        return self.__x, self.__y"
   ]
  },
  {
   "cell_type": "markdown",
   "id": "95b2ad32",
   "metadata": {},
   "source": [
    "Теперь в классе есть отдельная функция, которая осуществляет эту проверку. И теперь если проверка будет использоваться в нескольких местах, достаточно будет вызвать соответствующий метод."
   ]
  },
  {
   "cell_type": "markdown",
   "id": "f8121399",
   "metadata": {},
   "source": [
    "Проверка нужна также и в инициализаторе:"
   ]
  },
  {
   "cell_type": "code",
   "execution_count": 11,
   "id": "bcd6bf3a",
   "metadata": {},
   "outputs": [],
   "source": [
    "class Point:\n",
    "    def __init__(self, x=0, y=0):\n",
    "        if self.__check_value(x) and self.__check_value(y): \n",
    "            self.__x = x\n",
    "            self.__y = y\n",
    "        else: raise ValueError('Ошибка! Координаты должны быть целыми числами!')\n",
    "    \n",
    "        \n",
    "    @classmethod    \n",
    "    def __check_value(cls, x):\n",
    "        return isinstance(x, int) \n",
    "        \n",
    "    def set_coord(self, x, y):\n",
    "        if self.__check_value(x) and self.__check_value(y): \n",
    "            self.__x = x\n",
    "            self.__y = y\n",
    "        else: raise ValueError('Ошибка! Координаты должны быть целыми числами!')\n",
    "    \n",
    "    def get_coord(self):\n",
    "        return self.__x, self.__y"
   ]
  },
  {
   "cell_type": "code",
   "execution_count": 12,
   "id": "a9d34f5c",
   "metadata": {},
   "outputs": [
    {
     "data": {
      "text/plain": [
       "(10, 20)"
      ]
     },
     "execution_count": 12,
     "metadata": {},
     "output_type": "execute_result"
    }
   ],
   "source": [
    "pt = Point(10, 20)\n",
    "pt.get_coord()"
   ]
  },
  {
   "cell_type": "code",
   "execution_count": 13,
   "id": "673b6497",
   "metadata": {},
   "outputs": [],
   "source": [
    "# dir(pt)"
   ]
  },
  {
   "cell_type": "markdown",
   "id": "7577b0e4",
   "metadata": {},
   "source": [
    "Для более надежной защиты существует модуль accessify."
   ]
  }
 ],
 "metadata": {
  "kernelspec": {
   "display_name": "Python 3 (ipykernel)",
   "language": "python",
   "name": "python3"
  },
  "language_info": {
   "codemirror_mode": {
    "name": "ipython",
    "version": 3
   },
   "file_extension": ".py",
   "mimetype": "text/x-python",
   "name": "python",
   "nbconvert_exporter": "python",
   "pygments_lexer": "ipython3",
   "version": "3.9.13"
  }
 },
 "nbformat": 4,
 "nbformat_minor": 5
}
