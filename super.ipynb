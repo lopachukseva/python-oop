{
 "cells": [
  {
   "cell_type": "markdown",
   "id": "43599b32",
   "metadata": {},
   "source": [
    "Если в дочернем классе прописывается атрибут, которого нет в родительском (базовом) - это расширение (extended) родительского (базового) класса. Если в дочернем классе прописывается атрибут, который уже есть в родительском, то это называется переопределение (overriding)."
   ]
  },
  {
   "cell_type": "code",
   "execution_count": 1,
   "id": "59f639cf",
   "metadata": {},
   "outputs": [],
   "source": [
    "class Geom:\n",
    "    name = 'geom'\n",
    "    \n",
    "    def __init__(self):\n",
    "        print('Инициализатор класса Geom')\n",
    "\n",
    "\n",
    "class Line(Geom):\n",
    "    name = 'line' # переопределение\n",
    "    \n",
    "    def draw(self): # расширение\n",
    "        print('--рисунок линии--')"
   ]
  },
  {
   "cell_type": "code",
   "execution_count": 2,
   "id": "5f59b543",
   "metadata": {
    "scrolled": true
   },
   "outputs": [
    {
     "name": "stdout",
     "output_type": "stream",
     "text": [
      "Инициализатор класса Geom\n"
     ]
    }
   ],
   "source": [
    "l = Line()"
   ]
  },
  {
   "cell_type": "markdown",
   "id": "1afc00f5",
   "metadata": {},
   "source": [
    "Для создания экземпляра класса вызываются два метода - new и init. Поиск этих методов осуществляется по порядку: сначала в текущем классе, потом в базовом для него и так далее до класса object."
   ]
  },
  {
   "cell_type": "markdown",
   "id": "7f4be159",
   "metadata": {},
   "source": [
    "Если переопределить метод init в дочернем классе Line, то для создания его объекта будет использоваться именно он: "
   ]
  },
  {
   "cell_type": "code",
   "execution_count": 3,
   "id": "49bd789e",
   "metadata": {},
   "outputs": [],
   "source": [
    "class Geom:\n",
    "    name = 'geom'\n",
    "    \n",
    "    def __init__(self):\n",
    "        print('Инициализатор класса Geom')\n",
    "\n",
    "\n",
    "class Line(Geom):\n",
    "    name = 'line'\n",
    "    \n",
    "    def __init__(self):\n",
    "        print('Инициализатор класса Line')\n",
    "\n",
    "    \n",
    "    def draw(self):\n",
    "        print('--рисунок линии--')"
   ]
  },
  {
   "cell_type": "code",
   "execution_count": 4,
   "id": "466a04d2",
   "metadata": {},
   "outputs": [
    {
     "name": "stdout",
     "output_type": "stream",
     "text": [
      "Инициализатор класса Line\n"
     ]
    }
   ],
   "source": [
    "l = Line()"
   ]
  },
  {
   "cell_type": "markdown",
   "id": "aeae0228",
   "metadata": {},
   "source": [
    "Пропишем инициализатор для класса Line:"
   ]
  },
  {
   "cell_type": "code",
   "execution_count": 5,
   "id": "0f93230e",
   "metadata": {},
   "outputs": [],
   "source": [
    "class Geom:\n",
    "    name = 'geom'\n",
    "    \n",
    "    def __init__(self):\n",
    "        print('Инициализатор класса Geom')\n",
    "\n",
    "\n",
    "class Line(Geom):\n",
    "    name = 'line'\n",
    "    \n",
    "    def __init__(self, x1, y1, x2, y2):\n",
    "        self.x1 = x1\n",
    "        self.y1 = y1\n",
    "        self.x2 = x2\n",
    "        self.y2 = y2\n",
    "    \n",
    "    def draw(self):\n",
    "        print('--рисунок линии--')"
   ]
  },
  {
   "cell_type": "code",
   "execution_count": 6,
   "id": "f432e572",
   "metadata": {},
   "outputs": [
    {
     "name": "stdout",
     "output_type": "stream",
     "text": [
      "{'x1': 4, 'y1': 2, 'x2': 1, 'y2': 3}\n"
     ]
    }
   ],
   "source": [
    "l = Line(4, 2, 1, 3)\n",
    "print(l.__dict__)"
   ]
  },
  {
   "cell_type": "markdown",
   "id": "fb35f40f",
   "metadata": {},
   "source": [
    "Предположим, что добавился еще один класс, у которого инициализатор - аналогичен классу Line, но добавлен один дополнительный параметр:"
   ]
  },
  {
   "cell_type": "code",
   "execution_count": 7,
   "id": "24dec77a",
   "metadata": {},
   "outputs": [],
   "source": [
    "class Geom:\n",
    "    name = 'geom'\n",
    "    \n",
    "    def __init__(self):\n",
    "        print('Инициализатор класса Geom')\n",
    "\n",
    "\n",
    "class Line(Geom):\n",
    "    name = 'line'\n",
    "    \n",
    "    def __init__(self, x1, y1, x2, y2):\n",
    "        self.x1 = x1\n",
    "        self.y1 = y1\n",
    "        self.x2 = x2\n",
    "        self.y2 = y2\n",
    "    \n",
    "    def draw(self):\n",
    "        print('--рисунок линии--')\n",
    "        \n",
    "class Rect(Geom):\n",
    "    def __init__(self, x1, y1, x2, y2, fill=None):\n",
    "        self.x1 = x1\n",
    "        self.y1 = y1\n",
    "        self.x2 = x2\n",
    "        self.y2 = y2\n",
    "        self.fill = fill\n",
    "    \n",
    "    def draw(self):\n",
    "        print('--рисунок прямоугольника--')"
   ]
  },
  {
   "cell_type": "markdown",
   "id": "fc110442",
   "metadata": {},
   "source": [
    "Но получается, что в такой записи есть дублирование кода. Общее этих методов можно вынести в базовый класс Geom"
   ]
  },
  {
   "cell_type": "code",
   "execution_count": 8,
   "id": "74502b1c",
   "metadata": {},
   "outputs": [],
   "source": [
    "class Geom:\n",
    "    name = 'geom'\n",
    "    \n",
    "    def __init__(self, x1, y1, x2, y2):\n",
    "        print(f'Инициализатор класса Geom для {self.__class__}')\n",
    "        self.x1 = x1\n",
    "        self.y1 = y1\n",
    "        self.x2 = x2\n",
    "        self.y2 = y2\n",
    "        \n",
    "\n",
    "class Line(Geom):\n",
    "    name = 'line'\n",
    "    \n",
    "    def draw(self):\n",
    "        print('--рисунок линии--')\n",
    "\n",
    "        \n",
    "class Rect(Geom):\n",
    "    def __init__(self, x1, y1, x2, y2, fill=None):\n",
    "        print('Инициализатор класса Rect')\n",
    "        self.fill = fill\n",
    "    \n",
    "    def draw(self):\n",
    "        print('--рисунок прямоугольника--')"
   ]
  },
  {
   "cell_type": "markdown",
   "id": "36dea2eb",
   "metadata": {},
   "source": [
    "В случае с объектом Line все работает:"
   ]
  },
  {
   "cell_type": "code",
   "execution_count": 9,
   "id": "61463e61",
   "metadata": {},
   "outputs": [
    {
     "name": "stdout",
     "output_type": "stream",
     "text": [
      "Инициализатор класса Geom для <class '__main__.Line'>\n"
     ]
    }
   ],
   "source": [
    "l = Line(1, 2, 3, 4)"
   ]
  },
  {
   "cell_type": "markdown",
   "id": "84a86aec",
   "metadata": {},
   "source": [
    "Но в случае с Rect - нет, так как запускается только инициализатор Rect:"
   ]
  },
  {
   "cell_type": "code",
   "execution_count": 10,
   "id": "ac785c82",
   "metadata": {},
   "outputs": [
    {
     "name": "stdout",
     "output_type": "stream",
     "text": [
      "Инициализатор класса Rect\n"
     ]
    }
   ],
   "source": [
    "r = Rect(1, 2, 3, 4)"
   ]
  },
  {
   "cell_type": "markdown",
   "id": "9f003f75",
   "metadata": {},
   "source": [
    "И в его локальных свойствах нет координат:"
   ]
  },
  {
   "cell_type": "code",
   "execution_count": 11,
   "id": "9faebca7",
   "metadata": {},
   "outputs": [
    {
     "data": {
      "text/plain": [
       "{'fill': None}"
      ]
     },
     "execution_count": 11,
     "metadata": {},
     "output_type": "execute_result"
    }
   ],
   "source": [
    "r.__dict__"
   ]
  },
  {
   "cell_type": "markdown",
   "id": "13dc072e",
   "metadata": {},
   "source": [
    "Так как метод init был найден в классе Rect - на этом поиск остановился и он был выполнен."
   ]
  },
  {
   "cell_type": "markdown",
   "id": "6eab531b",
   "metadata": {},
   "source": [
    "Для того, чтобы вызвать инициализатор базового класса, необходимо явно его вызвать. Это можно сделать, указав непосредственно имя класса:"
   ]
  },
  {
   "cell_type": "code",
   "execution_count": 12,
   "id": "840201b2",
   "metadata": {},
   "outputs": [],
   "source": [
    "class Geom:\n",
    "    name = 'geom'\n",
    "    \n",
    "    def __init__(self, x1, y1, x2, y2):\n",
    "        print(f'Инициализатор класса Geom для {self.__class__}')\n",
    "        self.x1 = x1\n",
    "        self.y1 = y1\n",
    "        self.x2 = x2\n",
    "        self.y2 = y2\n",
    "        \n",
    "\n",
    "class Line(Geom):\n",
    "    name = 'line'\n",
    "    \n",
    "    def draw(self):\n",
    "        print('--рисунок линии--')\n",
    "\n",
    "        \n",
    "class Rect(Geom):\n",
    "    def __init__(self, x1, y1, x2, y2, fill=None):\n",
    "        print('Инициализатор класса Rect')\n",
    "        Geom.__init__(self, x1, y1, x2, y2)\n",
    "        self.fill = fill\n",
    "    \n",
    "    def draw(self):\n",
    "        print('--рисунок прямоугольника--')"
   ]
  },
  {
   "cell_type": "markdown",
   "id": "3754c54e",
   "metadata": {},
   "source": [
    "И в таком случае инициализатор будет вызван:"
   ]
  },
  {
   "cell_type": "code",
   "execution_count": 13,
   "id": "413f48ee",
   "metadata": {
    "scrolled": false
   },
   "outputs": [
    {
     "name": "stdout",
     "output_type": "stream",
     "text": [
      "Инициализатор класса Rect\n",
      "Инициализатор класса Geom для <class '__main__.Rect'>\n"
     ]
    }
   ],
   "source": [
    "r = Rect(1, 2, 3, 4)"
   ]
  },
  {
   "cell_type": "markdown",
   "id": "1cbf8268",
   "metadata": {},
   "source": [
    "И в локальных свойствах появятся координаты:"
   ]
  },
  {
   "cell_type": "code",
   "execution_count": 14,
   "id": "186b3949",
   "metadata": {},
   "outputs": [
    {
     "data": {
      "text/plain": [
       "{'x1': 1, 'y1': 2, 'x2': 3, 'y2': 4, 'fill': None}"
      ]
     },
     "execution_count": 14,
     "metadata": {},
     "output_type": "execute_result"
    }
   ],
   "source": [
    "r.__dict__"
   ]
  },
  {
   "cell_type": "markdown",
   "id": "c7763573",
   "metadata": {},
   "source": [
    "Но явно указывать имя класса - плохая практика, так как имена базовых классов, ровно как и иерархия наследования могут измениться. Поэтому в Python для обращения к базовому классу используют функцию super:"
   ]
  },
  {
   "cell_type": "markdown",
   "id": "eab8280f",
   "metadata": {},
   "source": [
    "### super()"
   ]
  },
  {
   "cell_type": "code",
   "execution_count": 15,
   "id": "843ddc79",
   "metadata": {},
   "outputs": [],
   "source": [
    "class Geom:\n",
    "    name = 'geom'\n",
    "    \n",
    "    def __init__(self, x1, y1, x2, y2):\n",
    "        print(f'Инициализатор класса Geom для {self.__class__}')\n",
    "        self.x1 = x1\n",
    "        self.y1 = y1\n",
    "        self.x2 = x2\n",
    "        self.y2 = y2\n",
    "        \n",
    "\n",
    "class Line(Geom):\n",
    "    name = 'line'\n",
    "    \n",
    "    def draw(self):\n",
    "        print('--рисунок линии--')\n",
    "\n",
    "        \n",
    "class Rect(Geom):\n",
    "    def __init__(self, x1, y1, x2, y2, fill=None):\n",
    "        print('Инициализатор класса Rect')\n",
    "        super().__init__(x1, y1, x2, y2)\n",
    "        self.fill = fill\n",
    "    \n",
    "    def draw(self):\n",
    "        print('--рисунок прямоугольника--')"
   ]
  },
  {
   "cell_type": "markdown",
   "id": "ec49a01d",
   "metadata": {},
   "source": [
    "Причем инициализатор базового класса в методе init стоит вызывать в самую первую очередь. "
   ]
  },
  {
   "cell_type": "code",
   "execution_count": 16,
   "id": "4f3522a4",
   "metadata": {},
   "outputs": [
    {
     "name": "stdout",
     "output_type": "stream",
     "text": [
      "Инициализатор класса Rect\n",
      "Инициализатор класса Geom для <class '__main__.Rect'>\n"
     ]
    }
   ],
   "source": [
    "r = Rect(1, 2, 3, 4)"
   ]
  },
  {
   "cell_type": "code",
   "execution_count": 17,
   "id": "1fad0233",
   "metadata": {},
   "outputs": [
    {
     "data": {
      "text/plain": [
       "{'x1': 1, 'y1': 2, 'x2': 3, 'y2': 4, 'fill': None}"
      ]
     },
     "execution_count": 17,
     "metadata": {},
     "output_type": "execute_result"
    }
   ],
   "source": [
    "r.__dict__"
   ]
  },
  {
   "cell_type": "markdown",
   "id": "7d141e07",
   "metadata": {},
   "source": [
    "Все работает так же, но программа при этом более универсальная."
   ]
  },
  {
   "cell_type": "markdown",
   "id": "cfe588e3",
   "metadata": {},
   "source": [
    "Вызов метода базового класса через функцию super называется делегированием."
   ]
  }
 ],
 "metadata": {
  "kernelspec": {
   "display_name": "Python 3 (ipykernel)",
   "language": "python",
   "name": "python3"
  },
  "language_info": {
   "codemirror_mode": {
    "name": "ipython",
    "version": 3
   },
   "file_extension": ".py",
   "mimetype": "text/x-python",
   "name": "python",
   "nbconvert_exporter": "python",
   "pygments_lexer": "ipython3",
   "version": "3.9.13"
  }
 },
 "nbformat": 4,
 "nbformat_minor": 5
}
