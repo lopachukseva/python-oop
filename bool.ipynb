{
 "cells": [
  {
   "cell_type": "markdown",
   "id": "6d03516c",
   "metadata": {},
   "source": [
    "## Функция bool и магические методы"
   ]
  },
  {
   "cell_type": "code",
   "execution_count": 1,
   "id": "7ce2e14d",
   "metadata": {},
   "outputs": [
    {
     "data": {
      "text/plain": [
       "True"
      ]
     },
     "execution_count": 1,
     "metadata": {},
     "output_type": "execute_result"
    }
   ],
   "source": [
    "bool(1)"
   ]
  },
  {
   "cell_type": "code",
   "execution_count": 2,
   "id": "e5562079",
   "metadata": {},
   "outputs": [
    {
     "data": {
      "text/plain": [
       "False"
      ]
     },
     "execution_count": 2,
     "metadata": {},
     "output_type": "execute_result"
    }
   ],
   "source": [
    "bool(0)"
   ]
  },
  {
   "cell_type": "code",
   "execution_count": 3,
   "id": "da0d94a6",
   "metadata": {},
   "outputs": [
    {
     "data": {
      "text/plain": [
       "True"
      ]
     },
     "execution_count": 3,
     "metadata": {},
     "output_type": "execute_result"
    }
   ],
   "source": [
    "bool('python')"
   ]
  },
  {
   "cell_type": "code",
   "execution_count": 4,
   "id": "0abbe697",
   "metadata": {},
   "outputs": [
    {
     "data": {
      "text/plain": [
       "False"
      ]
     },
     "execution_count": 4,
     "metadata": {},
     "output_type": "execute_result"
    }
   ],
   "source": [
    "bool('')"
   ]
  },
  {
   "cell_type": "markdown",
   "id": "15fb88ea",
   "metadata": {},
   "source": [
    "Правдивость экземпляра класса определяется, когда к нему явно или неявно применяется функция bool."
   ]
  },
  {
   "cell_type": "code",
   "execution_count": 5,
   "id": "02da2833",
   "metadata": {},
   "outputs": [],
   "source": [
    "class Point:\n",
    "    def __init__(self, x, y):\n",
    "        self.x = x\n",
    "        self.y = y"
   ]
  },
  {
   "cell_type": "code",
   "execution_count": 6,
   "id": "b5974433",
   "metadata": {},
   "outputs": [],
   "source": [
    "p = Point(1, 2)"
   ]
  },
  {
   "cell_type": "code",
   "execution_count": 7,
   "id": "f1f28f96",
   "metadata": {},
   "outputs": [
    {
     "data": {
      "text/plain": [
       "True"
      ]
     },
     "execution_count": 7,
     "metadata": {},
     "output_type": "execute_result"
    }
   ],
   "source": [
    "bool(p)"
   ]
  },
  {
   "cell_type": "markdown",
   "id": "d69353b0",
   "metadata": {},
   "source": [
    "Функция bool всегда возвращает True для любых объектов пользовательского класса. Но можно переопределить ее поведение либо через магический метод len или bool."
   ]
  },
  {
   "cell_type": "markdown",
   "id": "f6e2472c",
   "metadata": {},
   "source": [
    "Магический метод len вызывается функцией bool, если не определен магический метод bool;<br>\n",
    "Магический метод bool вызывается в приоритетном порядке функцией bool."
   ]
  },
  {
   "cell_type": "code",
   "execution_count": 8,
   "id": "00eda359",
   "metadata": {},
   "outputs": [],
   "source": [
    "class Point:\n",
    "    def __init__(self, x, y):\n",
    "        self.x = x\n",
    "        self.y = y\n",
    "        \n",
    "    def __len__(self):\n",
    "        print('__len__')\n",
    "        return self.x * self.x + self.y * self.y"
   ]
  },
  {
   "cell_type": "code",
   "execution_count": 9,
   "id": "50901855",
   "metadata": {},
   "outputs": [],
   "source": [
    "p = Point(1, 2)"
   ]
  },
  {
   "cell_type": "code",
   "execution_count": 10,
   "id": "6e9d8a4d",
   "metadata": {},
   "outputs": [
    {
     "name": "stdout",
     "output_type": "stream",
     "text": [
      "__len__\n"
     ]
    },
    {
     "data": {
      "text/plain": [
       "5"
      ]
     },
     "execution_count": 10,
     "metadata": {},
     "output_type": "execute_result"
    }
   ],
   "source": [
    "len(p)"
   ]
  },
  {
   "cell_type": "code",
   "execution_count": 11,
   "id": "48a7746f",
   "metadata": {},
   "outputs": [
    {
     "name": "stdout",
     "output_type": "stream",
     "text": [
      "__len__\n"
     ]
    },
    {
     "data": {
      "text/plain": [
       "True"
      ]
     },
     "execution_count": 11,
     "metadata": {},
     "output_type": "execute_result"
    }
   ],
   "source": [
    "bool(p)"
   ]
  },
  {
   "cell_type": "code",
   "execution_count": 12,
   "id": "df0b0014",
   "metadata": {},
   "outputs": [],
   "source": [
    "p2 = Point(0, 0)"
   ]
  },
  {
   "cell_type": "code",
   "execution_count": 13,
   "id": "72d69a56",
   "metadata": {},
   "outputs": [
    {
     "name": "stdout",
     "output_type": "stream",
     "text": [
      "__len__\n"
     ]
    },
    {
     "data": {
      "text/plain": [
       "0"
      ]
     },
     "execution_count": 13,
     "metadata": {},
     "output_type": "execute_result"
    }
   ],
   "source": [
    "len(p2)"
   ]
  },
  {
   "cell_type": "code",
   "execution_count": 14,
   "id": "7ca56897",
   "metadata": {},
   "outputs": [
    {
     "name": "stdout",
     "output_type": "stream",
     "text": [
      "__len__\n"
     ]
    },
    {
     "data": {
      "text/plain": [
       "False"
      ]
     },
     "execution_count": 14,
     "metadata": {},
     "output_type": "execute_result"
    }
   ],
   "source": [
    "bool(p2)"
   ]
  },
  {
   "cell_type": "markdown",
   "id": "829289a7",
   "metadata": {},
   "source": [
    "В данном случае функция len возвращает число, и истинность определяется уже по истинности числа (если ноль, то False, в остальных случаях - True)"
   ]
  },
  {
   "cell_type": "markdown",
   "id": "f9c96fa0",
   "metadata": {},
   "source": [
    "Если явно прописать в классе магический метод bool, то при вызове соответствующей функции будет запущен именно он:"
   ]
  },
  {
   "cell_type": "code",
   "execution_count": 15,
   "id": "ac51a96a",
   "metadata": {},
   "outputs": [],
   "source": [
    "class Point:\n",
    "    def __init__(self, x, y):\n",
    "        self.x = x\n",
    "        self.y = y\n",
    "        \n",
    "    def __len__(self):\n",
    "        print('__len__')\n",
    "        return self.x * self.x + self.y * self.y\n",
    "    \n",
    "    def __bool__(self):\n",
    "        print('__bool__')\n",
    "        return not (self.x == 0 and self.y == 0)"
   ]
  },
  {
   "cell_type": "code",
   "execution_count": 16,
   "id": "bf6058a8",
   "metadata": {},
   "outputs": [],
   "source": [
    "p1 = Point(1, 4)\n",
    "p2 = Point(0, 2)\n",
    "p3 = Point(0, 0)"
   ]
  },
  {
   "cell_type": "code",
   "execution_count": 17,
   "id": "2e67e640",
   "metadata": {},
   "outputs": [
    {
     "name": "stdout",
     "output_type": "stream",
     "text": [
      "__bool__\n",
      "__bool__\n",
      "__bool__\n",
      "True True False\n"
     ]
    }
   ],
   "source": [
    "print(bool(p1), bool(p2), bool(p3))"
   ]
  },
  {
   "cell_type": "markdown",
   "id": "eceaa9e6",
   "metadata": {},
   "source": [
    "В таком случае истинность объекта будет определена в соответствии с логикой, прописанной в магическом методе bool. Магический метод bool обязательно должен возвращать булевое значение - либо True, либо False."
   ]
  },
  {
   "cell_type": "markdown",
   "id": "1e6ed428",
   "metadata": {},
   "source": [
    "Использоваться это может, допустим, в условных операторах:"
   ]
  },
  {
   "cell_type": "code",
   "execution_count": 18,
   "id": "350b6725",
   "metadata": {},
   "outputs": [
    {
     "name": "stdout",
     "output_type": "stream",
     "text": [
      "__bool__\n",
      "Объект {point} является истинным\n",
      "__bool__\n",
      "Объект {point} является истинным\n",
      "__bool__\n",
      "Объект {point} является ложным\n"
     ]
    }
   ],
   "source": [
    "points = [p1, p2, p3]\n",
    "for point in points:\n",
    "    if point:\n",
    "        print('Объект {point} является истинным')\n",
    "    else: print('Объект {point} является ложным')"
   ]
  }
 ],
 "metadata": {
  "kernelspec": {
   "display_name": "Python 3 (ipykernel)",
   "language": "python",
   "name": "python3"
  },
  "language_info": {
   "codemirror_mode": {
    "name": "ipython",
    "version": 3
   },
   "file_extension": ".py",
   "mimetype": "text/x-python",
   "name": "python",
   "nbconvert_exporter": "python",
   "pygments_lexer": "ipython3",
   "version": "3.9.13"
  }
 },
 "nbformat": 4,
 "nbformat_minor": 5
}
