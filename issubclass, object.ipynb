{
 "cells": [
  {
   "cell_type": "markdown",
   "id": "e9a42397",
   "metadata": {},
   "source": [
    "## Функция issubclass, наследование от встроенных типов и от object"
   ]
  },
  {
   "cell_type": "markdown",
   "id": "b8ce8535",
   "metadata": {},
   "source": [
    "Пользовательский класс по умолчанию неявно наследуется от базового класса object. Объявление любого класса эквивалентно такой записи, когда явно указывается наследование от класса object:"
   ]
  },
  {
   "cell_type": "code",
   "execution_count": 1,
   "id": "49451faf",
   "metadata": {},
   "outputs": [],
   "source": [
    "class MyClass(object):\n",
    "    pass"
   ]
  },
  {
   "cell_type": "code",
   "execution_count": 2,
   "id": "eda30a3e",
   "metadata": {},
   "outputs": [
    {
     "data": {
      "text/plain": [
       "'MyClass'"
      ]
     },
     "execution_count": 2,
     "metadata": {},
     "output_type": "execute_result"
    }
   ],
   "source": [
    "MyClass.__name__"
   ]
  },
  {
   "cell_type": "markdown",
   "id": "f1a77339",
   "metadata": {},
   "source": [
    "Начиная с версии python 3 такое наследование реализуется автоматически, и нет никакой необходимости явно указывать класс object."
   ]
  },
  {
   "cell_type": "markdown",
   "id": "8502bcc3",
   "metadata": {},
   "source": [
    "Такое наследование необходимо для того, чтобы обеспечить базовый функционал работы с классами. К примеру, если создать экземпляр класса:"
   ]
  },
  {
   "cell_type": "code",
   "execution_count": 3,
   "id": "84f8aed1",
   "metadata": {},
   "outputs": [],
   "source": [
    "c = MyClass()"
   ]
  },
  {
   "cell_type": "markdown",
   "id": "b4cd380f",
   "metadata": {},
   "source": [
    "То с помощью магического метода str, который определен в базовом классе object, можно посмотреть информацию об объекте:"
   ]
  },
  {
   "cell_type": "code",
   "execution_count": 4,
   "id": "54a9dbe2",
   "metadata": {},
   "outputs": [
    {
     "data": {
      "text/plain": [
       "<__main__.MyClass at 0x1b4b4b3b610>"
      ]
     },
     "execution_count": 4,
     "metadata": {},
     "output_type": "execute_result"
    }
   ],
   "source": [
    "c"
   ]
  },
  {
   "cell_type": "markdown",
   "id": "7553a16e",
   "metadata": {},
   "source": [
    "Т.е. в данном случае срабатывает магический метод str, который содержится в базовом классе. Если его переопределить в дочернем - то будет работать уже тот, что определен в дочернем."
   ]
  },
  {
   "cell_type": "markdown",
   "id": "14300faf",
   "metadata": {},
   "source": [
    "### issubclass"
   ]
  },
  {
   "cell_type": "markdown",
   "id": "9a3cde95",
   "metadata": {},
   "source": [
    "С помощью функции issubclass можно определять, является ли тот или иной класс подклассом другого класса:"
   ]
  },
  {
   "cell_type": "code",
   "execution_count": 5,
   "id": "3000090d",
   "metadata": {},
   "outputs": [
    {
     "data": {
      "text/plain": [
       "True"
      ]
     },
     "execution_count": 5,
     "metadata": {},
     "output_type": "execute_result"
    }
   ],
   "source": [
    "issubclass(MyClass, object)"
   ]
  },
  {
   "cell_type": "code",
   "execution_count": 6,
   "id": "9c19eef0",
   "metadata": {},
   "outputs": [],
   "source": [
    "class MyClass2(MyClass):\n",
    "    pass"
   ]
  },
  {
   "cell_type": "code",
   "execution_count": 7,
   "id": "d533c41c",
   "metadata": {},
   "outputs": [
    {
     "data": {
      "text/plain": [
       "True"
      ]
     },
     "execution_count": 7,
     "metadata": {},
     "output_type": "execute_result"
    }
   ],
   "source": [
    "issubclass(MyClass2, object)"
   ]
  },
  {
   "cell_type": "code",
   "execution_count": 8,
   "id": "0daac38a",
   "metadata": {},
   "outputs": [
    {
     "data": {
      "text/plain": [
       "True"
      ]
     },
     "execution_count": 8,
     "metadata": {},
     "output_type": "execute_result"
    }
   ],
   "source": [
    "issubclass(MyClass2, MyClass)"
   ]
  },
  {
   "cell_type": "markdown",
   "id": "a4b30438",
   "metadata": {},
   "source": [
    "Функция issubclass работает только с классами. Для того, чтобы работать с объектами, существует функция isinstance."
   ]
  },
  {
   "cell_type": "markdown",
   "id": "e1b46c96",
   "metadata": {},
   "source": [
    "### isinstance"
   ]
  },
  {
   "cell_type": "code",
   "execution_count": 9,
   "id": "9a158754",
   "metadata": {},
   "outputs": [
    {
     "data": {
      "text/plain": [
       "True"
      ]
     },
     "execution_count": 9,
     "metadata": {},
     "output_type": "execute_result"
    }
   ],
   "source": [
    "isinstance(c, MyClass)"
   ]
  },
  {
   "cell_type": "code",
   "execution_count": 10,
   "id": "6f0c0fd6",
   "metadata": {},
   "outputs": [
    {
     "data": {
      "text/plain": [
       "True"
      ]
     },
     "execution_count": 10,
     "metadata": {},
     "output_type": "execute_result"
    }
   ],
   "source": [
    "isinstance(c, object)"
   ]
  },
  {
   "cell_type": "markdown",
   "id": "41c855fd",
   "metadata": {},
   "source": [
    "Отличие функции isinstance от функции issubclass только в том, что issubclass работает исключительно с классами, а isinstance - как с классами, так и с объектами."
   ]
  },
  {
   "cell_type": "markdown",
   "id": "ec8f6af9",
   "metadata": {},
   "source": [
    "Все стандартные типы данных в python также являются классами, которые наследуются от object:"
   ]
  },
  {
   "cell_type": "code",
   "execution_count": 11,
   "id": "cdc15ca4",
   "metadata": {},
   "outputs": [
    {
     "data": {
      "text/plain": [
       "True"
      ]
     },
     "execution_count": 11,
     "metadata": {},
     "output_type": "execute_result"
    }
   ],
   "source": [
    "issubclass(int, object)"
   ]
  }
 ],
 "metadata": {
  "kernelspec": {
   "display_name": "Python 3 (ipykernel)",
   "language": "python",
   "name": "python3"
  },
  "language_info": {
   "codemirror_mode": {
    "name": "ipython",
    "version": 3
   },
   "file_extension": ".py",
   "mimetype": "text/x-python",
   "name": "python",
   "nbconvert_exporter": "python",
   "pygments_lexer": "ipython3",
   "version": "3.9.13"
  }
 },
 "nbformat": 4,
 "nbformat_minor": 5
}
