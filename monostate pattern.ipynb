{
 "cells": [
  {
   "cell_type": "markdown",
   "id": "536e7897",
   "metadata": {},
   "source": [
    "## Паттерн \"моносостояние\""
   ]
  },
  {
   "cell_type": "markdown",
   "id": "32df3bed",
   "metadata": {},
   "source": [
    "Предположим, что мы хотим, чтобы все экземпляры класса имели единые локальные свойства (общие для всех). Так, чтобы их изменение внутри экземпляра отражалось на другие. "
   ]
  },
  {
   "cell_type": "markdown",
   "id": "d9d7e32c",
   "metadata": {},
   "source": [
    "Чтобы это реализовать, определим словарь shared_attrs, в котором будут записаны свойства. А в методе инициализации сделаем так, чтобы для каждого экземпляра коллекция dict, содержащая в себе все локальные свойства, ссылалась на словарь shared_attrs:"
   ]
  },
  {
   "cell_type": "code",
   "execution_count": 1,
   "id": "9cc5734f",
   "metadata": {},
   "outputs": [],
   "source": [
    "class ThreadData:\n",
    "    __shared_attrs = {\n",
    "        'name': 'threadX',\n",
    "        'data': {},\n",
    "        'id': 1\n",
    "    }\n",
    "    \n",
    "    def __init__(self):\n",
    "        self.__dict__ = self.__shared_attrs"
   ]
  },
  {
   "cell_type": "markdown",
   "id": "94906b5f",
   "metadata": {},
   "source": [
    "В итоге получится так, что коллекция dict всех создаваемых объектов будет ссылаться на один и тот же словарь. Таким образом у них будут общие свойства: "
   ]
  },
  {
   "cell_type": "code",
   "execution_count": 2,
   "id": "feb49a15",
   "metadata": {},
   "outputs": [],
   "source": [
    "td1 = ThreadData()"
   ]
  },
  {
   "cell_type": "code",
   "execution_count": 3,
   "id": "7ed22759",
   "metadata": {},
   "outputs": [],
   "source": [
    "td2 = ThreadData()"
   ]
  },
  {
   "cell_type": "code",
   "execution_count": 4,
   "id": "e2a57468",
   "metadata": {},
   "outputs": [
    {
     "data": {
      "text/plain": [
       "{'name': 'threadX', 'data': {}, 'id': 1}"
      ]
     },
     "execution_count": 4,
     "metadata": {},
     "output_type": "execute_result"
    }
   ],
   "source": [
    "td1.__dict__"
   ]
  },
  {
   "cell_type": "code",
   "execution_count": 5,
   "id": "73b34b22",
   "metadata": {},
   "outputs": [
    {
     "data": {
      "text/plain": [
       "{'name': 'threadX', 'data': {}, 'id': 1}"
      ]
     },
     "execution_count": 5,
     "metadata": {},
     "output_type": "execute_result"
    }
   ],
   "source": [
    "td2.__dict__"
   ]
  },
  {
   "cell_type": "markdown",
   "id": "5488de55",
   "metadata": {},
   "source": [
    "И изменение локального свойства одного из них:"
   ]
  },
  {
   "cell_type": "code",
   "execution_count": 6,
   "id": "42fab8d1",
   "metadata": {},
   "outputs": [],
   "source": [
    "td1.id = 8"
   ]
  },
  {
   "cell_type": "code",
   "execution_count": 7,
   "id": "b2746890",
   "metadata": {},
   "outputs": [],
   "source": [
    "td1.new_attr = 'new_attr' "
   ]
  },
  {
   "cell_type": "code",
   "execution_count": 8,
   "id": "0a245952",
   "metadata": {},
   "outputs": [
    {
     "data": {
      "text/plain": [
       "{'name': 'threadX', 'data': {}, 'id': 8, 'new_attr': 'new_attr'}"
      ]
     },
     "execution_count": 8,
     "metadata": {},
     "output_type": "execute_result"
    }
   ],
   "source": [
    "td1.__dict__"
   ]
  },
  {
   "cell_type": "markdown",
   "id": "692d47bf",
   "metadata": {},
   "source": [
    "Повлечет за собой изменение других:"
   ]
  },
  {
   "cell_type": "code",
   "execution_count": 9,
   "id": "e14a9b12",
   "metadata": {},
   "outputs": [
    {
     "data": {
      "text/plain": [
       "{'name': 'threadX', 'data': {}, 'id': 8, 'new_attr': 'new_attr'}"
      ]
     },
     "execution_count": 9,
     "metadata": {},
     "output_type": "execute_result"
    }
   ],
   "source": [
    "td2.__dict__"
   ]
  },
  {
   "cell_type": "markdown",
   "id": "26431e17",
   "metadata": {},
   "source": [
    "Так как из локальные свойства ссылаются на одну и ту же коллекцию:"
   ]
  },
  {
   "cell_type": "code",
   "execution_count": 10,
   "id": "5e0fb564",
   "metadata": {},
   "outputs": [
    {
     "data": {
      "text/plain": [
       "True"
      ]
     },
     "execution_count": 10,
     "metadata": {},
     "output_type": "execute_result"
    }
   ],
   "source": [
    "id(td1.__dict__) == id(td2.__dict__)"
   ]
  }
 ],
 "metadata": {
  "kernelspec": {
   "display_name": "Python 3 (ipykernel)",
   "language": "python",
   "name": "python3"
  },
  "language_info": {
   "codemirror_mode": {
    "name": "ipython",
    "version": 3
   },
   "file_extension": ".py",
   "mimetype": "text/x-python",
   "name": "python",
   "nbconvert_exporter": "python",
   "pygments_lexer": "ipython3",
   "version": "3.9.13"
  }
 },
 "nbformat": 4,
 "nbformat_minor": 5
}
