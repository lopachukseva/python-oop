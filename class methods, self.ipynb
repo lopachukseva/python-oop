{
 "cells": [
  {
   "cell_type": "markdown",
   "id": "72a2e0ba",
   "metadata": {},
   "source": [
    "Помимо свойств класс может содержать и методы. Методом называется функция, которая находится внутри класса. Благодаря методам внутри класса можно реализовывать самые разные алгоритмы."
   ]
  },
  {
   "cell_type": "markdown",
   "id": "5520a49b",
   "metadata": {},
   "source": [
    "Методы - это действия, и поэтому в названиях методов используют глаголы (set_value, get_value, start, stop, ...), в то время как именами свойств являются существительные (color, size, x, y). "
   ]
  },
  {
   "cell_type": "markdown",
   "id": "4fd165d6",
   "metadata": {},
   "source": [
    "Определим класс Point со свойствами color и circle, а также с методом set_coords:"
   ]
  },
  {
   "cell_type": "code",
   "execution_count": 1,
   "id": "7dd6268d",
   "metadata": {},
   "outputs": [],
   "source": [
    "class Point:\n",
    "    color = 'red'\n",
    "    circle = 2\n",
    "    \n",
    "    def set_coords():\n",
    "        print('Вызов метода set_coords')"
   ]
  },
  {
   "cell_type": "markdown",
   "id": "0aa1404f",
   "metadata": {},
   "source": [
    "И если обратиться к set_coords, то видно, что он является атрибутом класса Point:"
   ]
  },
  {
   "cell_type": "code",
   "execution_count": 2,
   "id": "4c92c34a",
   "metadata": {
    "scrolled": true
   },
   "outputs": [
    {
     "data": {
      "text/plain": [
       "<function __main__.Point.set_coords()>"
      ]
     },
     "execution_count": 2,
     "metadata": {},
     "output_type": "execute_result"
    }
   ],
   "source": [
    "Point.set_coords"
   ]
  },
  {
   "cell_type": "markdown",
   "id": "e52deab0",
   "metadata": {},
   "source": [
    "И поставив круглые скобки, его можно вызвать:"
   ]
  },
  {
   "cell_type": "code",
   "execution_count": 3,
   "id": "563d1762",
   "metadata": {},
   "outputs": [
    {
     "name": "stdout",
     "output_type": "stream",
     "text": [
      "Вызов метода set_coords\n"
     ]
    }
   ],
   "source": [
    "Point.set_coords()"
   ]
  },
  {
   "cell_type": "markdown",
   "id": "64240174",
   "metadata": {},
   "source": [
    "Создадим экзамепляр класса Point:"
   ]
  },
  {
   "cell_type": "code",
   "execution_count": 4,
   "id": "0755e606",
   "metadata": {},
   "outputs": [],
   "source": [
    "pt = Point()"
   ]
  },
  {
   "cell_type": "code",
   "execution_count": 5,
   "id": "8c57b7a2",
   "metadata": {},
   "outputs": [
    {
     "data": {
      "text/plain": [
       "<__main__.Point at 0x1c49e09b8e0>"
      ]
     },
     "execution_count": 5,
     "metadata": {},
     "output_type": "execute_result"
    }
   ],
   "source": [
    "pt"
   ]
  },
  {
   "cell_type": "markdown",
   "id": "795e9564",
   "metadata": {},
   "source": [
    "У него также есть атрибут set_coords:"
   ]
  },
  {
   "cell_type": "code",
   "execution_count": 6,
   "id": "9f04b548",
   "metadata": {},
   "outputs": [
    {
     "data": {
      "text/plain": [
       "<bound method Point.set_coords of <__main__.Point object at 0x000001C49E09B8E0>>"
      ]
     },
     "execution_count": 6,
     "metadata": {},
     "output_type": "execute_result"
    }
   ],
   "source": [
    "pt.set_coords"
   ]
  },
  {
   "cell_type": "markdown",
   "id": "d4dc83c2",
   "metadata": {},
   "source": [
    "Но если его вызвать, возникнет ошибка:"
   ]
  },
  {
   "cell_type": "code",
   "execution_count": 7,
   "id": "3ae2c6d8",
   "metadata": {},
   "outputs": [],
   "source": [
    "# pt.set_coords()"
   ]
  },
  {
   "cell_type": "markdown",
   "id": "58095376",
   "metadata": {},
   "source": [
    "Ошибка в том, что методу set_coords передается один аргумент, а метод определен в классе без параметров. Интерпретатор Python, когда какой либо метод вызывается через объект класса, автоматически в качестве первого аргумента передает параметр self. Параметр self является ссылкой на экземпляр класса, от которого этот метод вызывается. И так происходит всегда для любого объекта класса."
   ]
  },
  {
   "cell_type": "markdown",
   "id": "56f06c3a",
   "metadata": {},
   "source": [
    "Поэтому если внутри класса нужно объявить какой либо метод, чтобы потом вызывать его через объект класса, то в качестве первого параметра нужно обязательно указать self, который будет ссылаться на тот экземпляр, через который был вызван данный метод:"
   ]
  },
  {
   "cell_type": "code",
   "execution_count": 8,
   "id": "bcc92437",
   "metadata": {},
   "outputs": [],
   "source": [
    "class Point:\n",
    "    color = 'red'\n",
    "    circle = 2\n",
    "    \n",
    "    def set_coords(self):\n",
    "        print('Вызов метода set_coords ' + str(self))"
   ]
  },
  {
   "cell_type": "code",
   "execution_count": 9,
   "id": "ca90564d",
   "metadata": {},
   "outputs": [],
   "source": [
    "pt = Point()"
   ]
  },
  {
   "cell_type": "markdown",
   "id": "d32a494f",
   "metadata": {},
   "source": [
    "И теперь метод будет вызываться через экземпляр класса:"
   ]
  },
  {
   "cell_type": "code",
   "execution_count": 10,
   "id": "9abff791",
   "metadata": {},
   "outputs": [
    {
     "name": "stdout",
     "output_type": "stream",
     "text": [
      "Вызов метода set_coords <__main__.Point object at 0x000001C49E0E9A60>\n"
     ]
    }
   ],
   "source": [
    "pt.set_coords()"
   ]
  },
  {
   "cell_type": "markdown",
   "id": "19c28f03",
   "metadata": {},
   "source": [
    "И адрес полностью совпадает:"
   ]
  },
  {
   "cell_type": "code",
   "execution_count": 11,
   "id": "07769271",
   "metadata": {},
   "outputs": [
    {
     "data": {
      "text/plain": [
       "<__main__.Point at 0x1c49e0e9a60>"
      ]
     },
     "execution_count": 11,
     "metadata": {},
     "output_type": "execute_result"
    }
   ],
   "source": [
    "pt"
   ]
  },
  {
   "cell_type": "markdown",
   "id": "68d812de",
   "metadata": {},
   "source": [
    "Но теперь, если попробовать вызвать этот метод от класса, возникнет ошибка:"
   ]
  },
  {
   "cell_type": "code",
   "execution_count": 12,
   "id": "0e17ac74",
   "metadata": {},
   "outputs": [],
   "source": [
    "# Point.set_coords()"
   ]
  },
  {
   "cell_type": "markdown",
   "id": "e2329433",
   "metadata": {},
   "source": [
    "Потому что не указан первый параметр - ссылка на объект. Когда метод вызывается из класса, то автоматически ссылка на объект не подставляется, так как объекта нет. "
   ]
  },
  {
   "cell_type": "markdown",
   "id": "f6c77004",
   "metadata": {},
   "source": [
    "Можно явно передать ссылку на объект:"
   ]
  },
  {
   "cell_type": "code",
   "execution_count": 13,
   "id": "0a8cee08",
   "metadata": {},
   "outputs": [
    {
     "name": "stdout",
     "output_type": "stream",
     "text": [
      "Вызов метода set_coords <__main__.Point object at 0x000001C49E0E9A60>\n"
     ]
    }
   ],
   "source": [
    "Point.set_coords(pt)"
   ]
  },
  {
   "cell_type": "markdown",
   "id": "703aad4b",
   "metadata": {},
   "source": [
    "И такая запись будет эквивалентна предыдущей записи. "
   ]
  },
  {
   "cell_type": "markdown",
   "id": "294cf1aa",
   "metadata": {},
   "source": [
    "Так как self - ссылка на экземпляр класса, то через него можно создавать в нем новый атрибут:"
   ]
  },
  {
   "cell_type": "code",
   "execution_count": 14,
   "id": "695b4fbe",
   "metadata": {},
   "outputs": [],
   "source": [
    "class Point:\n",
    "    color = 'red'\n",
    "    circle = 2\n",
    "    \n",
    "    def set_coords(self, x, y):\n",
    "        self.x = x\n",
    "        self.y = y"
   ]
  },
  {
   "cell_type": "code",
   "execution_count": 15,
   "id": "17789461",
   "metadata": {},
   "outputs": [],
   "source": [
    "pt = Point()"
   ]
  },
  {
   "cell_type": "code",
   "execution_count": 16,
   "id": "02e4d113",
   "metadata": {},
   "outputs": [],
   "source": [
    "pt.set_coords(3, 4)"
   ]
  },
  {
   "cell_type": "markdown",
   "id": "bc23bda5",
   "metadata": {},
   "source": [
    "И таким образом в экземпляре класса pt созданы два локальных атрибута x и y с соответствующими значениями, которые были переданы методу set_coords:"
   ]
  },
  {
   "cell_type": "code",
   "execution_count": 17,
   "id": "9df8de7e",
   "metadata": {},
   "outputs": [
    {
     "data": {
      "text/plain": [
       "{'x': 3, 'y': 4}"
      ]
     },
     "execution_count": 17,
     "metadata": {},
     "output_type": "execute_result"
    }
   ],
   "source": [
    "pt.__dict__"
   ]
  },
  {
   "cell_type": "markdown",
   "id": "acce9c24",
   "metadata": {},
   "source": [
    "Именно для этого и нужен параметр self - чтобы была возможность работать с локальными атрибутами конкретного экземляра класса. Когда в программе создается много экземпляров одного и того же класса, то метод не копируется в отдельные экземпляры. И только благодаря параметру self он узнает, с каким именно экземпляром необходимо работать. Через него можно как создавать, так и менять существующие локальные свойства экземпляра класса. "
   ]
  },
  {
   "cell_type": "markdown",
   "id": "e6577a04",
   "metadata": {},
   "source": [
    "Создадим второй экземпляр класса:"
   ]
  },
  {
   "cell_type": "code",
   "execution_count": 18,
   "id": "0339520e",
   "metadata": {},
   "outputs": [],
   "source": [
    "pt2 = Point()"
   ]
  },
  {
   "cell_type": "markdown",
   "id": "b6ca82b5",
   "metadata": {},
   "source": [
    "И вызовем для него метод set_coords с параметрами 8, 10:"
   ]
  },
  {
   "cell_type": "code",
   "execution_count": 19,
   "id": "efcfb310",
   "metadata": {},
   "outputs": [],
   "source": [
    "pt2.set_coords(8, 10)"
   ]
  },
  {
   "cell_type": "markdown",
   "id": "252030e4",
   "metadata": {},
   "source": [
    "И выведем локальные свойства для двух объектов:"
   ]
  },
  {
   "cell_type": "code",
   "execution_count": 20,
   "id": "c51805a7",
   "metadata": {},
   "outputs": [
    {
     "data": {
      "text/plain": [
       "{'x': 3, 'y': 4}"
      ]
     },
     "execution_count": 20,
     "metadata": {},
     "output_type": "execute_result"
    }
   ],
   "source": [
    "pt.__dict__"
   ]
  },
  {
   "cell_type": "code",
   "execution_count": 21,
   "id": "1a09f526",
   "metadata": {},
   "outputs": [
    {
     "data": {
      "text/plain": [
       "{'x': 8, 'y': 10}"
      ]
     },
     "execution_count": 21,
     "metadata": {},
     "output_type": "execute_result"
    }
   ],
   "source": [
    "pt2.__dict__"
   ]
  },
  {
   "cell_type": "markdown",
   "id": "396f80a9",
   "metadata": {},
   "source": [
    "Как видим, значение отличаются, а значит работают независимо. А метод для их создания используется один и тот же."
   ]
  },
  {
   "cell_type": "markdown",
   "id": "76aa8de1",
   "metadata": {},
   "source": [
    "В классе можно прописывать произвольное количество методов. Создадим для класса второй метод, который будет возвращать координаты при вызове. Внутри метода для того, чтобы обратиться к локальным параметрам экземпляра, нужно использовать self:"
   ]
  },
  {
   "cell_type": "code",
   "execution_count": 22,
   "id": "9f558bdb",
   "metadata": {},
   "outputs": [],
   "source": [
    "class Point:\n",
    "    color = 'red'\n",
    "    circle = 2\n",
    "    \n",
    "    def set_coords(self, x, y):\n",
    "        self.x = x\n",
    "        self.y = y\n",
    "        \n",
    "    def get_coords(self):\n",
    "        print(f'Координата x - {self.x}, координата y - {self.y}')"
   ]
  },
  {
   "cell_type": "code",
   "execution_count": 23,
   "id": "3d46a9e9",
   "metadata": {},
   "outputs": [],
   "source": [
    "pt = Point()\n",
    "pt2 = Point()\n",
    "pt.set_coords(3, 4)\n",
    "pt2.set_coords(10, 8)"
   ]
  },
  {
   "cell_type": "code",
   "execution_count": 24,
   "id": "63d8b53a",
   "metadata": {},
   "outputs": [
    {
     "name": "stdout",
     "output_type": "stream",
     "text": [
      "Координата x - 3, координата y - 4\n"
     ]
    }
   ],
   "source": [
    "pt.get_coords()"
   ]
  },
  {
   "cell_type": "code",
   "execution_count": 25,
   "id": "7c60a799",
   "metadata": {},
   "outputs": [
    {
     "name": "stdout",
     "output_type": "stream",
     "text": [
      "Координата x - 10, координата y - 8\n"
     ]
    }
   ],
   "source": [
    "pt2.get_coords()"
   ]
  },
  {
   "cell_type": "markdown",
   "id": "e75ea924",
   "metadata": {},
   "source": [
    "Имена методов, ровно как и имена свойств, также являются атрибутами. Просто они ведут не на данные, а на методы. И так как это атрибуты класса, то к ним можно получить доступ через функцию getattr:"
   ]
  },
  {
   "cell_type": "code",
   "execution_count": 26,
   "id": "fcffc9c8",
   "metadata": {},
   "outputs": [],
   "source": [
    "f = getattr(pt, 'get_coords')"
   ]
  },
  {
   "cell_type": "markdown",
   "id": "ce3bb17a",
   "metadata": {},
   "source": [
    "f будет ссылаться на метод класса Point:"
   ]
  },
  {
   "cell_type": "code",
   "execution_count": 27,
   "id": "24a7e1c4",
   "metadata": {},
   "outputs": [
    {
     "data": {
      "text/plain": [
       "<bound method Point.get_coords of <__main__.Point object at 0x000001C49E0F89A0>>"
      ]
     },
     "execution_count": 27,
     "metadata": {},
     "output_type": "execute_result"
    }
   ],
   "source": [
    "f"
   ]
  },
  {
   "cell_type": "markdown",
   "id": "143e4d59",
   "metadata": {},
   "source": [
    "И его можно вызвать:"
   ]
  },
  {
   "cell_type": "code",
   "execution_count": 28,
   "id": "34936a9c",
   "metadata": {},
   "outputs": [
    {
     "name": "stdout",
     "output_type": "stream",
     "text": [
      "Координата x - 3, координата y - 4\n"
     ]
    }
   ],
   "source": [
    "f()"
   ]
  }
 ],
 "metadata": {
  "kernelspec": {
   "display_name": "Python 3 (ipykernel)",
   "language": "python",
   "name": "python3"
  },
  "language_info": {
   "codemirror_mode": {
    "name": "ipython",
    "version": 3
   },
   "file_extension": ".py",
   "mimetype": "text/x-python",
   "name": "python",
   "nbconvert_exporter": "python",
   "pygments_lexer": "ipython3",
   "version": "3.9.13"
  }
 },
 "nbformat": 4,
 "nbformat_minor": 5
}
